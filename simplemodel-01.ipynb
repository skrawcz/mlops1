{
 "cells": [
  {
   "cell_type": "markdown",
   "id": "3e82d7cb",
   "metadata": {},
   "source": [
    "# A Simple Model"
   ]
  },
  {
   "cell_type": "code",
   "execution_count": 1,
   "id": "b0ac2c7a",
   "metadata": {},
   "outputs": [],
   "source": [
    "import pandas as pd\n",
    "from sklearn import base\n",
    "from sklearn import preprocessing\n",
    "from sklearn.linear_model import SGDClassifier\n",
    "from sklearn.model_selection import train_test_split\n",
    "import joblib\n",
    "import numpy as np\n",
    "import matplotlib.pyplot as plt\n",
    "from pathlib import Path\n",
    "%matplotlib inline"
   ]
  },
  {
   "cell_type": "code",
   "execution_count": 2,
   "id": "cb8d1e84",
   "metadata": {},
   "outputs": [],
   "source": [
    "from typing import List, Union, Tuple, Dict"
   ]
  },
  {
   "cell_type": "code",
   "execution_count": 3,
   "id": "3400712a",
   "metadata": {},
   "outputs": [],
   "source": [
    "RANDOM_STATE = 42"
   ]
  },
  {
   "cell_type": "code",
   "execution_count": 4,
   "id": "99f81659",
   "metadata": {},
   "outputs": [],
   "source": [
    "train_df_path = \"data/train.csv\"\n",
    "test_df_path = \"data/test.csv\""
   ]
  },
  {
   "cell_type": "markdown",
   "id": "3e221267",
   "metadata": {},
   "source": [
    "Here are the features in the data:"
   ]
  },
  {
   "cell_type": "markdown",
   "id": "dcf91917",
   "metadata": {},
   "source": [
    "```\n",
    "survived - Survival (0 = No; 1 = Yes)\n",
    "class - Passenger Class (1 = 1st; 2 = 2nd; 3 = 3rd)\n",
    "name - Name\n",
    "sex - Sex\n",
    "age - Age\n",
    "sibsp - Number of Siblings/Spouses Aboard\n",
    "parch - Number of Parents/Children Aboard\n",
    "ticket - Ticket Number\n",
    "fare - Passenger Fare\n",
    "cabin - Cabin\n",
    "embarked - Port of Embarkation (C = Cherbourg; Q = Queenstown; S = Southampton)\n",
    "boat - Lifeboat (if survived)\n",
    "body - Body number (if did not survive and body was recovered)\n",
    "```"
   ]
  },
  {
   "cell_type": "code",
   "execution_count": 5,
   "id": "75df8462",
   "metadata": {},
   "outputs": [],
   "source": [
    "# Constant\n",
    "index_col = 'passengerid'\n",
    "drop_cols = [\"name\", \"sibsp\", \"parch\", \"ticket\"]\n",
    "target_col = \"survived\"\n",
    "target_names = [\"died\", target_col]\n",
    "cat_cols = [\"sex\", \"cabin\", \"embarked\"]"
   ]
  },
  {
   "cell_type": "markdown",
   "id": "fc64eca2",
   "metadata": {},
   "source": [
    "## Functions"
   ]
  },
  {
   "cell_type": "code",
   "execution_count": 6,
   "id": "035c4e7c",
   "metadata": {},
   "outputs": [],
   "source": [
    "def _sanitize_columns(\n",
    "    df_columns: List[str] # the current column names\n",
    ") -> List[str]: # sanitized column names\n",
    "    return [c.strip().replace(\"/\", \"_per_\").replace(\" \", \"_\").lower() for c in df_columns]"
   ]
  },
  {
   "cell_type": "code",
   "execution_count": 7,
   "id": "f9d70156",
   "metadata": {},
   "outputs": [
    {
     "data": {
      "text/plain": [
       "['passengerid',\n",
       " 'survived',\n",
       " 'pclass',\n",
       " 'name',\n",
       " 'sex',\n",
       " 'age',\n",
       " 'sibsp',\n",
       " 'parch',\n",
       " 'ticket',\n",
       " 'fare',\n",
       " 'cabin',\n",
       " 'embarked']"
      ]
     },
     "execution_count": 7,
     "metadata": {},
     "output_type": "execute_result"
    }
   ],
   "source": [
    "cols = 'PassengerId,Survived,Pclass,Name,Sex,Age,SibSp,Parch,Ticket,Fare,Cabin,Embarked'.strip().split(',')\n",
    "_sanitize_columns(cols)"
   ]
  },
  {
   "cell_type": "code",
   "execution_count": 8,
   "id": "2b727549",
   "metadata": {},
   "outputs": [],
   "source": [
    "cols_test = list(set(cols) - set(['Survived']))"
   ]
  },
  {
   "cell_type": "code",
   "execution_count": 9,
   "id": "97274a82",
   "metadata": {},
   "outputs": [
    {
     "data": {
      "text/plain": [
       "['hello_world', 'revenue_per_user', 'camelcase']"
      ]
     },
     "execution_count": 9,
     "metadata": {},
     "output_type": "execute_result"
    }
   ],
   "source": [
    "_sanitize_columns([\"hello world\",\"revenue/user\", \"CamelCase\"])"
   ]
  },
  {
   "cell_type": "markdown",
   "id": "71460590",
   "metadata": {},
   "source": [
    "### for Feature Engineering"
   ]
  },
  {
   "cell_type": "code",
   "execution_count": 10,
   "id": "a8fcf067",
   "metadata": {},
   "outputs": [],
   "source": [
    "# print(\"Engineering features...\")\n",
    "# y = df_train[obj_col]\n",
    "# train_df = feature_engineering(df_train).drop(drop_cols + [obj_col], axis=1)\n",
    "# test_df = feature_engineering(df_test).drop(drop_cols, axis=1)\n",
    "# train_df, test_df, mappings = to_category(train_df, test_df)"
   ]
  },
  {
   "cell_type": "code",
   "execution_count": 11,
   "id": "44d1c21e",
   "metadata": {},
   "outputs": [],
   "source": [
    "def input_data(\n",
    "    raw_data: pd.DataFrame, # just loaded raw dataframe, could be fron anywhere\n",
    "    cols: List[str], # columns from the dataframe to consider and sanitize. Must contain index_col.\n",
    "    index_col: str # column to use as unique index\n",
    ") -> pd.DataFrame: # sanitized dataframe\n",
    "    df = raw_data.copy()[cols]\n",
    "    df.columns = _sanitize_columns(cols)\n",
    "    return df.set_index(index_col)"
   ]
  },
  {
   "cell_type": "code",
   "execution_count": 28,
   "id": "c5e24bb1",
   "metadata": {},
   "outputs": [],
   "source": [
    "def target(\n",
    "    input_data: pd.DataFrame, # input dataframe,\n",
    "    target_col: str # this is the column that we want from the dataframe\n",
    ") -> pd.Series: # return series corresponding to target\n",
    "    return input_data[target_col]"
   ]
  },
  {
   "cell_type": "code",
   "execution_count": 13,
   "id": "c9366b5b",
   "metadata": {},
   "outputs": [],
   "source": [
    "def features(\n",
    "    input_data: pd.DataFrame, # input dataframe,\n",
    "    target_col: str, # this is the column that we want from the dataframe\n",
    ") -> pd.DataFrame: # return dataframe corresponding to the feature matrix\n",
    "    if target_col in input_data.columns:\n",
    "        return input_data.drop([target_col], axis=1)\n",
    "    return input_data"
   ]
  },
  {
   "cell_type": "code",
   "execution_count": 14,
   "id": "8b571656",
   "metadata": {},
   "outputs": [],
   "source": [
    "def cabin_t(\n",
    "    cabin: pd.Series # raw cabin info\n",
    ") -> pd.Series: # transformed cabin info\n",
    "    return cabin.apply(lambda x: x[:1] if x is not np.nan else np.nan)"
   ]
  },
  {
   "cell_type": "code",
   "execution_count": 15,
   "id": "5f6ffbf9",
   "metadata": {},
   "outputs": [],
   "source": [
    "def ticket_t(\n",
    "    ticket: pd.Series # raw ticket number\n",
    ") -> pd.Series: # transformed ticket number\n",
    "    return ticket.apply(lambda x: str(x).split()[0])"
   ]
  },
  {
   "cell_type": "code",
   "execution_count": 16,
   "id": "d1fa0fa2",
   "metadata": {},
   "outputs": [],
   "source": [
    "def family(\n",
    "    sibsp: pd.Series, # number of siblings\n",
    "    parch: pd.Series # number of parents/children\n",
    ") -> pd.Series: # number of people in family\n",
    "    return sibsp + parch"
   ]
  },
  {
   "cell_type": "code",
   "execution_count": 17,
   "id": "5de0794c",
   "metadata": {},
   "outputs": [],
   "source": [
    "def _label_encoder(\n",
    "    input_series: pd.Series # series to categorize\n",
    ") -> preprocessing.LabelEncoder: # sklearn label encoder\n",
    "    le = preprocessing.LabelEncoder()\n",
    "    le.fit(input_series)\n",
    "    return le"
   ]
  },
  {
   "cell_type": "code",
   "execution_count": 18,
   "id": "6701a042",
   "metadata": {},
   "outputs": [],
   "source": [
    "def _label_transformer(\n",
    "    fit_le: preprocessing.LabelEncoder, # a fit label encoder\n",
    "    input_series: pd.Series # series to transform \n",
    ") -> pd.Series: # transformed series\n",
    "    return fit_le.transform(input_series)"
   ]
  },
  {
   "cell_type": "code",
   "execution_count": 19,
   "id": "71285df9",
   "metadata": {},
   "outputs": [],
   "source": [
    "def transformed_features(\n",
    "    universe: pd.DataFrame, # a dataframe with categorical columns that capture all categorical levels\n",
    "    features: pd.DataFrame, # input feature matrix\n",
    "    cat_cols: List[str], # columns to categorize)\n",
    "    cabin_t: pd.Series, # transformed cabin number\n",
    "    ticket_t: pd.Series, # transformed ticket number\n",
    "    labelencoders = Union[List[preprocessing.LabelEncoder], None] # Label Encoders if fit, else None\n",
    ") -> Tuple[pd.DataFrame, List[preprocessing.LabelEncoder]] : # engineered features and labelencoders\n",
    "    df = features.copy().drop(['cabin', 'ticket']+cat_cols, axis=1)\n",
    "    df['cabin'] = cabin_t\n",
    "    df['ticket'] = ticket_t\n",
    "    if labelencoders is None:\n",
    "        les = [None]*len(cat_cols)\n",
    "    else:\n",
    "        les = labelencoders\n",
    "    againles = []\n",
    "    for col, le in zip(cat_cols, les):\n",
    "        if le == None:\n",
    "            le = _label_encoder(universe[col])\n",
    "        df[col] = _label_transformer(le, features[col])\n",
    "        againles.append(le)\n",
    "    return df, againles"
   ]
  },
  {
   "cell_type": "code",
   "execution_count": 20,
   "id": "fa6c1e17",
   "metadata": {},
   "outputs": [],
   "source": [
    "def engineered_features(\n",
    "    transformed_features: pd.DataFrame, # feature matrix with some columns trandformed\n",
    "    family: pd.Series, # newly creates family column\n",
    ") -> pd.DataFrame: # dataframe with dropped columns ready to feed into model\n",
    "    df = transformed_features.copy()\n",
    "    df['family'] = family\n",
    "    return df"
   ]
  },
  {
   "cell_type": "code",
   "execution_count": 21,
   "id": "9d805e20",
   "metadata": {},
   "outputs": [],
   "source": [
    "def dropped_features(\n",
    "    engineered_features: pd.DataFrame, # feature matrix with engineered features added in\n",
    "    drop_cols: List[str], # these are the columns we want to drop\n",
    ") -> pd.DataFrame: # dataframe with dropped columns\n",
    "    df = engineered_features.copy()\n",
    "    return df.drop(drop_cols, axis=1)\n",
    "\n"
   ]
  },
  {
   "cell_type": "code",
   "execution_count": 22,
   "id": "62137537",
   "metadata": {},
   "outputs": [],
   "source": [
    "def final_imputed_features(\n",
    "    dropped_features: pd.DataFrame, # feature matrix with features dropped\n",
    ") -> pd.DataFrame: # dataframe with imputed columns ready to feed into model\n",
    "    df = dropped_features.copy()\n",
    "    return df.fillna(0)"
   ]
  },
  {
   "cell_type": "markdown",
   "id": "cbd81c88",
   "metadata": {},
   "source": [
    "### for Data Splits"
   ]
  },
  {
   "cell_type": "code",
   "execution_count": 23,
   "id": "e1c1d3eb",
   "metadata": {},
   "outputs": [],
   "source": [
    "def train_valid_split_func(\n",
    "    final_imputed_features: pd.DataFrame, # feature matrix\n",
    "    target: pd.Series, # the target or the y\n",
    "    validation_size_fraction: float, # the validation fraction\n",
    "    random_state: int, # random state for reproducibility\n",
    "    stratify: pd.Series, # series whose values we use to stratify by\n",
    ") -> Tuple[List[pd.DataFrame], List[pd.Series]]: # dictionary of dataframes and Series\n",
    "    \"\"\"Function that creates the training & test splits.\n",
    "    It this then extracted out into constituent components and used downstream.\n",
    "    \"\"\"\n",
    "    X_train, X_test, y_train, y_test = train_test_split(\n",
    "        final_imputed_features, target, test_size=validation_size_fraction, stratify=stratify\n",
    "    )\n",
    "    return [X_train, X_test], [y_train, y_test]\n"
   ]
  },
  {
   "cell_type": "markdown",
   "id": "b36ee693",
   "metadata": {},
   "source": [
    "## Working On Actual Data\n",
    "\n",
    "Our test set here actually has no ground truth. We'll thus use the original training set and split it up into train and validation. "
   ]
  },
  {
   "cell_type": "code",
   "execution_count": 24,
   "id": "ad9d5547",
   "metadata": {},
   "outputs": [],
   "source": [
    "def data__csv(\n",
    "    path: str # path to csv file\n",
    ") -> pd.DataFrame: # dataframe read from csv file\n",
    "    return pd.read_csv(path)"
   ]
  },
  {
   "cell_type": "code",
   "execution_count": 29,
   "id": "e33df35f",
   "metadata": {},
   "outputs": [
    {
     "name": "stdout",
     "output_type": "stream",
     "text": [
      "Loading data...\n"
     ]
    },
    {
     "data": {
      "text/html": [
       "<div>\n",
       "<style scoped>\n",
       "    .dataframe tbody tr th:only-of-type {\n",
       "        vertical-align: middle;\n",
       "    }\n",
       "\n",
       "    .dataframe tbody tr th {\n",
       "        vertical-align: top;\n",
       "    }\n",
       "\n",
       "    .dataframe thead th {\n",
       "        text-align: right;\n",
       "    }\n",
       "</style>\n",
       "<table border=\"1\" class=\"dataframe\">\n",
       "  <thead>\n",
       "    <tr style=\"text-align: right;\">\n",
       "      <th></th>\n",
       "      <th>survived</th>\n",
       "      <th>pclass</th>\n",
       "      <th>name</th>\n",
       "      <th>sex</th>\n",
       "      <th>age</th>\n",
       "      <th>sibsp</th>\n",
       "      <th>parch</th>\n",
       "      <th>ticket</th>\n",
       "      <th>fare</th>\n",
       "      <th>cabin</th>\n",
       "      <th>embarked</th>\n",
       "    </tr>\n",
       "    <tr>\n",
       "      <th>passengerid</th>\n",
       "      <th></th>\n",
       "      <th></th>\n",
       "      <th></th>\n",
       "      <th></th>\n",
       "      <th></th>\n",
       "      <th></th>\n",
       "      <th></th>\n",
       "      <th></th>\n",
       "      <th></th>\n",
       "      <th></th>\n",
       "      <th></th>\n",
       "    </tr>\n",
       "  </thead>\n",
       "  <tbody>\n",
       "    <tr>\n",
       "      <th>0</th>\n",
       "      <td>1</td>\n",
       "      <td>1</td>\n",
       "      <td>Oconnor, Frankie</td>\n",
       "      <td>male</td>\n",
       "      <td>NaN</td>\n",
       "      <td>2</td>\n",
       "      <td>0</td>\n",
       "      <td>209245</td>\n",
       "      <td>27.14</td>\n",
       "      <td>C12239</td>\n",
       "      <td>S</td>\n",
       "    </tr>\n",
       "    <tr>\n",
       "      <th>1</th>\n",
       "      <td>0</td>\n",
       "      <td>3</td>\n",
       "      <td>Bryan, Drew</td>\n",
       "      <td>male</td>\n",
       "      <td>NaN</td>\n",
       "      <td>0</td>\n",
       "      <td>0</td>\n",
       "      <td>27323</td>\n",
       "      <td>13.35</td>\n",
       "      <td>NaN</td>\n",
       "      <td>S</td>\n",
       "    </tr>\n",
       "    <tr>\n",
       "      <th>2</th>\n",
       "      <td>0</td>\n",
       "      <td>3</td>\n",
       "      <td>Owens, Kenneth</td>\n",
       "      <td>male</td>\n",
       "      <td>0.33</td>\n",
       "      <td>1</td>\n",
       "      <td>2</td>\n",
       "      <td>CA 457703</td>\n",
       "      <td>71.29</td>\n",
       "      <td>NaN</td>\n",
       "      <td>S</td>\n",
       "    </tr>\n",
       "    <tr>\n",
       "      <th>3</th>\n",
       "      <td>0</td>\n",
       "      <td>3</td>\n",
       "      <td>Kramer, James</td>\n",
       "      <td>male</td>\n",
       "      <td>19.00</td>\n",
       "      <td>0</td>\n",
       "      <td>0</td>\n",
       "      <td>A. 10866</td>\n",
       "      <td>13.04</td>\n",
       "      <td>NaN</td>\n",
       "      <td>S</td>\n",
       "    </tr>\n",
       "    <tr>\n",
       "      <th>4</th>\n",
       "      <td>1</td>\n",
       "      <td>3</td>\n",
       "      <td>Bond, Michael</td>\n",
       "      <td>male</td>\n",
       "      <td>25.00</td>\n",
       "      <td>0</td>\n",
       "      <td>0</td>\n",
       "      <td>427635</td>\n",
       "      <td>7.76</td>\n",
       "      <td>NaN</td>\n",
       "      <td>S</td>\n",
       "    </tr>\n",
       "    <tr>\n",
       "      <th>...</th>\n",
       "      <td>...</td>\n",
       "      <td>...</td>\n",
       "      <td>...</td>\n",
       "      <td>...</td>\n",
       "      <td>...</td>\n",
       "      <td>...</td>\n",
       "      <td>...</td>\n",
       "      <td>...</td>\n",
       "      <td>...</td>\n",
       "      <td>...</td>\n",
       "      <td>...</td>\n",
       "    </tr>\n",
       "    <tr>\n",
       "      <th>99995</th>\n",
       "      <td>1</td>\n",
       "      <td>2</td>\n",
       "      <td>Bell, Adele</td>\n",
       "      <td>female</td>\n",
       "      <td>62.00</td>\n",
       "      <td>0</td>\n",
       "      <td>0</td>\n",
       "      <td>PC 15008</td>\n",
       "      <td>14.86</td>\n",
       "      <td>D17243</td>\n",
       "      <td>C</td>\n",
       "    </tr>\n",
       "    <tr>\n",
       "      <th>99996</th>\n",
       "      <td>0</td>\n",
       "      <td>2</td>\n",
       "      <td>Brown, Herman</td>\n",
       "      <td>male</td>\n",
       "      <td>66.00</td>\n",
       "      <td>0</td>\n",
       "      <td>0</td>\n",
       "      <td>13273</td>\n",
       "      <td>11.15</td>\n",
       "      <td>NaN</td>\n",
       "      <td>S</td>\n",
       "    </tr>\n",
       "    <tr>\n",
       "      <th>99997</th>\n",
       "      <td>0</td>\n",
       "      <td>3</td>\n",
       "      <td>Childress, Charles</td>\n",
       "      <td>male</td>\n",
       "      <td>37.00</td>\n",
       "      <td>0</td>\n",
       "      <td>0</td>\n",
       "      <td>NaN</td>\n",
       "      <td>9.95</td>\n",
       "      <td>NaN</td>\n",
       "      <td>S</td>\n",
       "    </tr>\n",
       "    <tr>\n",
       "      <th>99998</th>\n",
       "      <td>0</td>\n",
       "      <td>3</td>\n",
       "      <td>Caughlin, Thomas</td>\n",
       "      <td>male</td>\n",
       "      <td>51.00</td>\n",
       "      <td>0</td>\n",
       "      <td>1</td>\n",
       "      <td>458654</td>\n",
       "      <td>30.92</td>\n",
       "      <td>NaN</td>\n",
       "      <td>S</td>\n",
       "    </tr>\n",
       "    <tr>\n",
       "      <th>99999</th>\n",
       "      <td>0</td>\n",
       "      <td>3</td>\n",
       "      <td>Enciso, Tyler</td>\n",
       "      <td>male</td>\n",
       "      <td>55.00</td>\n",
       "      <td>0</td>\n",
       "      <td>0</td>\n",
       "      <td>458074</td>\n",
       "      <td>13.96</td>\n",
       "      <td>NaN</td>\n",
       "      <td>S</td>\n",
       "    </tr>\n",
       "  </tbody>\n",
       "</table>\n",
       "<p>100000 rows × 11 columns</p>\n",
       "</div>"
      ],
      "text/plain": [
       "             survived  pclass                name     sex    age  sibsp  \\\n",
       "passengerid                                                               \n",
       "0                   1       1    Oconnor, Frankie    male    NaN      2   \n",
       "1                   0       3         Bryan, Drew    male    NaN      0   \n",
       "2                   0       3      Owens, Kenneth    male   0.33      1   \n",
       "3                   0       3       Kramer, James    male  19.00      0   \n",
       "4                   1       3       Bond, Michael    male  25.00      0   \n",
       "...               ...     ...                 ...     ...    ...    ...   \n",
       "99995               1       2         Bell, Adele  female  62.00      0   \n",
       "99996               0       2       Brown, Herman    male  66.00      0   \n",
       "99997               0       3  Childress, Charles    male  37.00      0   \n",
       "99998               0       3    Caughlin, Thomas    male  51.00      0   \n",
       "99999               0       3       Enciso, Tyler    male  55.00      0   \n",
       "\n",
       "             parch     ticket   fare   cabin embarked  \n",
       "passengerid                                            \n",
       "0                0     209245  27.14  C12239        S  \n",
       "1                0      27323  13.35     NaN        S  \n",
       "2                2  CA 457703  71.29     NaN        S  \n",
       "3                0   A. 10866  13.04     NaN        S  \n",
       "4                0     427635   7.76     NaN        S  \n",
       "...            ...        ...    ...     ...      ...  \n",
       "99995            0   PC 15008  14.86  D17243        C  \n",
       "99996            0      13273  11.15     NaN        S  \n",
       "99997            0        NaN   9.95     NaN        S  \n",
       "99998            1     458654  30.92     NaN        S  \n",
       "99999            0     458074  13.96     NaN        S  \n",
       "\n",
       "[100000 rows x 11 columns]"
      ]
     },
     "execution_count": 29,
     "metadata": {},
     "output_type": "execute_result"
    }
   ],
   "source": [
    "print(\"Loading data...\")\n",
    "df_train = data__csv(train_df_path)\n",
    "inputdata = input_data(df_train, cols, index_col)\n",
    "inputdata"
   ]
  },
  {
   "cell_type": "code",
   "execution_count": 30,
   "id": "666b7a18",
   "metadata": {},
   "outputs": [],
   "source": [
    "df_test = data__csv(test_df_path)"
   ]
  },
  {
   "cell_type": "markdown",
   "id": "6eadb71c",
   "metadata": {},
   "source": [
    "### Feature Engineering"
   ]
  },
  {
   "cell_type": "code",
   "execution_count": 31,
   "id": "000f4f9d",
   "metadata": {},
   "outputs": [
    {
     "data": {
      "text/plain": [
       "passengerid\n",
       "0        1\n",
       "1        0\n",
       "2        0\n",
       "3        0\n",
       "4        1\n",
       "        ..\n",
       "99995    1\n",
       "99996    0\n",
       "99997    0\n",
       "99998    0\n",
       "99999    0\n",
       "Name: survived, Length: 100000, dtype: int64"
      ]
     },
     "execution_count": 31,
     "metadata": {},
     "output_type": "execute_result"
    }
   ],
   "source": [
    "y = target(inputdata, target_col)\n",
    "y"
   ]
  },
  {
   "cell_type": "code",
   "execution_count": 32,
   "id": "27e15e37",
   "metadata": {},
   "outputs": [
    {
     "data": {
      "text/html": [
       "<div>\n",
       "<style scoped>\n",
       "    .dataframe tbody tr th:only-of-type {\n",
       "        vertical-align: middle;\n",
       "    }\n",
       "\n",
       "    .dataframe tbody tr th {\n",
       "        vertical-align: top;\n",
       "    }\n",
       "\n",
       "    .dataframe thead th {\n",
       "        text-align: right;\n",
       "    }\n",
       "</style>\n",
       "<table border=\"1\" class=\"dataframe\">\n",
       "  <thead>\n",
       "    <tr style=\"text-align: right;\">\n",
       "      <th></th>\n",
       "      <th>pclass</th>\n",
       "      <th>name</th>\n",
       "      <th>sex</th>\n",
       "      <th>age</th>\n",
       "      <th>sibsp</th>\n",
       "      <th>parch</th>\n",
       "      <th>ticket</th>\n",
       "      <th>fare</th>\n",
       "      <th>cabin</th>\n",
       "      <th>embarked</th>\n",
       "    </tr>\n",
       "    <tr>\n",
       "      <th>passengerid</th>\n",
       "      <th></th>\n",
       "      <th></th>\n",
       "      <th></th>\n",
       "      <th></th>\n",
       "      <th></th>\n",
       "      <th></th>\n",
       "      <th></th>\n",
       "      <th></th>\n",
       "      <th></th>\n",
       "      <th></th>\n",
       "    </tr>\n",
       "  </thead>\n",
       "  <tbody>\n",
       "    <tr>\n",
       "      <th>0</th>\n",
       "      <td>1</td>\n",
       "      <td>Oconnor, Frankie</td>\n",
       "      <td>male</td>\n",
       "      <td>NaN</td>\n",
       "      <td>2</td>\n",
       "      <td>0</td>\n",
       "      <td>209245</td>\n",
       "      <td>27.14</td>\n",
       "      <td>C12239</td>\n",
       "      <td>S</td>\n",
       "    </tr>\n",
       "    <tr>\n",
       "      <th>1</th>\n",
       "      <td>3</td>\n",
       "      <td>Bryan, Drew</td>\n",
       "      <td>male</td>\n",
       "      <td>NaN</td>\n",
       "      <td>0</td>\n",
       "      <td>0</td>\n",
       "      <td>27323</td>\n",
       "      <td>13.35</td>\n",
       "      <td>NaN</td>\n",
       "      <td>S</td>\n",
       "    </tr>\n",
       "    <tr>\n",
       "      <th>2</th>\n",
       "      <td>3</td>\n",
       "      <td>Owens, Kenneth</td>\n",
       "      <td>male</td>\n",
       "      <td>0.33</td>\n",
       "      <td>1</td>\n",
       "      <td>2</td>\n",
       "      <td>CA 457703</td>\n",
       "      <td>71.29</td>\n",
       "      <td>NaN</td>\n",
       "      <td>S</td>\n",
       "    </tr>\n",
       "    <tr>\n",
       "      <th>3</th>\n",
       "      <td>3</td>\n",
       "      <td>Kramer, James</td>\n",
       "      <td>male</td>\n",
       "      <td>19.00</td>\n",
       "      <td>0</td>\n",
       "      <td>0</td>\n",
       "      <td>A. 10866</td>\n",
       "      <td>13.04</td>\n",
       "      <td>NaN</td>\n",
       "      <td>S</td>\n",
       "    </tr>\n",
       "    <tr>\n",
       "      <th>4</th>\n",
       "      <td>3</td>\n",
       "      <td>Bond, Michael</td>\n",
       "      <td>male</td>\n",
       "      <td>25.00</td>\n",
       "      <td>0</td>\n",
       "      <td>0</td>\n",
       "      <td>427635</td>\n",
       "      <td>7.76</td>\n",
       "      <td>NaN</td>\n",
       "      <td>S</td>\n",
       "    </tr>\n",
       "    <tr>\n",
       "      <th>...</th>\n",
       "      <td>...</td>\n",
       "      <td>...</td>\n",
       "      <td>...</td>\n",
       "      <td>...</td>\n",
       "      <td>...</td>\n",
       "      <td>...</td>\n",
       "      <td>...</td>\n",
       "      <td>...</td>\n",
       "      <td>...</td>\n",
       "      <td>...</td>\n",
       "    </tr>\n",
       "    <tr>\n",
       "      <th>99995</th>\n",
       "      <td>2</td>\n",
       "      <td>Bell, Adele</td>\n",
       "      <td>female</td>\n",
       "      <td>62.00</td>\n",
       "      <td>0</td>\n",
       "      <td>0</td>\n",
       "      <td>PC 15008</td>\n",
       "      <td>14.86</td>\n",
       "      <td>D17243</td>\n",
       "      <td>C</td>\n",
       "    </tr>\n",
       "    <tr>\n",
       "      <th>99996</th>\n",
       "      <td>2</td>\n",
       "      <td>Brown, Herman</td>\n",
       "      <td>male</td>\n",
       "      <td>66.00</td>\n",
       "      <td>0</td>\n",
       "      <td>0</td>\n",
       "      <td>13273</td>\n",
       "      <td>11.15</td>\n",
       "      <td>NaN</td>\n",
       "      <td>S</td>\n",
       "    </tr>\n",
       "    <tr>\n",
       "      <th>99997</th>\n",
       "      <td>3</td>\n",
       "      <td>Childress, Charles</td>\n",
       "      <td>male</td>\n",
       "      <td>37.00</td>\n",
       "      <td>0</td>\n",
       "      <td>0</td>\n",
       "      <td>NaN</td>\n",
       "      <td>9.95</td>\n",
       "      <td>NaN</td>\n",
       "      <td>S</td>\n",
       "    </tr>\n",
       "    <tr>\n",
       "      <th>99998</th>\n",
       "      <td>3</td>\n",
       "      <td>Caughlin, Thomas</td>\n",
       "      <td>male</td>\n",
       "      <td>51.00</td>\n",
       "      <td>0</td>\n",
       "      <td>1</td>\n",
       "      <td>458654</td>\n",
       "      <td>30.92</td>\n",
       "      <td>NaN</td>\n",
       "      <td>S</td>\n",
       "    </tr>\n",
       "    <tr>\n",
       "      <th>99999</th>\n",
       "      <td>3</td>\n",
       "      <td>Enciso, Tyler</td>\n",
       "      <td>male</td>\n",
       "      <td>55.00</td>\n",
       "      <td>0</td>\n",
       "      <td>0</td>\n",
       "      <td>458074</td>\n",
       "      <td>13.96</td>\n",
       "      <td>NaN</td>\n",
       "      <td>S</td>\n",
       "    </tr>\n",
       "  </tbody>\n",
       "</table>\n",
       "<p>100000 rows × 10 columns</p>\n",
       "</div>"
      ],
      "text/plain": [
       "             pclass                name     sex    age  sibsp  parch  \\\n",
       "passengerid                                                            \n",
       "0                 1    Oconnor, Frankie    male    NaN      2      0   \n",
       "1                 3         Bryan, Drew    male    NaN      0      0   \n",
       "2                 3      Owens, Kenneth    male   0.33      1      2   \n",
       "3                 3       Kramer, James    male  19.00      0      0   \n",
       "4                 3       Bond, Michael    male  25.00      0      0   \n",
       "...             ...                 ...     ...    ...    ...    ...   \n",
       "99995             2         Bell, Adele  female  62.00      0      0   \n",
       "99996             2       Brown, Herman    male  66.00      0      0   \n",
       "99997             3  Childress, Charles    male  37.00      0      0   \n",
       "99998             3    Caughlin, Thomas    male  51.00      0      1   \n",
       "99999             3       Enciso, Tyler    male  55.00      0      0   \n",
       "\n",
       "                ticket   fare   cabin embarked  \n",
       "passengerid                                     \n",
       "0               209245  27.14  C12239        S  \n",
       "1                27323  13.35     NaN        S  \n",
       "2            CA 457703  71.29     NaN        S  \n",
       "3             A. 10866  13.04     NaN        S  \n",
       "4               427635   7.76     NaN        S  \n",
       "...                ...    ...     ...      ...  \n",
       "99995         PC 15008  14.86  D17243        C  \n",
       "99996            13273  11.15     NaN        S  \n",
       "99997              NaN   9.95     NaN        S  \n",
       "99998           458654  30.92     NaN        S  \n",
       "99999           458074  13.96     NaN        S  \n",
       "\n",
       "[100000 rows x 10 columns]"
      ]
     },
     "execution_count": 32,
     "metadata": {},
     "output_type": "execute_result"
    }
   ],
   "source": [
    "X = features(inputdata, target_col)\n",
    "X"
   ]
  },
  {
   "cell_type": "code",
   "execution_count": 33,
   "id": "60724bc7",
   "metadata": {},
   "outputs": [
    {
     "data": {
      "text/html": [
       "<div>\n",
       "<style scoped>\n",
       "    .dataframe tbody tr th:only-of-type {\n",
       "        vertical-align: middle;\n",
       "    }\n",
       "\n",
       "    .dataframe tbody tr th {\n",
       "        vertical-align: top;\n",
       "    }\n",
       "\n",
       "    .dataframe thead th {\n",
       "        text-align: right;\n",
       "    }\n",
       "</style>\n",
       "<table border=\"1\" class=\"dataframe\">\n",
       "  <thead>\n",
       "    <tr style=\"text-align: right;\">\n",
       "      <th></th>\n",
       "      <th>pclass</th>\n",
       "      <th>sibsp</th>\n",
       "      <th>fare</th>\n",
       "      <th>sex</th>\n",
       "      <th>age</th>\n",
       "      <th>ticket</th>\n",
       "      <th>embarked</th>\n",
       "      <th>name</th>\n",
       "      <th>cabin</th>\n",
       "      <th>parch</th>\n",
       "    </tr>\n",
       "    <tr>\n",
       "      <th>passengerid</th>\n",
       "      <th></th>\n",
       "      <th></th>\n",
       "      <th></th>\n",
       "      <th></th>\n",
       "      <th></th>\n",
       "      <th></th>\n",
       "      <th></th>\n",
       "      <th></th>\n",
       "      <th></th>\n",
       "      <th></th>\n",
       "    </tr>\n",
       "  </thead>\n",
       "  <tbody>\n",
       "    <tr>\n",
       "      <th>100000</th>\n",
       "      <td>3</td>\n",
       "      <td>0</td>\n",
       "      <td>63.01</td>\n",
       "      <td>male</td>\n",
       "      <td>19.0</td>\n",
       "      <td>24745</td>\n",
       "      <td>S</td>\n",
       "      <td>Holliday, Daniel</td>\n",
       "      <td>NaN</td>\n",
       "      <td>0</td>\n",
       "    </tr>\n",
       "    <tr>\n",
       "      <th>100001</th>\n",
       "      <td>3</td>\n",
       "      <td>0</td>\n",
       "      <td>5.81</td>\n",
       "      <td>female</td>\n",
       "      <td>53.0</td>\n",
       "      <td>13264</td>\n",
       "      <td>S</td>\n",
       "      <td>Nguyen, Lorraine</td>\n",
       "      <td>NaN</td>\n",
       "      <td>0</td>\n",
       "    </tr>\n",
       "    <tr>\n",
       "      <th>100002</th>\n",
       "      <td>1</td>\n",
       "      <td>0</td>\n",
       "      <td>38.91</td>\n",
       "      <td>female</td>\n",
       "      <td>19.0</td>\n",
       "      <td>25990</td>\n",
       "      <td>C</td>\n",
       "      <td>Harris, Heather</td>\n",
       "      <td>B15315</td>\n",
       "      <td>0</td>\n",
       "    </tr>\n",
       "    <tr>\n",
       "      <th>100003</th>\n",
       "      <td>2</td>\n",
       "      <td>0</td>\n",
       "      <td>12.93</td>\n",
       "      <td>male</td>\n",
       "      <td>25.0</td>\n",
       "      <td>314011</td>\n",
       "      <td>S</td>\n",
       "      <td>Larsen, Eric</td>\n",
       "      <td>NaN</td>\n",
       "      <td>0</td>\n",
       "    </tr>\n",
       "    <tr>\n",
       "      <th>100004</th>\n",
       "      <td>1</td>\n",
       "      <td>0</td>\n",
       "      <td>26.89</td>\n",
       "      <td>female</td>\n",
       "      <td>17.0</td>\n",
       "      <td>26203</td>\n",
       "      <td>C</td>\n",
       "      <td>Cleary, Sarah</td>\n",
       "      <td>B22515</td>\n",
       "      <td>2</td>\n",
       "    </tr>\n",
       "    <tr>\n",
       "      <th>...</th>\n",
       "      <td>...</td>\n",
       "      <td>...</td>\n",
       "      <td>...</td>\n",
       "      <td>...</td>\n",
       "      <td>...</td>\n",
       "      <td>...</td>\n",
       "      <td>...</td>\n",
       "      <td>...</td>\n",
       "      <td>...</td>\n",
       "      <td>...</td>\n",
       "    </tr>\n",
       "    <tr>\n",
       "      <th>199995</th>\n",
       "      <td>3</td>\n",
       "      <td>0</td>\n",
       "      <td>10.12</td>\n",
       "      <td>female</td>\n",
       "      <td>27.0</td>\n",
       "      <td>7686</td>\n",
       "      <td>Q</td>\n",
       "      <td>Cash, Cheryle</td>\n",
       "      <td>NaN</td>\n",
       "      <td>0</td>\n",
       "    </tr>\n",
       "    <tr>\n",
       "      <th>199996</th>\n",
       "      <td>1</td>\n",
       "      <td>1</td>\n",
       "      <td>68.31</td>\n",
       "      <td>male</td>\n",
       "      <td>59.0</td>\n",
       "      <td>13004</td>\n",
       "      <td>S</td>\n",
       "      <td>Brown, Howard</td>\n",
       "      <td>NaN</td>\n",
       "      <td>0</td>\n",
       "    </tr>\n",
       "    <tr>\n",
       "      <th>199997</th>\n",
       "      <td>3</td>\n",
       "      <td>0</td>\n",
       "      <td>10.87</td>\n",
       "      <td>male</td>\n",
       "      <td>47.0</td>\n",
       "      <td>4383317</td>\n",
       "      <td>S</td>\n",
       "      <td>Lightfoot, Cameron</td>\n",
       "      <td>NaN</td>\n",
       "      <td>0</td>\n",
       "    </tr>\n",
       "    <tr>\n",
       "      <th>199998</th>\n",
       "      <td>1</td>\n",
       "      <td>1</td>\n",
       "      <td>29.68</td>\n",
       "      <td>female</td>\n",
       "      <td>49.0</td>\n",
       "      <td>PC 26988</td>\n",
       "      <td>C</td>\n",
       "      <td>Jacobsen, Margaret</td>\n",
       "      <td>B20828</td>\n",
       "      <td>2</td>\n",
       "    </tr>\n",
       "    <tr>\n",
       "      <th>199999</th>\n",
       "      <td>1</td>\n",
       "      <td>0</td>\n",
       "      <td>195.41</td>\n",
       "      <td>female</td>\n",
       "      <td>41.0</td>\n",
       "      <td>PC 41824</td>\n",
       "      <td>C</td>\n",
       "      <td>Fishback, Joanna</td>\n",
       "      <td>E13345</td>\n",
       "      <td>2</td>\n",
       "    </tr>\n",
       "  </tbody>\n",
       "</table>\n",
       "<p>100000 rows × 10 columns</p>\n",
       "</div>"
      ],
      "text/plain": [
       "             pclass  sibsp    fare     sex   age    ticket embarked  \\\n",
       "passengerid                                                           \n",
       "100000            3      0   63.01    male  19.0     24745        S   \n",
       "100001            3      0    5.81  female  53.0     13264        S   \n",
       "100002            1      0   38.91  female  19.0     25990        C   \n",
       "100003            2      0   12.93    male  25.0    314011        S   \n",
       "100004            1      0   26.89  female  17.0     26203        C   \n",
       "...             ...    ...     ...     ...   ...       ...      ...   \n",
       "199995            3      0   10.12  female  27.0      7686        Q   \n",
       "199996            1      1   68.31    male  59.0     13004        S   \n",
       "199997            3      0   10.87    male  47.0   4383317        S   \n",
       "199998            1      1   29.68  female  49.0  PC 26988        C   \n",
       "199999            1      0  195.41  female  41.0  PC 41824        C   \n",
       "\n",
       "                           name   cabin  parch  \n",
       "passengerid                                     \n",
       "100000         Holliday, Daniel     NaN      0  \n",
       "100001         Nguyen, Lorraine     NaN      0  \n",
       "100002          Harris, Heather  B15315      0  \n",
       "100003             Larsen, Eric     NaN      0  \n",
       "100004            Cleary, Sarah  B22515      2  \n",
       "...                         ...     ...    ...  \n",
       "199995            Cash, Cheryle     NaN      0  \n",
       "199996            Brown, Howard     NaN      0  \n",
       "199997       Lightfoot, Cameron     NaN      0  \n",
       "199998       Jacobsen, Margaret  B20828      2  \n",
       "199999         Fishback, Joanna  E13345      2  \n",
       "\n",
       "[100000 rows x 10 columns]"
      ]
     },
     "execution_count": 33,
     "metadata": {},
     "output_type": "execute_result"
    }
   ],
   "source": [
    "testdata = features(input_data(df_test, cols_test, index_col), target_col)\n",
    "testdata"
   ]
  },
  {
   "cell_type": "code",
   "execution_count": 34,
   "id": "6d4b63af",
   "metadata": {},
   "outputs": [],
   "source": [
    "Xtrans, les = transformed_features(\n",
    "    pd.concat([X[cat_cols], testdata[cat_cols]], axis=0),\n",
    "    X,\n",
    "    cat_cols,\n",
    "    cabin_t(X.cabin),\n",
    "    ticket_t(X.ticket),\n",
    "    None\n",
    ") "
   ]
  },
  {
   "cell_type": "code",
   "execution_count": 35,
   "id": "a68c96e0",
   "metadata": {},
   "outputs": [
    {
     "data": {
      "text/plain": [
       "[LabelEncoder(), LabelEncoder(), LabelEncoder()]"
      ]
     },
     "execution_count": 35,
     "metadata": {},
     "output_type": "execute_result"
    }
   ],
   "source": [
    "les"
   ]
  },
  {
   "cell_type": "code",
   "execution_count": 36,
   "id": "4a7b8503",
   "metadata": {},
   "outputs": [],
   "source": [
    "Xeng = engineered_features(\n",
    "    Xtrans,\n",
    "    family(Xtrans.sibsp, Xtrans.parch),\n",
    ")"
   ]
  },
  {
   "cell_type": "code",
   "execution_count": 37,
   "id": "a54bd1d4",
   "metadata": {},
   "outputs": [],
   "source": [
    "Xdrop = dropped_features(\n",
    "    Xeng,\n",
    "    drop_cols\n",
    ")"
   ]
  },
  {
   "cell_type": "code",
   "execution_count": 38,
   "id": "adb1e786",
   "metadata": {},
   "outputs": [
    {
     "data": {
      "text/html": [
       "<div>\n",
       "<style scoped>\n",
       "    .dataframe tbody tr th:only-of-type {\n",
       "        vertical-align: middle;\n",
       "    }\n",
       "\n",
       "    .dataframe tbody tr th {\n",
       "        vertical-align: top;\n",
       "    }\n",
       "\n",
       "    .dataframe thead th {\n",
       "        text-align: right;\n",
       "    }\n",
       "</style>\n",
       "<table border=\"1\" class=\"dataframe\">\n",
       "  <thead>\n",
       "    <tr style=\"text-align: right;\">\n",
       "      <th></th>\n",
       "      <th>pclass</th>\n",
       "      <th>age</th>\n",
       "      <th>fare</th>\n",
       "      <th>cabin</th>\n",
       "      <th>sex</th>\n",
       "      <th>embarked</th>\n",
       "      <th>family</th>\n",
       "    </tr>\n",
       "    <tr>\n",
       "      <th>passengerid</th>\n",
       "      <th></th>\n",
       "      <th></th>\n",
       "      <th></th>\n",
       "      <th></th>\n",
       "      <th></th>\n",
       "      <th></th>\n",
       "      <th></th>\n",
       "    </tr>\n",
       "  </thead>\n",
       "  <tbody>\n",
       "    <tr>\n",
       "      <th>0</th>\n",
       "      <td>1</td>\n",
       "      <td>0.00</td>\n",
       "      <td>27.14</td>\n",
       "      <td>22424</td>\n",
       "      <td>1</td>\n",
       "      <td>2</td>\n",
       "      <td>2</td>\n",
       "    </tr>\n",
       "    <tr>\n",
       "      <th>1</th>\n",
       "      <td>3</td>\n",
       "      <td>0.00</td>\n",
       "      <td>13.35</td>\n",
       "      <td>45442</td>\n",
       "      <td>1</td>\n",
       "      <td>2</td>\n",
       "      <td>0</td>\n",
       "    </tr>\n",
       "    <tr>\n",
       "      <th>2</th>\n",
       "      <td>3</td>\n",
       "      <td>0.33</td>\n",
       "      <td>71.29</td>\n",
       "      <td>45442</td>\n",
       "      <td>1</td>\n",
       "      <td>2</td>\n",
       "      <td>3</td>\n",
       "    </tr>\n",
       "    <tr>\n",
       "      <th>3</th>\n",
       "      <td>3</td>\n",
       "      <td>19.00</td>\n",
       "      <td>13.04</td>\n",
       "      <td>45442</td>\n",
       "      <td>1</td>\n",
       "      <td>2</td>\n",
       "      <td>0</td>\n",
       "    </tr>\n",
       "    <tr>\n",
       "      <th>4</th>\n",
       "      <td>3</td>\n",
       "      <td>25.00</td>\n",
       "      <td>7.76</td>\n",
       "      <td>45442</td>\n",
       "      <td>1</td>\n",
       "      <td>2</td>\n",
       "      <td>0</td>\n",
       "    </tr>\n",
       "    <tr>\n",
       "      <th>...</th>\n",
       "      <td>...</td>\n",
       "      <td>...</td>\n",
       "      <td>...</td>\n",
       "      <td>...</td>\n",
       "      <td>...</td>\n",
       "      <td>...</td>\n",
       "      <td>...</td>\n",
       "    </tr>\n",
       "    <tr>\n",
       "      <th>99995</th>\n",
       "      <td>2</td>\n",
       "      <td>62.00</td>\n",
       "      <td>14.86</td>\n",
       "      <td>35404</td>\n",
       "      <td>0</td>\n",
       "      <td>0</td>\n",
       "      <td>0</td>\n",
       "    </tr>\n",
       "    <tr>\n",
       "      <th>99996</th>\n",
       "      <td>2</td>\n",
       "      <td>66.00</td>\n",
       "      <td>11.15</td>\n",
       "      <td>45442</td>\n",
       "      <td>1</td>\n",
       "      <td>2</td>\n",
       "      <td>0</td>\n",
       "    </tr>\n",
       "    <tr>\n",
       "      <th>99997</th>\n",
       "      <td>3</td>\n",
       "      <td>37.00</td>\n",
       "      <td>9.95</td>\n",
       "      <td>45442</td>\n",
       "      <td>1</td>\n",
       "      <td>2</td>\n",
       "      <td>0</td>\n",
       "    </tr>\n",
       "    <tr>\n",
       "      <th>99998</th>\n",
       "      <td>3</td>\n",
       "      <td>51.00</td>\n",
       "      <td>30.92</td>\n",
       "      <td>45442</td>\n",
       "      <td>1</td>\n",
       "      <td>2</td>\n",
       "      <td>1</td>\n",
       "    </tr>\n",
       "    <tr>\n",
       "      <th>99999</th>\n",
       "      <td>3</td>\n",
       "      <td>55.00</td>\n",
       "      <td>13.96</td>\n",
       "      <td>45442</td>\n",
       "      <td>1</td>\n",
       "      <td>2</td>\n",
       "      <td>0</td>\n",
       "    </tr>\n",
       "  </tbody>\n",
       "</table>\n",
       "<p>100000 rows × 7 columns</p>\n",
       "</div>"
      ],
      "text/plain": [
       "             pclass    age   fare  cabin  sex  embarked  family\n",
       "passengerid                                                    \n",
       "0                 1   0.00  27.14  22424    1         2       2\n",
       "1                 3   0.00  13.35  45442    1         2       0\n",
       "2                 3   0.33  71.29  45442    1         2       3\n",
       "3                 3  19.00  13.04  45442    1         2       0\n",
       "4                 3  25.00   7.76  45442    1         2       0\n",
       "...             ...    ...    ...    ...  ...       ...     ...\n",
       "99995             2  62.00  14.86  35404    0         0       0\n",
       "99996             2  66.00  11.15  45442    1         2       0\n",
       "99997             3  37.00   9.95  45442    1         2       0\n",
       "99998             3  51.00  30.92  45442    1         2       1\n",
       "99999             3  55.00  13.96  45442    1         2       0\n",
       "\n",
       "[100000 rows x 7 columns]"
      ]
     },
     "execution_count": 38,
     "metadata": {},
     "output_type": "execute_result"
    }
   ],
   "source": [
    "Xfinal = final_imputed_features(Xdrop)\n",
    "Xfinal"
   ]
  },
  {
   "cell_type": "code",
   "execution_count": 39,
   "id": "435bdf77",
   "metadata": {},
   "outputs": [
    {
     "name": "stdout",
     "output_type": "stream",
     "text": [
      "pclass [1 3 2]\n",
      "sex [1 0]\n",
      "cabin [22424 45442  8550 ... 34213 42249 35404]\n",
      "embarked [2 0 1 3]\n",
      "family [ 2  0  3  1  4  6  5  9  7 10  8 13 11 17 12 14]\n"
     ]
    }
   ],
   "source": [
    "for col in ['pclass', 'sex', 'cabin', 'embarked', 'family']:\n",
    "    print(col, Xfinal[col].unique())"
   ]
  },
  {
   "cell_type": "markdown",
   "id": "14b49791",
   "metadata": {},
   "source": [
    "### Train-Validation Split"
   ]
  },
  {
   "cell_type": "code",
   "execution_count": 40,
   "id": "ff76aae7",
   "metadata": {},
   "outputs": [],
   "source": [
    "[X_train, X_valid], [y_train, y_valid] = train_valid_split_func(\n",
    "    Xfinal, y, validation_size_fraction=0.33, random_state=RANDOM_STATE, stratify=y\n",
    ")"
   ]
  },
  {
   "cell_type": "code",
   "execution_count": 41,
   "id": "d2d1d6ac",
   "metadata": {},
   "outputs": [
    {
     "data": {
      "text/html": [
       "<div>\n",
       "<style scoped>\n",
       "    .dataframe tbody tr th:only-of-type {\n",
       "        vertical-align: middle;\n",
       "    }\n",
       "\n",
       "    .dataframe tbody tr th {\n",
       "        vertical-align: top;\n",
       "    }\n",
       "\n",
       "    .dataframe thead th {\n",
       "        text-align: right;\n",
       "    }\n",
       "</style>\n",
       "<table border=\"1\" class=\"dataframe\">\n",
       "  <thead>\n",
       "    <tr style=\"text-align: right;\">\n",
       "      <th></th>\n",
       "      <th>pclass</th>\n",
       "      <th>age</th>\n",
       "      <th>fare</th>\n",
       "      <th>cabin</th>\n",
       "      <th>sex</th>\n",
       "      <th>embarked</th>\n",
       "      <th>family</th>\n",
       "    </tr>\n",
       "    <tr>\n",
       "      <th>passengerid</th>\n",
       "      <th></th>\n",
       "      <th></th>\n",
       "      <th></th>\n",
       "      <th></th>\n",
       "      <th></th>\n",
       "      <th></th>\n",
       "      <th></th>\n",
       "    </tr>\n",
       "  </thead>\n",
       "  <tbody>\n",
       "    <tr>\n",
       "      <th>23259</th>\n",
       "      <td>2</td>\n",
       "      <td>34.0</td>\n",
       "      <td>24.48</td>\n",
       "      <td>45442</td>\n",
       "      <td>1</td>\n",
       "      <td>2</td>\n",
       "      <td>2</td>\n",
       "    </tr>\n",
       "    <tr>\n",
       "      <th>62078</th>\n",
       "      <td>1</td>\n",
       "      <td>55.0</td>\n",
       "      <td>28.88</td>\n",
       "      <td>475</td>\n",
       "      <td>0</td>\n",
       "      <td>2</td>\n",
       "      <td>3</td>\n",
       "    </tr>\n",
       "    <tr>\n",
       "      <th>29921</th>\n",
       "      <td>1</td>\n",
       "      <td>72.0</td>\n",
       "      <td>28.99</td>\n",
       "      <td>26715</td>\n",
       "      <td>0</td>\n",
       "      <td>0</td>\n",
       "      <td>0</td>\n",
       "    </tr>\n",
       "    <tr>\n",
       "      <th>84915</th>\n",
       "      <td>3</td>\n",
       "      <td>53.0</td>\n",
       "      <td>10.46</td>\n",
       "      <td>45442</td>\n",
       "      <td>0</td>\n",
       "      <td>2</td>\n",
       "      <td>2</td>\n",
       "    </tr>\n",
       "    <tr>\n",
       "      <th>76792</th>\n",
       "      <td>1</td>\n",
       "      <td>65.0</td>\n",
       "      <td>71.98</td>\n",
       "      <td>17420</td>\n",
       "      <td>0</td>\n",
       "      <td>1</td>\n",
       "      <td>2</td>\n",
       "    </tr>\n",
       "  </tbody>\n",
       "</table>\n",
       "</div>"
      ],
      "text/plain": [
       "             pclass   age   fare  cabin  sex  embarked  family\n",
       "passengerid                                                   \n",
       "23259             2  34.0  24.48  45442    1         2       2\n",
       "62078             1  55.0  28.88    475    0         2       3\n",
       "29921             1  72.0  28.99  26715    0         0       0\n",
       "84915             3  53.0  10.46  45442    0         2       2\n",
       "76792             1  65.0  71.98  17420    0         1       2"
      ]
     },
     "execution_count": 41,
     "metadata": {},
     "output_type": "execute_result"
    }
   ],
   "source": [
    "X_train.head()"
   ]
  },
  {
   "cell_type": "markdown",
   "id": "92305c21",
   "metadata": {},
   "source": [
    "## More Functions"
   ]
  },
  {
   "cell_type": "markdown",
   "id": "428fab54",
   "metadata": {},
   "source": [
    "### for Training"
   ]
  },
  {
   "cell_type": "code",
   "execution_count": 42,
   "id": "bf858203",
   "metadata": {},
   "outputs": [],
   "source": [
    "from sklearn.ensemble import RandomForestClassifier"
   ]
  },
  {
   "cell_type": "code",
   "execution_count": 43,
   "id": "2b3a648a",
   "metadata": {},
   "outputs": [],
   "source": [
    "def prefit_clf__rf(\n",
    "    random_state: int, # get random state from parameters\n",
    "    max_depth: Union[int, None] # either None or given max_depth hyperparameter\n",
    ") -> base.ClassifierMixin: # return an unfit Random Forest\n",
    "    return RandomForestClassifier(max_depth = max_depth, random_state = random_state)"
   ]
  },
  {
   "cell_type": "code",
   "execution_count": 44,
   "id": "4fe52b5f",
   "metadata": {},
   "outputs": [],
   "source": [
    "def fit_clf(\n",
    "    prefit_clf: base.ClassifierMixin, # prefit classifier\n",
    "    X_train: pd.DataFrame, # transformed features matrix\n",
    "    y_train: pd.Series, # target column\n",
    ") -> base.ClassifierMixin:\n",
    "    \"\"\"Calls fit on the classifier object; it mutates the classifier and fits it.\"\"\"\n",
    "    prefit_clf.fit(X_train, y_train)\n",
    "    return prefit_clf"
   ]
  },
  {
   "cell_type": "code",
   "execution_count": 74,
   "id": "8e66166c",
   "metadata": {},
   "outputs": [],
   "source": [
    "import joblib\n",
    "def write_model(\n",
    "    fit_clf: base.ClassifierMixin, # already fit classifier\n",
    "    modelpath: Path # folder for model\n",
    ") -> None:\n",
    "    joblib.dump(fit_clf, f\"{modelpath}/model.joblib\")"
   ]
  },
  {
   "cell_type": "markdown",
   "id": "5d9d075b",
   "metadata": {},
   "source": [
    "### for Predictions"
   ]
  },
  {
   "cell_type": "code",
   "execution_count": 45,
   "id": "5a0f4f9e",
   "metadata": {},
   "outputs": [],
   "source": [
    "def predictions(\n",
    "    fit_clf: base.ClassifierMixin, # already fit classifier\n",
    "    X:pd.DataFrame, # training or testing dataframe\n",
    "    t:float = 0.5 # classification probability threshold\n",
    ") -> Tuple[float, int]: # Probabilities from model, Predictions from model\n",
    "    y_proba = fit_clf.predict_proba(X)[:, 1]\n",
    "    y_preds  = 1*(y_proba >= t)\n",
    "    return y_proba, y_preds"
   ]
  },
  {
   "cell_type": "markdown",
   "id": "ecf80764",
   "metadata": {},
   "source": [
    "### for Metrics and Plots"
   ]
  },
  {
   "cell_type": "code",
   "execution_count": 46,
   "id": "07ab7075",
   "metadata": {},
   "outputs": [],
   "source": [
    "from sklearn.metrics import (\n",
    "    roc_auc_score,\n",
    "    average_precision_score,\n",
    "    accuracy_score,\n",
    "    precision_score,\n",
    "    recall_score,\n",
    "    f1_score,\n",
    "    confusion_matrix,\n",
    "    ConfusionMatrixDisplay,\n",
    "    roc_curve,\n",
    "    RocCurveDisplay,\n",
    "    precision_recall_curve,\n",
    "    PrecisionRecallDisplay,\n",
    ")\n",
    "import json"
   ]
  },
  {
   "cell_type": "code",
   "execution_count": 47,
   "id": "20dda1c2",
   "metadata": {},
   "outputs": [],
   "source": [
    "def metrics_noproba(\n",
    "    y: pd.Series, # actual values\n",
    "    ypred: pd.Series # predictions based on some threshold\n",
    ") -> Dict[str, float]:\n",
    "    return {\n",
    "        \"accuracy\": accuracy_score(y, ypred),\n",
    "        \"precision\": precision_score(y, ypred),\n",
    "        \"recall\": recall_score(y, ypred),\n",
    "        \"f1\": f1_score(y, ypred)    }"
   ]
  },
  {
   "cell_type": "code",
   "execution_count": 48,
   "id": "31eb84f4",
   "metadata": {},
   "outputs": [],
   "source": [
    "def plots_noproba(\n",
    "    y: pd.Series, # actual values\n",
    "    ypred: pd.Series # predictions based on some threshold\n",
    ") -> Dict[str, object]:    \n",
    "    cm = confusion_matrix(y, ypred)\n",
    "    cm_plot = ConfusionMatrixDisplay(cm)\n",
    "    return {\n",
    "        'cm': cm_plot\n",
    "    }"
   ]
  },
  {
   "cell_type": "code",
   "execution_count": 49,
   "id": "62809a7f",
   "metadata": {},
   "outputs": [],
   "source": [
    "def metrics(\n",
    "    y: pd.Series, # actual values\n",
    "    ypred: pd.Series, # predictions based on some threshold\n",
    "    yproba: pd.Series # probability values\n",
    ") -> Dict[str, float]:\n",
    "    return {\n",
    "        \"roc_auc\": roc_auc_score(y, yproba),\n",
    "        \"average_precision\": average_precision_score(y, yproba),\n",
    "        \"accuracy\": accuracy_score(y, ypred),\n",
    "        \"precision\": precision_score(y, ypred),\n",
    "        \"recall\": recall_score(y, ypred),\n",
    "        \"f1\": f1_score(y, ypred)\n",
    "    }"
   ]
  },
  {
   "cell_type": "code",
   "execution_count": 50,
   "id": "9d4a5cd8",
   "metadata": {},
   "outputs": [],
   "source": [
    "def write_metrics(\n",
    "    metrics: Dict[str, object], # dictionary of metrics\n",
    "    modelpath: Path, # model folder to write to\n",
    "    context: str # train or test, with hyperparams and run_id if appropriate\n",
    ") -> None:\n",
    "    with open(modelpath/f\"{context}.json\", \"w\") as fd:\n",
    "        fd.write(json.dumps(metrics))"
   ]
  },
  {
   "cell_type": "code",
   "execution_count": 51,
   "id": "8494397d",
   "metadata": {},
   "outputs": [],
   "source": [
    "def plots(\n",
    "    y: pd.Series, # actual values\n",
    "    ypred: pd.Series, # predictions based on some threshold\n",
    "    yproba: pd.Series # probability values\n",
    ") -> Dict[str, object]:\n",
    "    cm = confusion_matrix(y, ypred)\n",
    "    cm_plot = ConfusionMatrixDisplay(cm)\n",
    "    fpr, tpr, _ = roc_curve(y, yproba)\n",
    "    roc_plot = RocCurveDisplay(fpr=fpr, tpr=tpr)\n",
    "    prec, recall, _ = precision_recall_curve(y, yproba)\n",
    "    pr_plot = PrecisionRecallDisplay(precision=prec, recall=recall)\n",
    "    return {\n",
    "        'cm': cm_plot,\n",
    "        'roc': roc_plot,\n",
    "        'pr': pr_plot\n",
    "    }"
   ]
  },
  {
   "cell_type": "code",
   "execution_count": 52,
   "id": "01ca40a1",
   "metadata": {},
   "outputs": [],
   "source": [
    "def write_plots(\n",
    "    plots: Dict[str, object], # dictionary of metrics\n",
    "    modelpath: Path, # model folder to write to\n",
    "    context: str # train or test, with hyperparams and run_id if appropriate\n",
    ") -> None:\n",
    "    for plot_type in plots:\n",
    "        plots[plot_type].plot()\n",
    "        plots[plot_type].figure_.savefig(f\"{modelpath}/{plot_type}_{context}.png\")"
   ]
  },
  {
   "cell_type": "markdown",
   "id": "af695e16",
   "metadata": {},
   "source": [
    "## Model Training"
   ]
  },
  {
   "cell_type": "code",
   "execution_count": 53,
   "id": "f7318d75",
   "metadata": {},
   "outputs": [],
   "source": [
    "artpath = Path(\"./artifacts\")"
   ]
  },
  {
   "cell_type": "markdown",
   "id": "d4300b7c",
   "metadata": {},
   "source": [
    "### Very Baseline Model"
   ]
  },
  {
   "cell_type": "code",
   "execution_count": 54,
   "id": "fa534bc2",
   "metadata": {},
   "outputs": [
    {
     "data": {
      "text/plain": [
       "(0.42774626865671644, 0.42772727272727273)"
      ]
     },
     "execution_count": 54,
     "metadata": {},
     "output_type": "execute_result"
    }
   ],
   "source": [
    "np.mean(y_train), np.mean(y_valid)"
   ]
  },
  {
   "cell_type": "markdown",
   "id": "cd9b55f5",
   "metadata": {},
   "source": [
    "Everyone Dies"
   ]
  },
  {
   "cell_type": "code",
   "execution_count": 55,
   "id": "9dd2656d",
   "metadata": {},
   "outputs": [
    {
     "data": {
      "text/plain": [
       "PosixPath('artifacts/everybody_dies')"
      ]
     },
     "execution_count": 55,
     "metadata": {},
     "output_type": "execute_result"
    }
   ],
   "source": [
    "mname = \"everybody_dies\"\n",
    "mpath = Path(artpath/mname)\n",
    "mpath.mkdir(parents=True, exist_ok=True)\n",
    "mpath"
   ]
  },
  {
   "cell_type": "code",
   "execution_count": 56,
   "id": "76879c25",
   "metadata": {},
   "outputs": [
    {
     "name": "stdout",
     "output_type": "stream",
     "text": [
      "TRAIN/ALLDIE {'accuracy': 0.42774626865671644, 'precision': 0.42774626865671644, 'recall': 1.0, 'f1': 0.5991908759238546}\n",
      "VALID/ALLDIE {'accuracy': 0.42772727272727273, 'precision': 0.42772727272727273, 'recall': 1.0, 'f1': 0.5991722381407195}\n"
     ]
    }
   ],
   "source": [
    "metrics_train_alldie = metrics_noproba(y_train, np.ones(y_train.size))\n",
    "metrics_valid_alldie = metrics_noproba(y_valid, np.ones(y_valid.size))\n",
    "print(\"TRAIN/ALLDIE\", metrics_train_alldie)\n",
    "write_metrics(metrics_train_alldie, mpath, \"train\")\n",
    "print(\"VALID/ALLDIE\", metrics_valid_alldie)\n",
    "write_metrics(metrics_valid_alldie, mpath, \"valid\")\n",
    "\n"
   ]
  },
  {
   "cell_type": "code",
   "execution_count": 57,
   "id": "4651db0a",
   "metadata": {},
   "outputs": [
    {
     "data": {
      "text/plain": [
       "PosixPath('artifacts/noone_dies')"
      ]
     },
     "execution_count": 57,
     "metadata": {},
     "output_type": "execute_result"
    }
   ],
   "source": [
    "mname = \"noone_dies\"\n",
    "mpath = Path(artpath/mname)\n",
    "mpath.mkdir(parents=True, exist_ok=True)\n",
    "mpath"
   ]
  },
  {
   "cell_type": "code",
   "execution_count": 58,
   "id": "8e976687",
   "metadata": {},
   "outputs": [
    {
     "name": "stdout",
     "output_type": "stream",
     "text": [
      "TRAIN/NONEDIE {'accuracy': 0.5722537313432836, 'precision': 0.0, 'recall': 0.0, 'f1': 0.0}\n",
      "VALID/NONEDIE {'accuracy': 0.5722727272727273, 'precision': 0.0, 'recall': 0.0, 'f1': 0.0}\n"
     ]
    },
    {
     "name": "stderr",
     "output_type": "stream",
     "text": [
      "/Users/rahul/miniforge3/envs/ml1-arm64/lib/python3.9/site-packages/sklearn/metrics/_classification.py:1334: UndefinedMetricWarning: Precision is ill-defined and being set to 0.0 due to no predicted samples. Use `zero_division` parameter to control this behavior.\n",
      "  _warn_prf(average, modifier, msg_start, len(result))\n",
      "/Users/rahul/miniforge3/envs/ml1-arm64/lib/python3.9/site-packages/sklearn/metrics/_classification.py:1334: UndefinedMetricWarning: Precision is ill-defined and being set to 0.0 due to no predicted samples. Use `zero_division` parameter to control this behavior.\n",
      "  _warn_prf(average, modifier, msg_start, len(result))\n"
     ]
    }
   ],
   "source": [
    "metrics_train_nonedie = metrics_noproba(y_train, np.zeros(y_train.size))\n",
    "metrics_valid_nonedie = metrics_noproba(y_valid, np.zeros(y_valid.size))\n",
    "print(\"TRAIN/NONEDIE\", metrics_train_nonedie)\n",
    "write_metrics(metrics_train_nonedie, mpath, \"train\")\n",
    "print(\"VALID/NONEDIE\", metrics_valid_nonedie)\n",
    "write_metrics(metrics_valid_nonedie, mpath, \"valid\")"
   ]
  },
  {
   "cell_type": "markdown",
   "id": "8f78258f",
   "metadata": {},
   "source": [
    "### Baseline Model"
   ]
  },
  {
   "cell_type": "code",
   "execution_count": 59,
   "id": "d6ddbae5",
   "metadata": {},
   "outputs": [],
   "source": [
    "prefit_rf = prefit_clf__rf(\n",
    "    random_state = RANDOM_STATE,\n",
    "    max_depth = None\n",
    ")\n",
    "rf = fit_clf(prefit_rf, X_train, y_train)"
   ]
  },
  {
   "cell_type": "markdown",
   "id": "24d1392c",
   "metadata": {},
   "source": [
    "### Baseline Model Predictions"
   ]
  },
  {
   "cell_type": "code",
   "execution_count": 60,
   "id": "471e2009",
   "metadata": {},
   "outputs": [],
   "source": [
    "trainproba, trainpreds = predictions(rf, X_train)\n",
    "validproba, validpreds = predictions(rf, X_valid)"
   ]
  },
  {
   "cell_type": "code",
   "execution_count": 61,
   "id": "e23e5704",
   "metadata": {},
   "outputs": [
    {
     "data": {
      "text/plain": [
       "PosixPath('artifacts/baseline_rf')"
      ]
     },
     "execution_count": 61,
     "metadata": {},
     "output_type": "execute_result"
    }
   ],
   "source": [
    "mname = \"baseline_rf\"\n",
    "mpath = Path(artpath/mname)\n",
    "mpath.mkdir(parents=True, exist_ok=True)\n",
    "mpath"
   ]
  },
  {
   "cell_type": "code",
   "execution_count": 62,
   "id": "06b3a19a",
   "metadata": {},
   "outputs": [],
   "source": [
    "write_metrics(dict(max_depth=None, random_state=RANDOM_STATE), mpath, \"params\")"
   ]
  },
  {
   "cell_type": "markdown",
   "id": "c6cddfde",
   "metadata": {},
   "source": [
    "#### Baseline Model Metrics and Plots"
   ]
  },
  {
   "cell_type": "code",
   "execution_count": 63,
   "id": "094bf144",
   "metadata": {},
   "outputs": [
    {
     "name": "stdout",
     "output_type": "stream",
     "text": [
      "{'roc_auc': 0.9998463535325104, 'average_precision': 0.9998062830515887, 'accuracy': 0.995089552238806, 'precision': 0.9976461495222035, 'recall': 0.9908580201681845, 'f1': 0.9942404985732542}\n"
     ]
    }
   ],
   "source": [
    "train_metrics = metrics(y_train, trainpreds, trainproba)\n",
    "train_plots = plots(y_train, trainpreds, trainproba)\n",
    "print(train_metrics)"
   ]
  },
  {
   "cell_type": "code",
   "execution_count": 64,
   "id": "bff6471d",
   "metadata": {},
   "outputs": [],
   "source": [
    "write_metrics(train_metrics, mpath, \"train\")"
   ]
  },
  {
   "cell_type": "code",
   "execution_count": 65,
   "id": "9bb2f21c",
   "metadata": {},
   "outputs": [
    {
     "data": {
      "image/png": "[encoded data removed]",
      "text/plain": [
       "<Figure size 640x480 with 2 Axes>"
      ]
     },
     "metadata": {},
     "output_type": "display_data"
    },
    {
     "data": {
      "image/png": "[encoded data removed]",
      "text/plain": [
       "<Figure size 640x480 with 1 Axes>"
      ]
     },
     "metadata": {},
     "output_type": "display_data"
    },
    {
     "data": {
      "image/png": "[encoded data removed]",
      "text/plain": [
       "<Figure size 640x480 with 1 Axes>"
      ]
     },
     "metadata": {},
     "output_type": "display_data"
    }
   ],
   "source": [
    "write_plots(train_plots, mpath, \"train\")"
   ]
  },
  {
   "cell_type": "code",
   "execution_count": 66,
   "id": "786a015f",
   "metadata": {},
   "outputs": [
    {
     "name": "stdout",
     "output_type": "stream",
     "text": [
      "Validation metrics:\n",
      "{'roc_auc': 0.8064977546011615, 'average_precision': 0.7418240204640545, 'accuracy': 0.7402121212121212, 'precision': 0.6953058923033549, 'recall': 0.6989018774353525, 'f1': 0.6970992474296012}\n"
     ]
    }
   ],
   "source": [
    "valid_metrics = metrics(y_valid, validpreds, validproba)\n",
    "valid_plots = plots(y_valid, validpreds, validproba)\n",
    "print(\"Validation metrics:\")\n",
    "print(valid_metrics)"
   ]
  },
  {
   "cell_type": "code",
   "execution_count": 67,
   "id": "69171316",
   "metadata": {},
   "outputs": [],
   "source": [
    "write_metrics(valid_metrics, mpath, \"valid\")"
   ]
  },
  {
   "cell_type": "code",
   "execution_count": 68,
   "id": "e0db10ee",
   "metadata": {},
   "outputs": [
    {
     "data": {
      "image/png": "[encoded data removed]",
      "text/plain": [
       "<Figure size 640x480 with 2 Axes>"
      ]
     },
     "metadata": {},
     "output_type": "display_data"
    },
    {
     "data": {
      "image/png": "[encoded data removed]",
      "text/plain": [
       "<Figure size 640x480 with 1 Axes>"
      ]
     },
     "metadata": {},
     "output_type": "display_data"
    },
    {
     "data": {
      "image/png": "[encoded data removed]",
      "text/plain": [
       "<Figure size 640x480 with 1 Axes>"
      ]
     },
     "metadata": {},
     "output_type": "display_data"
    }
   ],
   "source": [
    "write_plots(valid_plots, mpath, \"train\")"
   ]
  },
  {
   "cell_type": "code",
   "execution_count": 75,
   "id": "6093170b",
   "metadata": {},
   "outputs": [],
   "source": [
    "write_model(rf, mpath)"
   ]
  },
  {
   "cell_type": "code",
   "execution_count": 77,
   "id": "b1729d22",
   "metadata": {},
   "outputs": [
    {
     "name": "stdout",
     "output_type": "stream",
     "text": [
      "total 0\n",
      "drwxr-xr-x  9 rahul  staff   288B Nov 18 09:45 \u001b[1m\u001b[36mbaseline_rf\u001b[m\u001b[m\n",
      "drwxr-xr-x  4 rahul  staff   128B Nov 18 02:52 \u001b[1m\u001b[36meverybody_dies\u001b[m\u001b[m\n",
      "drwxr-xr-x  4 rahul  staff   128B Nov 18 02:52 \u001b[1m\u001b[36mnoone_dies\u001b[m\u001b[m\n",
      "\n",
      "artifacts/baseline_rf:\n",
      "total 396992\n",
      "-rw-r--r--  1 rahul  staff    17K Nov 18 09:36 cm_train.png\n",
      "-rw-r--r--  1 rahul  staff   194M Nov 18 09:45 model.joblib\n",
      "-rw-r--r--  1 rahul  staff    39B Nov 18 09:36 params.json\n",
      "-rw-r--r--  1 rahul  staff    18K Nov 18 09:36 pr_train.png\n",
      "-rw-r--r--  1 rahul  staff    20K Nov 18 09:36 roc_train.png\n",
      "-rw-r--r--  1 rahul  staff   192B Nov 18 09:36 train.json\n",
      "-rw-r--r--  1 rahul  staff   193B Nov 18 09:36 valid.json\n",
      "\n",
      "artifacts/everybody_dies:\n",
      "total 16\n",
      "-rw-r--r--  1 rahul  staff   108B Nov 18 09:36 train.json\n",
      "-rw-r--r--  1 rahul  staff   108B Nov 18 09:36 valid.json\n",
      "\n",
      "artifacts/noone_dies:\n",
      "total 16\n",
      "-rw-r--r--  1 rahul  staff    76B Nov 18 09:36 train.json\n",
      "-rw-r--r--  1 rahul  staff    76B Nov 18 09:36 valid.json\n"
     ]
    }
   ],
   "source": [
    "!ls -lRh artifacts"
   ]
  },
  {
   "cell_type": "markdown",
   "id": "398169fb",
   "metadata": {},
   "source": [
    "### Baseline Model Inference as a separate pipeline"
   ]
  },
  {
   "cell_type": "code",
   "execution_count": 70,
   "id": "72e6eb16",
   "metadata": {},
   "outputs": [
    {
     "data": {
      "text/html": [
       "<div>\n",
       "<style scoped>\n",
       "    .dataframe tbody tr th:only-of-type {\n",
       "        vertical-align: middle;\n",
       "    }\n",
       "\n",
       "    .dataframe tbody tr th {\n",
       "        vertical-align: top;\n",
       "    }\n",
       "\n",
       "    .dataframe thead th {\n",
       "        text-align: right;\n",
       "    }\n",
       "</style>\n",
       "<table border=\"1\" class=\"dataframe\">\n",
       "  <thead>\n",
       "    <tr style=\"text-align: right;\">\n",
       "      <th></th>\n",
       "      <th>pclass</th>\n",
       "      <th>sibsp</th>\n",
       "      <th>fare</th>\n",
       "      <th>age</th>\n",
       "      <th>name</th>\n",
       "      <th>parch</th>\n",
       "      <th>cabin</th>\n",
       "      <th>ticket</th>\n",
       "      <th>sex</th>\n",
       "      <th>embarked</th>\n",
       "    </tr>\n",
       "    <tr>\n",
       "      <th>passengerid</th>\n",
       "      <th></th>\n",
       "      <th></th>\n",
       "      <th></th>\n",
       "      <th></th>\n",
       "      <th></th>\n",
       "      <th></th>\n",
       "      <th></th>\n",
       "      <th></th>\n",
       "      <th></th>\n",
       "      <th></th>\n",
       "    </tr>\n",
       "  </thead>\n",
       "  <tbody>\n",
       "    <tr>\n",
       "      <th>100000</th>\n",
       "      <td>3</td>\n",
       "      <td>0</td>\n",
       "      <td>63.01</td>\n",
       "      <td>19.0</td>\n",
       "      <td>Holliday, Daniel</td>\n",
       "      <td>0</td>\n",
       "      <td>45442</td>\n",
       "      <td>24745</td>\n",
       "      <td>1</td>\n",
       "      <td>2</td>\n",
       "    </tr>\n",
       "    <tr>\n",
       "      <th>100001</th>\n",
       "      <td>3</td>\n",
       "      <td>0</td>\n",
       "      <td>5.81</td>\n",
       "      <td>53.0</td>\n",
       "      <td>Nguyen, Lorraine</td>\n",
       "      <td>0</td>\n",
       "      <td>45442</td>\n",
       "      <td>13264</td>\n",
       "      <td>0</td>\n",
       "      <td>2</td>\n",
       "    </tr>\n",
       "    <tr>\n",
       "      <th>100002</th>\n",
       "      <td>1</td>\n",
       "      <td>0</td>\n",
       "      <td>38.91</td>\n",
       "      <td>19.0</td>\n",
       "      <td>Harris, Heather</td>\n",
       "      <td>0</td>\n",
       "      <td>13085</td>\n",
       "      <td>25990</td>\n",
       "      <td>0</td>\n",
       "      <td>0</td>\n",
       "    </tr>\n",
       "    <tr>\n",
       "      <th>100003</th>\n",
       "      <td>2</td>\n",
       "      <td>0</td>\n",
       "      <td>12.93</td>\n",
       "      <td>25.0</td>\n",
       "      <td>Larsen, Eric</td>\n",
       "      <td>0</td>\n",
       "      <td>45442</td>\n",
       "      <td>314011</td>\n",
       "      <td>1</td>\n",
       "      <td>2</td>\n",
       "    </tr>\n",
       "    <tr>\n",
       "      <th>100004</th>\n",
       "      <td>1</td>\n",
       "      <td>0</td>\n",
       "      <td>26.89</td>\n",
       "      <td>17.0</td>\n",
       "      <td>Cleary, Sarah</td>\n",
       "      <td>2</td>\n",
       "      <td>16911</td>\n",
       "      <td>26203</td>\n",
       "      <td>0</td>\n",
       "      <td>0</td>\n",
       "    </tr>\n",
       "    <tr>\n",
       "      <th>...</th>\n",
       "      <td>...</td>\n",
       "      <td>...</td>\n",
       "      <td>...</td>\n",
       "      <td>...</td>\n",
       "      <td>...</td>\n",
       "      <td>...</td>\n",
       "      <td>...</td>\n",
       "      <td>...</td>\n",
       "      <td>...</td>\n",
       "      <td>...</td>\n",
       "    </tr>\n",
       "    <tr>\n",
       "      <th>199995</th>\n",
       "      <td>3</td>\n",
       "      <td>0</td>\n",
       "      <td>10.12</td>\n",
       "      <td>27.0</td>\n",
       "      <td>Cash, Cheryle</td>\n",
       "      <td>0</td>\n",
       "      <td>45442</td>\n",
       "      <td>7686</td>\n",
       "      <td>0</td>\n",
       "      <td>1</td>\n",
       "    </tr>\n",
       "    <tr>\n",
       "      <th>199996</th>\n",
       "      <td>1</td>\n",
       "      <td>1</td>\n",
       "      <td>68.31</td>\n",
       "      <td>59.0</td>\n",
       "      <td>Brown, Howard</td>\n",
       "      <td>0</td>\n",
       "      <td>45442</td>\n",
       "      <td>13004</td>\n",
       "      <td>1</td>\n",
       "      <td>2</td>\n",
       "    </tr>\n",
       "    <tr>\n",
       "      <th>199997</th>\n",
       "      <td>3</td>\n",
       "      <td>0</td>\n",
       "      <td>10.87</td>\n",
       "      <td>47.0</td>\n",
       "      <td>Lightfoot, Cameron</td>\n",
       "      <td>0</td>\n",
       "      <td>45442</td>\n",
       "      <td>4383317</td>\n",
       "      <td>1</td>\n",
       "      <td>2</td>\n",
       "    </tr>\n",
       "    <tr>\n",
       "      <th>199998</th>\n",
       "      <td>1</td>\n",
       "      <td>1</td>\n",
       "      <td>29.68</td>\n",
       "      <td>49.0</td>\n",
       "      <td>Jacobsen, Margaret</td>\n",
       "      <td>2</td>\n",
       "      <td>16172</td>\n",
       "      <td>PC</td>\n",
       "      <td>0</td>\n",
       "      <td>0</td>\n",
       "    </tr>\n",
       "    <tr>\n",
       "      <th>199999</th>\n",
       "      <td>1</td>\n",
       "      <td>0</td>\n",
       "      <td>195.41</td>\n",
       "      <td>41.0</td>\n",
       "      <td>Fishback, Joanna</td>\n",
       "      <td>2</td>\n",
       "      <td>39240</td>\n",
       "      <td>PC</td>\n",
       "      <td>0</td>\n",
       "      <td>0</td>\n",
       "    </tr>\n",
       "  </tbody>\n",
       "</table>\n",
       "<p>100000 rows × 10 columns</p>\n",
       "</div>"
      ],
      "text/plain": [
       "             pclass  sibsp    fare   age                name  parch  cabin  \\\n",
       "passengerid                                                                  \n",
       "100000            3      0   63.01  19.0    Holliday, Daniel      0  45442   \n",
       "100001            3      0    5.81  53.0    Nguyen, Lorraine      0  45442   \n",
       "100002            1      0   38.91  19.0     Harris, Heather      0  13085   \n",
       "100003            2      0   12.93  25.0        Larsen, Eric      0  45442   \n",
       "100004            1      0   26.89  17.0       Cleary, Sarah      2  16911   \n",
       "...             ...    ...     ...   ...                 ...    ...    ...   \n",
       "199995            3      0   10.12  27.0       Cash, Cheryle      0  45442   \n",
       "199996            1      1   68.31  59.0       Brown, Howard      0  45442   \n",
       "199997            3      0   10.87  47.0  Lightfoot, Cameron      0  45442   \n",
       "199998            1      1   29.68  49.0  Jacobsen, Margaret      2  16172   \n",
       "199999            1      0  195.41  41.0    Fishback, Joanna      2  39240   \n",
       "\n",
       "              ticket  sex  embarked  \n",
       "passengerid                          \n",
       "100000         24745    1         2  \n",
       "100001         13264    0         2  \n",
       "100002         25990    0         0  \n",
       "100003        314011    1         2  \n",
       "100004         26203    0         0  \n",
       "...              ...  ...       ...  \n",
       "199995          7686    0         1  \n",
       "199996         13004    1         2  \n",
       "199997       4383317    1         2  \n",
       "199998            PC    0         0  \n",
       "199999            PC    0         0  \n",
       "\n",
       "[100000 rows x 10 columns]"
      ]
     },
     "execution_count": 70,
     "metadata": {},
     "output_type": "execute_result"
    }
   ],
   "source": [
    "transtestdata, les = transformed_features(\n",
    "    pd.concat([X[cat_cols], testdata[cat_cols]], axis=0),\n",
    "    testdata,\n",
    "    cat_cols,\n",
    "    cabin_t(testdata.cabin),\n",
    "    ticket_t(testdata.ticket),\n",
    "    les\n",
    ")\n",
    "transtestdata"
   ]
  },
  {
   "cell_type": "code",
   "execution_count": 71,
   "id": "75fb4a9f",
   "metadata": {},
   "outputs": [
    {
     "data": {
      "text/html": [
       "<div>\n",
       "<style scoped>\n",
       "    .dataframe tbody tr th:only-of-type {\n",
       "        vertical-align: middle;\n",
       "    }\n",
       "\n",
       "    .dataframe tbody tr th {\n",
       "        vertical-align: top;\n",
       "    }\n",
       "\n",
       "    .dataframe thead th {\n",
       "        text-align: right;\n",
       "    }\n",
       "</style>\n",
       "<table border=\"1\" class=\"dataframe\">\n",
       "  <thead>\n",
       "    <tr style=\"text-align: right;\">\n",
       "      <th></th>\n",
       "      <th>pclass</th>\n",
       "      <th>fare</th>\n",
       "      <th>age</th>\n",
       "      <th>cabin</th>\n",
       "      <th>sex</th>\n",
       "      <th>embarked</th>\n",
       "      <th>family</th>\n",
       "    </tr>\n",
       "    <tr>\n",
       "      <th>passengerid</th>\n",
       "      <th></th>\n",
       "      <th></th>\n",
       "      <th></th>\n",
       "      <th></th>\n",
       "      <th></th>\n",
       "      <th></th>\n",
       "      <th></th>\n",
       "    </tr>\n",
       "  </thead>\n",
       "  <tbody>\n",
       "    <tr>\n",
       "      <th>100000</th>\n",
       "      <td>3</td>\n",
       "      <td>63.01</td>\n",
       "      <td>19.0</td>\n",
       "      <td>45442</td>\n",
       "      <td>1</td>\n",
       "      <td>2</td>\n",
       "      <td>0</td>\n",
       "    </tr>\n",
       "    <tr>\n",
       "      <th>100001</th>\n",
       "      <td>3</td>\n",
       "      <td>5.81</td>\n",
       "      <td>53.0</td>\n",
       "      <td>45442</td>\n",
       "      <td>0</td>\n",
       "      <td>2</td>\n",
       "      <td>0</td>\n",
       "    </tr>\n",
       "    <tr>\n",
       "      <th>100002</th>\n",
       "      <td>1</td>\n",
       "      <td>38.91</td>\n",
       "      <td>19.0</td>\n",
       "      <td>13085</td>\n",
       "      <td>0</td>\n",
       "      <td>0</td>\n",
       "      <td>0</td>\n",
       "    </tr>\n",
       "    <tr>\n",
       "      <th>100003</th>\n",
       "      <td>2</td>\n",
       "      <td>12.93</td>\n",
       "      <td>25.0</td>\n",
       "      <td>45442</td>\n",
       "      <td>1</td>\n",
       "      <td>2</td>\n",
       "      <td>0</td>\n",
       "    </tr>\n",
       "    <tr>\n",
       "      <th>100004</th>\n",
       "      <td>1</td>\n",
       "      <td>26.89</td>\n",
       "      <td>17.0</td>\n",
       "      <td>16911</td>\n",
       "      <td>0</td>\n",
       "      <td>0</td>\n",
       "      <td>2</td>\n",
       "    </tr>\n",
       "    <tr>\n",
       "      <th>...</th>\n",
       "      <td>...</td>\n",
       "      <td>...</td>\n",
       "      <td>...</td>\n",
       "      <td>...</td>\n",
       "      <td>...</td>\n",
       "      <td>...</td>\n",
       "      <td>...</td>\n",
       "    </tr>\n",
       "    <tr>\n",
       "      <th>199995</th>\n",
       "      <td>3</td>\n",
       "      <td>10.12</td>\n",
       "      <td>27.0</td>\n",
       "      <td>45442</td>\n",
       "      <td>0</td>\n",
       "      <td>1</td>\n",
       "      <td>0</td>\n",
       "    </tr>\n",
       "    <tr>\n",
       "      <th>199996</th>\n",
       "      <td>1</td>\n",
       "      <td>68.31</td>\n",
       "      <td>59.0</td>\n",
       "      <td>45442</td>\n",
       "      <td>1</td>\n",
       "      <td>2</td>\n",
       "      <td>1</td>\n",
       "    </tr>\n",
       "    <tr>\n",
       "      <th>199997</th>\n",
       "      <td>3</td>\n",
       "      <td>10.87</td>\n",
       "      <td>47.0</td>\n",
       "      <td>45442</td>\n",
       "      <td>1</td>\n",
       "      <td>2</td>\n",
       "      <td>0</td>\n",
       "    </tr>\n",
       "    <tr>\n",
       "      <th>199998</th>\n",
       "      <td>1</td>\n",
       "      <td>29.68</td>\n",
       "      <td>49.0</td>\n",
       "      <td>16172</td>\n",
       "      <td>0</td>\n",
       "      <td>0</td>\n",
       "      <td>3</td>\n",
       "    </tr>\n",
       "    <tr>\n",
       "      <th>199999</th>\n",
       "      <td>1</td>\n",
       "      <td>195.41</td>\n",
       "      <td>41.0</td>\n",
       "      <td>39240</td>\n",
       "      <td>0</td>\n",
       "      <td>0</td>\n",
       "      <td>2</td>\n",
       "    </tr>\n",
       "  </tbody>\n",
       "</table>\n",
       "<p>100000 rows × 7 columns</p>\n",
       "</div>"
      ],
      "text/plain": [
       "             pclass    fare   age  cabin  sex  embarked  family\n",
       "passengerid                                                    \n",
       "100000            3   63.01  19.0  45442    1         2       0\n",
       "100001            3    5.81  53.0  45442    0         2       0\n",
       "100002            1   38.91  19.0  13085    0         0       0\n",
       "100003            2   12.93  25.0  45442    1         2       0\n",
       "100004            1   26.89  17.0  16911    0         0       2\n",
       "...             ...     ...   ...    ...  ...       ...     ...\n",
       "199995            3   10.12  27.0  45442    0         1       0\n",
       "199996            1   68.31  59.0  45442    1         2       1\n",
       "199997            3   10.87  47.0  45442    1         2       0\n",
       "199998            1   29.68  49.0  16172    0         0       3\n",
       "199999            1  195.41  41.0  39240    0         0       2\n",
       "\n",
       "[100000 rows x 7 columns]"
      ]
     },
     "execution_count": 71,
     "metadata": {},
     "output_type": "execute_result"
    }
   ],
   "source": [
    "finaltestdata = final_imputed_features(dropped_features(engineered_features(\n",
    "    transtestdata,\n",
    "    family(transtestdata.sibsp, transtestdata.parch),\n",
    "), drop_cols))\n",
    "finaltestdata"
   ]
  },
  {
   "cell_type": "code",
   "execution_count": 72,
   "id": "8561fddb",
   "metadata": {},
   "outputs": [
    {
     "name": "stderr",
     "output_type": "stream",
     "text": [
      "/Users/rahul/miniforge3/envs/ml1-arm64/lib/python3.9/site-packages/sklearn/base.py:493: FutureWarning: The feature names should match those that were passed during fit. Starting version 1.2, an error will be raised.\n",
      "Feature names must be in the same order as they were in fit.\n",
      "\n",
      "  warnings.warn(message, FutureWarning)\n"
     ]
    },
    {
     "data": {
      "text/plain": [
       "array([0, 0, 1, ..., 0, 1, 1])"
      ]
     },
     "execution_count": 72,
     "metadata": {},
     "output_type": "execute_result"
    }
   ],
   "source": [
    "rf.predict(finaltestdata)"
   ]
  }
 ],
 "metadata": {
  "kernelspec": {
   "display_name": "ml1-arm64",
   "language": "python",
   "name": "ml1-arm64"
  },
  "language_info": {
   "codemirror_mode": {
    "name": "ipython",
    "version": 3
   },
   "file_extension": ".py",
   "mimetype": "text/x-python",
   "name": "python",
   "nbconvert_exporter": "python",
   "pygments_lexer": "ipython3",
   "version": "3.9.13"
  }
 },
 "nbformat": 4,
 "nbformat_minor": 5
}
