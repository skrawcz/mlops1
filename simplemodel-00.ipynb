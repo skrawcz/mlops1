{
 "cells": [
  {
   "cell_type": "markdown",
   "id": "fc1ca342",
   "metadata": {},
   "source": [
    "# A Simple Model"
   ]
  },
  {
   "cell_type": "code",
   "execution_count": 1,
   "id": "6e2d31c4",
   "metadata": {},
   "outputs": [],
   "source": [
    "import pandas as pd\n",
    "from sklearn import preprocessing\n",
    "from sklearn.model_selection import train_test_split\n",
    "import joblib\n",
    "import numpy as np\n",
    "import matplotlib.pyplot as plt\n",
    "%matplotlib inline"
   ]
  },
  {
   "cell_type": "code",
   "execution_count": 2,
   "id": "67c7db52",
   "metadata": {},
   "outputs": [],
   "source": [
    "RANDOM_STATE = 42"
   ]
  },
  {
   "cell_type": "markdown",
   "id": "d90ffaea",
   "metadata": {},
   "source": [
    "## Functions"
   ]
  },
  {
   "cell_type": "markdown",
   "id": "3257f93e",
   "metadata": {},
   "source": [
    "### for Feature Engineering"
   ]
  },
  {
   "cell_type": "code",
   "execution_count": 3,
   "id": "9665fb43",
   "metadata": {},
   "outputs": [],
   "source": [
    "# Constant\n",
    "drop_cols = [\"Name\", \"SibSp\", \"Parch\", \"Ticket\"]\n",
    "obj_col = \"Survived\"\n",
    "train_df_path = \"data/train.csv\"\n",
    "test_df_path = \"data/test.csv\"\n",
    "\n",
    "## feature engineering\n",
    "def feature_engineering(raw_df):\n",
    "    df = raw_df.copy()\n",
    "    df[\"Cabin\"] = df[\"Cabin\"].apply(lambda x: x[:1] if x is not np.nan else np.nan)\n",
    "    df[\"Ticket\"] = df[\"Ticket\"].apply(lambda x: str(x).split()[0])\n",
    "    df[\"Family\"] = df[\"SibSp\"] + df[\"Parch\"]\n",
    "    return df"
   ]
  },
  {
   "cell_type": "code",
   "execution_count": 4,
   "id": "b520cdc3",
   "metadata": {},
   "outputs": [],
   "source": [
    "# cat\n",
    "def to_category(train_df, test_df):\n",
    "    cat = [\"Sex\", \"Cabin\", \"Embarked\"]\n",
    "    mappings = {}\n",
    "    for col in cat:\n",
    "        le = preprocessing.LabelEncoder()\n",
    "        train_df[col] = le.fit_transform(train_df[col])\n",
    "        test_df[col] = le.transform(test_df[col])\n",
    "        mappings[col] = dict(zip(le.classes_, le.transform(le.classes_)))\n",
    "    return train_df, test_df, mappings"
   ]
  },
  {
   "cell_type": "code",
   "execution_count": 5,
   "id": "e72ee979",
   "metadata": {},
   "outputs": [],
   "source": [
    "def get_predictions(clf, X, t=0.5):\n",
    "    y_proba = clf.predict_proba(X)[:, 1]\n",
    "    predictions  = 1*(y_proba >= t)\n",
    "    return y_proba, predictions"
   ]
  },
  {
   "cell_type": "markdown",
   "id": "17dbb45a",
   "metadata": {},
   "source": [
    "### for  Metrics and Plots"
   ]
  },
  {
   "cell_type": "code",
   "execution_count": 6,
   "id": "f328d5b2",
   "metadata": {},
   "outputs": [],
   "source": [
    "from sklearn.metrics import (\n",
    "    roc_auc_score,\n",
    "    average_precision_score,\n",
    "    accuracy_score,\n",
    "    precision_score,\n",
    "    recall_score,\n",
    "    f1_score,\n",
    "    confusion_matrix,\n",
    "    ConfusionMatrixDisplay,\n",
    "    roc_curve,\n",
    "    RocCurveDisplay,\n",
    "    precision_recall_curve,\n",
    "    PrecisionRecallDisplay,\n",
    ")"
   ]
  },
  {
   "cell_type": "code",
   "execution_count": 7,
   "id": "4855cb6e",
   "metadata": {},
   "outputs": [],
   "source": [
    "def get_metrics_noproba(y, ypred):\n",
    "    return {\n",
    "        \"accuracy\": accuracy_score(y, ypred),\n",
    "        \"precision\": precision_score(y, ypred),\n",
    "        \"recall\": recall_score(y, ypred),\n",
    "        \"f1\": f1_score(y, ypred),\n",
    "        \"cm\": confusion_matrix(y, ypred)\n",
    "    }"
   ]
  },
  {
   "cell_type": "code",
   "execution_count": 8,
   "id": "9d8bdf7b",
   "metadata": {},
   "outputs": [],
   "source": [
    "def get_plots_noproba(y, ypred):\n",
    "    cm = confusion_matrix(y, ypred)\n",
    "    cm_plot = ConfusionMatrixDisplay(cm)\n",
    "    return {\n",
    "        'cm': cm_plot\n",
    "    }"
   ]
  },
  {
   "cell_type": "code",
   "execution_count": 9,
   "id": "1b86f1fc",
   "metadata": {},
   "outputs": [],
   "source": [
    "def get_metrics(y, ypred, yproba):\n",
    "    return {\n",
    "        \"roc_auc\": roc_auc_score(y, yproba),\n",
    "        \"average_precision\": average_precision_score(y, yproba),\n",
    "        \"accuracy\": accuracy_score(y, ypred),\n",
    "        \"precision\": precision_score(y, ypred),\n",
    "        \"recall\": recall_score(y, ypred),\n",
    "        \"f1\": f1_score(y, ypred),\n",
    "        \"cm\": confusion_matrix(y, ypred)\n",
    "    }"
   ]
  },
  {
   "cell_type": "code",
   "execution_count": 10,
   "id": "8ce4b1bc",
   "metadata": {},
   "outputs": [],
   "source": [
    "def get_plots(y, ypred, yproba):\n",
    "    cm = confusion_matrix(y, ypred)\n",
    "    cm_plot = ConfusionMatrixDisplay(cm)\n",
    "    fpr, tpr, _ = roc_curve(y, yproba)\n",
    "    roc_plot = RocCurveDisplay(fpr=fpr, tpr=tpr)\n",
    "    prec, recall, _ = precision_recall_curve(y, yproba)\n",
    "    pr_plot = PrecisionRecallDisplay(precision=prec, recall=recall)\n",
    "    return {\n",
    "        'cm': cm_plot,\n",
    "        'roc': roc_plot,\n",
    "        'pr': pr_plot\n",
    "    }"
   ]
  },
  {
   "cell_type": "code",
   "execution_count": 11,
   "id": "13e23f78",
   "metadata": {},
   "outputs": [],
   "source": [
    "# evaluation\n",
    "def eval_model(clf, X, y):\n",
    "    y_proba, y_pred = get_predictions(clf, X)\n",
    "    metrics =  get_metrics(y, y_pred, y_proba)\n",
    "    plots = get_plots(y, y_pred, y_proba)\n",
    "    return metrics, plots"
   ]
  },
  {
   "cell_type": "markdown",
   "id": "c29c4c2f",
   "metadata": {},
   "source": [
    "## Working On Actual Data\n",
    "\n",
    "Our test set here actually has no ground truth. We'll thus use the original training set and split it up into train and validation. "
   ]
  },
  {
   "cell_type": "markdown",
   "id": "43a5554f",
   "metadata": {},
   "source": [
    "Here are the features in the data:"
   ]
  },
  {
   "cell_type": "markdown",
   "id": "638d4698",
   "metadata": {},
   "source": [
    "```\n",
    "survival - Survival (0 = No; 1 = Yes)\n",
    "class - Passenger Class (1 = 1st; 2 = 2nd; 3 = 3rd)\n",
    "name - Name\n",
    "sex - Sex\n",
    "age - Age\n",
    "sibsp - Number of Siblings/Spouses Aboard\n",
    "parch - Number of Parents/Children Aboard\n",
    "ticket - Ticket Number\n",
    "fare - Passenger Fare\n",
    "cabin - Cabin\n",
    "embarked - Port of Embarkation (C = Cherbourg; Q = Queenstown; S = Southampton)\n",
    "boat - Lifeboat (if survived)\n",
    "body - Body number (if did not survive and body was recovered)\n",
    "```"
   ]
  },
  {
   "cell_type": "code",
   "execution_count": 12,
   "id": "63d738a6",
   "metadata": {},
   "outputs": [
    {
     "name": "stdout",
     "output_type": "stream",
     "text": [
      "Loading data...\n"
     ]
    }
   ],
   "source": [
    "print(\"Loading data...\")\n",
    "df_train = pd.read_csv(train_df_path, index_col=\"PassengerId\")\n",
    "df_test = pd.read_csv(test_df_path, index_col=\"PassengerId\")"
   ]
  },
  {
   "cell_type": "markdown",
   "id": "451973c5",
   "metadata": {},
   "source": [
    "### Some EDA"
   ]
  },
  {
   "cell_type": "code",
   "execution_count": 13,
   "id": "14bea4ab",
   "metadata": {},
   "outputs": [
    {
     "data": {
      "text/html": [
       "<div>\n",
       "<style scoped>\n",
       "    .dataframe tbody tr th:only-of-type {\n",
       "        vertical-align: middle;\n",
       "    }\n",
       "\n",
       "    .dataframe tbody tr th {\n",
       "        vertical-align: top;\n",
       "    }\n",
       "\n",
       "    .dataframe thead th {\n",
       "        text-align: right;\n",
       "    }\n",
       "</style>\n",
       "<table border=\"1\" class=\"dataframe\">\n",
       "  <thead>\n",
       "    <tr style=\"text-align: right;\">\n",
       "      <th></th>\n",
       "      <th>Survived</th>\n",
       "      <th>Pclass</th>\n",
       "      <th>Name</th>\n",
       "      <th>Sex</th>\n",
       "      <th>Age</th>\n",
       "      <th>SibSp</th>\n",
       "      <th>Parch</th>\n",
       "      <th>Ticket</th>\n",
       "      <th>Fare</th>\n",
       "      <th>Cabin</th>\n",
       "      <th>Embarked</th>\n",
       "    </tr>\n",
       "    <tr>\n",
       "      <th>PassengerId</th>\n",
       "      <th></th>\n",
       "      <th></th>\n",
       "      <th></th>\n",
       "      <th></th>\n",
       "      <th></th>\n",
       "      <th></th>\n",
       "      <th></th>\n",
       "      <th></th>\n",
       "      <th></th>\n",
       "      <th></th>\n",
       "      <th></th>\n",
       "    </tr>\n",
       "  </thead>\n",
       "  <tbody>\n",
       "    <tr>\n",
       "      <th>0</th>\n",
       "      <td>1</td>\n",
       "      <td>1</td>\n",
       "      <td>Oconnor, Frankie</td>\n",
       "      <td>male</td>\n",
       "      <td>NaN</td>\n",
       "      <td>2</td>\n",
       "      <td>0</td>\n",
       "      <td>209245</td>\n",
       "      <td>27.14</td>\n",
       "      <td>C12239</td>\n",
       "      <td>S</td>\n",
       "    </tr>\n",
       "    <tr>\n",
       "      <th>1</th>\n",
       "      <td>0</td>\n",
       "      <td>3</td>\n",
       "      <td>Bryan, Drew</td>\n",
       "      <td>male</td>\n",
       "      <td>NaN</td>\n",
       "      <td>0</td>\n",
       "      <td>0</td>\n",
       "      <td>27323</td>\n",
       "      <td>13.35</td>\n",
       "      <td>NaN</td>\n",
       "      <td>S</td>\n",
       "    </tr>\n",
       "    <tr>\n",
       "      <th>2</th>\n",
       "      <td>0</td>\n",
       "      <td>3</td>\n",
       "      <td>Owens, Kenneth</td>\n",
       "      <td>male</td>\n",
       "      <td>0.33</td>\n",
       "      <td>1</td>\n",
       "      <td>2</td>\n",
       "      <td>CA 457703</td>\n",
       "      <td>71.29</td>\n",
       "      <td>NaN</td>\n",
       "      <td>S</td>\n",
       "    </tr>\n",
       "    <tr>\n",
       "      <th>3</th>\n",
       "      <td>0</td>\n",
       "      <td>3</td>\n",
       "      <td>Kramer, James</td>\n",
       "      <td>male</td>\n",
       "      <td>19.00</td>\n",
       "      <td>0</td>\n",
       "      <td>0</td>\n",
       "      <td>A. 10866</td>\n",
       "      <td>13.04</td>\n",
       "      <td>NaN</td>\n",
       "      <td>S</td>\n",
       "    </tr>\n",
       "    <tr>\n",
       "      <th>4</th>\n",
       "      <td>1</td>\n",
       "      <td>3</td>\n",
       "      <td>Bond, Michael</td>\n",
       "      <td>male</td>\n",
       "      <td>25.00</td>\n",
       "      <td>0</td>\n",
       "      <td>0</td>\n",
       "      <td>427635</td>\n",
       "      <td>7.76</td>\n",
       "      <td>NaN</td>\n",
       "      <td>S</td>\n",
       "    </tr>\n",
       "  </tbody>\n",
       "</table>\n",
       "</div>"
      ],
      "text/plain": [
       "             Survived  Pclass              Name   Sex    Age  SibSp  Parch  \\\n",
       "PassengerId                                                                  \n",
       "0                   1       1  Oconnor, Frankie  male    NaN      2      0   \n",
       "1                   0       3       Bryan, Drew  male    NaN      0      0   \n",
       "2                   0       3    Owens, Kenneth  male   0.33      1      2   \n",
       "3                   0       3     Kramer, James  male  19.00      0      0   \n",
       "4                   1       3     Bond, Michael  male  25.00      0      0   \n",
       "\n",
       "                Ticket   Fare   Cabin Embarked  \n",
       "PassengerId                                     \n",
       "0               209245  27.14  C12239        S  \n",
       "1                27323  13.35     NaN        S  \n",
       "2            CA 457703  71.29     NaN        S  \n",
       "3             A. 10866  13.04     NaN        S  \n",
       "4               427635   7.76     NaN        S  "
      ]
     },
     "execution_count": 13,
     "metadata": {},
     "output_type": "execute_result"
    }
   ],
   "source": [
    "df_train.head()"
   ]
  },
  {
   "cell_type": "code",
   "execution_count": 14,
   "id": "61c9d2bc",
   "metadata": {},
   "outputs": [
    {
     "data": {
      "image/png": "[encoded data removed]",
      "text/plain": [
       "<Figure size 640x480 with 1 Axes>"
      ]
     },
     "metadata": {},
     "output_type": "display_data"
    }
   ],
   "source": [
    "df_train[df_train.Survived==1].Age.hist()\n",
    "plt.show()"
   ]
  },
  {
   "cell_type": "code",
   "execution_count": 16,
   "id": "a85cdb58",
   "metadata": {},
   "outputs": [
    {
     "data": {
      "image/png": "[encoded data removed]",
      "text/plain": [
       "<Figure size 640x480 with 1 Axes>"
      ]
     },
     "metadata": {},
     "output_type": "display_data"
    }
   ],
   "source": [
    "df_train[df_train.Survived==1].Fare.hist()\n",
    "plt.show()"
   ]
  },
  {
   "cell_type": "code",
   "execution_count": 17,
   "id": "bba579aa",
   "metadata": {},
   "outputs": [
    {
     "data": {
      "text/html": [
       "<div>\n",
       "<style scoped>\n",
       "    .dataframe tbody tr th:only-of-type {\n",
       "        vertical-align: middle;\n",
       "    }\n",
       "\n",
       "    .dataframe tbody tr th {\n",
       "        vertical-align: top;\n",
       "    }\n",
       "\n",
       "    .dataframe thead th {\n",
       "        text-align: right;\n",
       "    }\n",
       "</style>\n",
       "<table border=\"1\" class=\"dataframe\">\n",
       "  <thead>\n",
       "    <tr style=\"text-align: right;\">\n",
       "      <th></th>\n",
       "      <th>Pclass</th>\n",
       "      <th>Name</th>\n",
       "      <th>Sex</th>\n",
       "      <th>Age</th>\n",
       "      <th>SibSp</th>\n",
       "      <th>Parch</th>\n",
       "      <th>Ticket</th>\n",
       "      <th>Fare</th>\n",
       "      <th>Cabin</th>\n",
       "      <th>Embarked</th>\n",
       "    </tr>\n",
       "    <tr>\n",
       "      <th>PassengerId</th>\n",
       "      <th></th>\n",
       "      <th></th>\n",
       "      <th></th>\n",
       "      <th></th>\n",
       "      <th></th>\n",
       "      <th></th>\n",
       "      <th></th>\n",
       "      <th></th>\n",
       "      <th></th>\n",
       "      <th></th>\n",
       "    </tr>\n",
       "  </thead>\n",
       "  <tbody>\n",
       "    <tr>\n",
       "      <th>100000</th>\n",
       "      <td>3</td>\n",
       "      <td>Holliday, Daniel</td>\n",
       "      <td>male</td>\n",
       "      <td>19.0</td>\n",
       "      <td>0</td>\n",
       "      <td>0</td>\n",
       "      <td>24745</td>\n",
       "      <td>63.01</td>\n",
       "      <td>NaN</td>\n",
       "      <td>S</td>\n",
       "    </tr>\n",
       "    <tr>\n",
       "      <th>100001</th>\n",
       "      <td>3</td>\n",
       "      <td>Nguyen, Lorraine</td>\n",
       "      <td>female</td>\n",
       "      <td>53.0</td>\n",
       "      <td>0</td>\n",
       "      <td>0</td>\n",
       "      <td>13264</td>\n",
       "      <td>5.81</td>\n",
       "      <td>NaN</td>\n",
       "      <td>S</td>\n",
       "    </tr>\n",
       "    <tr>\n",
       "      <th>100002</th>\n",
       "      <td>1</td>\n",
       "      <td>Harris, Heather</td>\n",
       "      <td>female</td>\n",
       "      <td>19.0</td>\n",
       "      <td>0</td>\n",
       "      <td>0</td>\n",
       "      <td>25990</td>\n",
       "      <td>38.91</td>\n",
       "      <td>B15315</td>\n",
       "      <td>C</td>\n",
       "    </tr>\n",
       "    <tr>\n",
       "      <th>100003</th>\n",
       "      <td>2</td>\n",
       "      <td>Larsen, Eric</td>\n",
       "      <td>male</td>\n",
       "      <td>25.0</td>\n",
       "      <td>0</td>\n",
       "      <td>0</td>\n",
       "      <td>314011</td>\n",
       "      <td>12.93</td>\n",
       "      <td>NaN</td>\n",
       "      <td>S</td>\n",
       "    </tr>\n",
       "    <tr>\n",
       "      <th>100004</th>\n",
       "      <td>1</td>\n",
       "      <td>Cleary, Sarah</td>\n",
       "      <td>female</td>\n",
       "      <td>17.0</td>\n",
       "      <td>0</td>\n",
       "      <td>2</td>\n",
       "      <td>26203</td>\n",
       "      <td>26.89</td>\n",
       "      <td>B22515</td>\n",
       "      <td>C</td>\n",
       "    </tr>\n",
       "  </tbody>\n",
       "</table>\n",
       "</div>"
      ],
      "text/plain": [
       "             Pclass              Name     Sex   Age  SibSp  Parch  Ticket  \\\n",
       "PassengerId                                                                 \n",
       "100000            3  Holliday, Daniel    male  19.0      0      0   24745   \n",
       "100001            3  Nguyen, Lorraine  female  53.0      0      0   13264   \n",
       "100002            1   Harris, Heather  female  19.0      0      0   25990   \n",
       "100003            2      Larsen, Eric    male  25.0      0      0  314011   \n",
       "100004            1     Cleary, Sarah  female  17.0      0      2   26203   \n",
       "\n",
       "              Fare   Cabin Embarked  \n",
       "PassengerId                          \n",
       "100000       63.01     NaN        S  \n",
       "100001        5.81     NaN        S  \n",
       "100002       38.91  B15315        C  \n",
       "100003       12.93     NaN        S  \n",
       "100004       26.89  B22515        C  "
      ]
     },
     "execution_count": 17,
     "metadata": {},
     "output_type": "execute_result"
    }
   ],
   "source": [
    "df_test.head()"
   ]
  },
  {
   "cell_type": "markdown",
   "id": "8da28996",
   "metadata": {},
   "source": [
    "### Feature Engineering"
   ]
  },
  {
   "cell_type": "code",
   "execution_count": 18,
   "id": "0b914c34",
   "metadata": {},
   "outputs": [
    {
     "name": "stdout",
     "output_type": "stream",
     "text": [
      "Engineering features...\n"
     ]
    }
   ],
   "source": [
    "print(\"Engineering features...\")\n",
    "y = df_train[obj_col]\n",
    "train_df = feature_engineering(df_train).drop(drop_cols + [obj_col], axis=1)\n",
    "test_df = feature_engineering(df_test).drop(drop_cols, axis=1)\n",
    "train_df, test_df, mappings = to_category(train_df, test_df)"
   ]
  },
  {
   "cell_type": "code",
   "execution_count": 19,
   "id": "3a27c6f0",
   "metadata": {},
   "outputs": [
    {
     "data": {
      "text/plain": [
       "{'Sex': {'female': 0, 'male': 1},\n",
       " 'Cabin': {'A': 0,\n",
       "  'B': 1,\n",
       "  'C': 2,\n",
       "  'D': 3,\n",
       "  'E': 4,\n",
       "  'F': 5,\n",
       "  'G': 6,\n",
       "  'T': 7,\n",
       "  nan: 8},\n",
       " 'Embarked': {'C': 0, 'Q': 1, 'S': 2, nan: 3}}"
      ]
     },
     "execution_count": 19,
     "metadata": {},
     "output_type": "execute_result"
    }
   ],
   "source": [
    "mappings"
   ]
  },
  {
   "cell_type": "markdown",
   "id": "c5ff0603",
   "metadata": {},
   "source": [
    "### Value Imputation"
   ]
  },
  {
   "cell_type": "code",
   "execution_count": 20,
   "id": "f38767e2",
   "metadata": {},
   "outputs": [],
   "source": [
    "train_df = train_df.fillna(0)\n",
    "test_df = test_df.fillna(0)"
   ]
  },
  {
   "cell_type": "code",
   "execution_count": 21,
   "id": "8b891407",
   "metadata": {},
   "outputs": [
    {
     "data": {
      "text/html": [
       "<div>\n",
       "<style scoped>\n",
       "    .dataframe tbody tr th:only-of-type {\n",
       "        vertical-align: middle;\n",
       "    }\n",
       "\n",
       "    .dataframe tbody tr th {\n",
       "        vertical-align: top;\n",
       "    }\n",
       "\n",
       "    .dataframe thead th {\n",
       "        text-align: right;\n",
       "    }\n",
       "</style>\n",
       "<table border=\"1\" class=\"dataframe\">\n",
       "  <thead>\n",
       "    <tr style=\"text-align: right;\">\n",
       "      <th></th>\n",
       "      <th>Pclass</th>\n",
       "      <th>Sex</th>\n",
       "      <th>Age</th>\n",
       "      <th>Fare</th>\n",
       "      <th>Cabin</th>\n",
       "      <th>Embarked</th>\n",
       "      <th>Family</th>\n",
       "    </tr>\n",
       "    <tr>\n",
       "      <th>PassengerId</th>\n",
       "      <th></th>\n",
       "      <th></th>\n",
       "      <th></th>\n",
       "      <th></th>\n",
       "      <th></th>\n",
       "      <th></th>\n",
       "      <th></th>\n",
       "    </tr>\n",
       "  </thead>\n",
       "  <tbody>\n",
       "    <tr>\n",
       "      <th>0</th>\n",
       "      <td>1</td>\n",
       "      <td>1</td>\n",
       "      <td>0.00</td>\n",
       "      <td>27.14</td>\n",
       "      <td>2</td>\n",
       "      <td>2</td>\n",
       "      <td>2</td>\n",
       "    </tr>\n",
       "    <tr>\n",
       "      <th>1</th>\n",
       "      <td>3</td>\n",
       "      <td>1</td>\n",
       "      <td>0.00</td>\n",
       "      <td>13.35</td>\n",
       "      <td>8</td>\n",
       "      <td>2</td>\n",
       "      <td>0</td>\n",
       "    </tr>\n",
       "    <tr>\n",
       "      <th>2</th>\n",
       "      <td>3</td>\n",
       "      <td>1</td>\n",
       "      <td>0.33</td>\n",
       "      <td>71.29</td>\n",
       "      <td>8</td>\n",
       "      <td>2</td>\n",
       "      <td>3</td>\n",
       "    </tr>\n",
       "    <tr>\n",
       "      <th>3</th>\n",
       "      <td>3</td>\n",
       "      <td>1</td>\n",
       "      <td>19.00</td>\n",
       "      <td>13.04</td>\n",
       "      <td>8</td>\n",
       "      <td>2</td>\n",
       "      <td>0</td>\n",
       "    </tr>\n",
       "    <tr>\n",
       "      <th>4</th>\n",
       "      <td>3</td>\n",
       "      <td>1</td>\n",
       "      <td>25.00</td>\n",
       "      <td>7.76</td>\n",
       "      <td>8</td>\n",
       "      <td>2</td>\n",
       "      <td>0</td>\n",
       "    </tr>\n",
       "  </tbody>\n",
       "</table>\n",
       "</div>"
      ],
      "text/plain": [
       "             Pclass  Sex    Age   Fare  Cabin  Embarked  Family\n",
       "PassengerId                                                    \n",
       "0                 1    1   0.00  27.14      2         2       2\n",
       "1                 3    1   0.00  13.35      8         2       0\n",
       "2                 3    1   0.33  71.29      8         2       3\n",
       "3                 3    1  19.00  13.04      8         2       0\n",
       "4                 3    1  25.00   7.76      8         2       0"
      ]
     },
     "execution_count": 21,
     "metadata": {},
     "output_type": "execute_result"
    }
   ],
   "source": [
    "train_df.head()"
   ]
  },
  {
   "cell_type": "code",
   "execution_count": 22,
   "id": "5bdad191",
   "metadata": {},
   "outputs": [
    {
     "data": {
      "text/html": [
       "<div>\n",
       "<style scoped>\n",
       "    .dataframe tbody tr th:only-of-type {\n",
       "        vertical-align: middle;\n",
       "    }\n",
       "\n",
       "    .dataframe tbody tr th {\n",
       "        vertical-align: top;\n",
       "    }\n",
       "\n",
       "    .dataframe thead th {\n",
       "        text-align: right;\n",
       "    }\n",
       "</style>\n",
       "<table border=\"1\" class=\"dataframe\">\n",
       "  <thead>\n",
       "    <tr style=\"text-align: right;\">\n",
       "      <th></th>\n",
       "      <th>Pclass</th>\n",
       "      <th>Sex</th>\n",
       "      <th>Age</th>\n",
       "      <th>Fare</th>\n",
       "      <th>Cabin</th>\n",
       "      <th>Embarked</th>\n",
       "      <th>Family</th>\n",
       "    </tr>\n",
       "  </thead>\n",
       "  <tbody>\n",
       "    <tr>\n",
       "      <th>count</th>\n",
       "      <td>100000.000000</td>\n",
       "      <td>100000.00000</td>\n",
       "      <td>100000.00000</td>\n",
       "      <td>100000.000000</td>\n",
       "      <td>100000.000000</td>\n",
       "      <td>100000.000000</td>\n",
       "      <td>100000.000000</td>\n",
       "    </tr>\n",
       "    <tr>\n",
       "      <th>mean</th>\n",
       "      <td>2.106910</td>\n",
       "      <td>0.56114</td>\n",
       "      <td>37.09281</td>\n",
       "      <td>43.870465</td>\n",
       "      <td>5.983550</td>\n",
       "      <td>1.504520</td>\n",
       "      <td>0.852250</td>\n",
       "    </tr>\n",
       "    <tr>\n",
       "      <th>std</th>\n",
       "      <td>0.837727</td>\n",
       "      <td>0.49625</td>\n",
       "      <td>19.26607</td>\n",
       "      <td>69.560745</td>\n",
       "      <td>3.023404</td>\n",
       "      <td>0.835899</td>\n",
       "      <td>1.412792</td>\n",
       "    </tr>\n",
       "    <tr>\n",
       "      <th>min</th>\n",
       "      <td>1.000000</td>\n",
       "      <td>0.00000</td>\n",
       "      <td>0.00000</td>\n",
       "      <td>0.000000</td>\n",
       "      <td>0.000000</td>\n",
       "      <td>0.000000</td>\n",
       "      <td>0.000000</td>\n",
       "    </tr>\n",
       "    <tr>\n",
       "      <th>25%</th>\n",
       "      <td>1.000000</td>\n",
       "      <td>0.00000</td>\n",
       "      <td>24.00000</td>\n",
       "      <td>10.020000</td>\n",
       "      <td>2.000000</td>\n",
       "      <td>1.000000</td>\n",
       "      <td>0.000000</td>\n",
       "    </tr>\n",
       "    <tr>\n",
       "      <th>50%</th>\n",
       "      <td>2.000000</td>\n",
       "      <td>1.00000</td>\n",
       "      <td>38.00000</td>\n",
       "      <td>24.440000</td>\n",
       "      <td>8.000000</td>\n",
       "      <td>2.000000</td>\n",
       "      <td>0.000000</td>\n",
       "    </tr>\n",
       "    <tr>\n",
       "      <th>75%</th>\n",
       "      <td>3.000000</td>\n",
       "      <td>1.00000</td>\n",
       "      <td>53.00000</td>\n",
       "      <td>33.470000</td>\n",
       "      <td>8.000000</td>\n",
       "      <td>2.000000</td>\n",
       "      <td>1.000000</td>\n",
       "    </tr>\n",
       "    <tr>\n",
       "      <th>max</th>\n",
       "      <td>3.000000</td>\n",
       "      <td>1.00000</td>\n",
       "      <td>87.00000</td>\n",
       "      <td>744.660000</td>\n",
       "      <td>8.000000</td>\n",
       "      <td>3.000000</td>\n",
       "      <td>17.000000</td>\n",
       "    </tr>\n",
       "  </tbody>\n",
       "</table>\n",
       "</div>"
      ],
      "text/plain": [
       "              Pclass           Sex           Age           Fare  \\\n",
       "count  100000.000000  100000.00000  100000.00000  100000.000000   \n",
       "mean        2.106910       0.56114      37.09281      43.870465   \n",
       "std         0.837727       0.49625      19.26607      69.560745   \n",
       "min         1.000000       0.00000       0.00000       0.000000   \n",
       "25%         1.000000       0.00000      24.00000      10.020000   \n",
       "50%         2.000000       1.00000      38.00000      24.440000   \n",
       "75%         3.000000       1.00000      53.00000      33.470000   \n",
       "max         3.000000       1.00000      87.00000     744.660000   \n",
       "\n",
       "               Cabin       Embarked         Family  \n",
       "count  100000.000000  100000.000000  100000.000000  \n",
       "mean        5.983550       1.504520       0.852250  \n",
       "std         3.023404       0.835899       1.412792  \n",
       "min         0.000000       0.000000       0.000000  \n",
       "25%         2.000000       1.000000       0.000000  \n",
       "50%         8.000000       2.000000       0.000000  \n",
       "75%         8.000000       2.000000       1.000000  \n",
       "max         8.000000       3.000000      17.000000  "
      ]
     },
     "execution_count": 22,
     "metadata": {},
     "output_type": "execute_result"
    }
   ],
   "source": [
    "train_df.describe()"
   ]
  },
  {
   "cell_type": "code",
   "execution_count": 23,
   "id": "f21fa79d",
   "metadata": {},
   "outputs": [
    {
     "name": "stdout",
     "output_type": "stream",
     "text": [
      "Pclass [1 3 2]\n",
      "Sex [1 0]\n",
      "Cabin [2 8 0 3 1 4 5 6 7]\n",
      "Embarked [2 0 1 3]\n",
      "Family [ 2  0  3  1  4  6  5  9  7 10  8 13 11 17 12 14]\n"
     ]
    }
   ],
   "source": [
    "for col in ['Pclass', 'Sex', 'Cabin', 'Embarked', 'Family']:\n",
    "    print(col, train_df[col].unique())"
   ]
  },
  {
   "cell_type": "markdown",
   "id": "2c9a0b38",
   "metadata": {},
   "source": [
    "### Train-Validation Split"
   ]
  },
  {
   "cell_type": "code",
   "execution_count": 24,
   "id": "596003ff",
   "metadata": {},
   "outputs": [
    {
     "name": "stdout",
     "output_type": "stream",
     "text": [
      "Training model...\n"
     ]
    }
   ],
   "source": [
    "print(\"Training model...\")\n",
    "X_train, X_valid, y_train, y_valid = train_test_split(\n",
    "    train_df, y, test_size=0.33, random_state=RANDOM_STATE, stratify=y\n",
    ")"
   ]
  },
  {
   "cell_type": "markdown",
   "id": "fadb08e3",
   "metadata": {},
   "source": [
    "## Model Training"
   ]
  },
  {
   "cell_type": "markdown",
   "id": "257e4fd9",
   "metadata": {},
   "source": [
    "### Very Baseline Model"
   ]
  },
  {
   "cell_type": "code",
   "execution_count": 25,
   "id": "57a3e0d9",
   "metadata": {},
   "outputs": [
    {
     "data": {
      "text/plain": [
       "(0.42774626865671644, 0.42772727272727273)"
      ]
     },
     "execution_count": 25,
     "metadata": {},
     "output_type": "execute_result"
    }
   ],
   "source": [
    "np.mean(y_train), np.mean(y_valid)"
   ]
  },
  {
   "cell_type": "markdown",
   "id": "17c16806",
   "metadata": {},
   "source": [
    "Everyone Dies"
   ]
  },
  {
   "cell_type": "code",
   "execution_count": 26,
   "id": "b3ca6b63",
   "metadata": {},
   "outputs": [
    {
     "name": "stdout",
     "output_type": "stream",
     "text": [
      "TRAIN/ALLDIE {'accuracy': 0.42774626865671644, 'precision': 0.42774626865671644, 'recall': 1.0, 'f1': 0.5991908759238546, 'cm': array([[    0, 38341],\n",
      "       [    0, 28659]])}\n",
      "VALID/ALLDIE {'accuracy': 0.42772727272727273, 'precision': 0.42772727272727273, 'recall': 1.0, 'f1': 0.5991722381407195, 'cm': array([[    0, 18885],\n",
      "       [    0, 14115]])}\n"
     ]
    }
   ],
   "source": [
    "metrics_train_alldie = get_metrics_noproba(y_train, np.ones(y_train.size))\n",
    "metrics_valid_alldie = get_metrics_noproba(y_valid, np.ones(y_valid.size))\n",
    "print(\"TRAIN/ALLDIE\", metrics_train_alldie)\n",
    "print(\"VALID/ALLDIE\", metrics_valid_alldie)"
   ]
  },
  {
   "cell_type": "code",
   "execution_count": 27,
   "id": "9709ecca",
   "metadata": {},
   "outputs": [
    {
     "name": "stdout",
     "output_type": "stream",
     "text": [
      "TRAIN/NONEDIE {'accuracy': 0.5722537313432836, 'precision': 0.0, 'recall': 0.0, 'f1': 0.0, 'cm': array([[38341,     0],\n",
      "       [28659,     0]])}\n",
      "VALID/NONEDIE {'accuracy': 0.5722727272727273, 'precision': 0.0, 'recall': 0.0, 'f1': 0.0, 'cm': array([[18885,     0],\n",
      "       [14115,     0]])}\n"
     ]
    },
    {
     "name": "stderr",
     "output_type": "stream",
     "text": [
      "/Users/rahul/miniforge3/envs/ml1-arm64/lib/python3.9/site-packages/sklearn/metrics/_classification.py:1334: UndefinedMetricWarning: Precision is ill-defined and being set to 0.0 due to no predicted samples. Use `zero_division` parameter to control this behavior.\n",
      "  _warn_prf(average, modifier, msg_start, len(result))\n",
      "/Users/rahul/miniforge3/envs/ml1-arm64/lib/python3.9/site-packages/sklearn/metrics/_classification.py:1334: UndefinedMetricWarning: Precision is ill-defined and being set to 0.0 due to no predicted samples. Use `zero_division` parameter to control this behavior.\n",
      "  _warn_prf(average, modifier, msg_start, len(result))\n"
     ]
    }
   ],
   "source": [
    "metrics_train_nonedie = get_metrics_noproba(y_train, np.zeros(y_train.size))\n",
    "metrics_valid_nonedie = get_metrics_noproba(y_valid, np.zeros(y_valid.size))\n",
    "print(\"TRAIN/NONEDIE\", metrics_train_nonedie)\n",
    "print(\"VALID/NONEDIE\", metrics_valid_nonedie)"
   ]
  },
  {
   "cell_type": "markdown",
   "id": "42c8f5e1",
   "metadata": {},
   "source": [
    "### Baseline Model"
   ]
  },
  {
   "cell_type": "code",
   "execution_count": 28,
   "id": "80617504",
   "metadata": {},
   "outputs": [],
   "source": [
    "from sklearn.ensemble import RandomForestClassifier"
   ]
  },
  {
   "cell_type": "code",
   "execution_count": 29,
   "id": "dd2bfc1b",
   "metadata": {},
   "outputs": [],
   "source": [
    "def fit_model_rf(train_X, train_y, max_depth=None, random_state=RANDOM_STATE):\n",
    "    clf = RandomForestClassifier(n_estimators=100, max_depth=max_depth, random_state=random_state)\n",
    "    clf.fit(train_X, train_y)\n",
    "    return clf"
   ]
  },
  {
   "cell_type": "code",
   "execution_count": 30,
   "id": "d11bb2d2",
   "metadata": {},
   "outputs": [],
   "source": [
    "model = fit_model_rf(X_train, y_train)"
   ]
  },
  {
   "cell_type": "markdown",
   "id": "c7d366df",
   "metadata": {},
   "source": [
    "#### Baseline Model Inference"
   ]
  },
  {
   "cell_type": "code",
   "execution_count": 31,
   "id": "deab2226",
   "metadata": {},
   "outputs": [
    {
     "data": {
      "text/plain": [
       "{'Pclass': 1,\n",
       " 'Sex': 0,\n",
       " 'Age': 40,\n",
       " 'Fare': 250,\n",
       " 'Cabin': 7,\n",
       " 'Embarked': 2,\n",
       " 'Family': 0}"
      ]
     },
     "execution_count": 31,
     "metadata": {},
     "output_type": "execute_result"
    }
   ],
   "source": [
    "data_to_predict = dict(\n",
    "    Pclass = 1,\n",
    "    Sex = 'female',\n",
    "    Age = 40,\n",
    "    Fare = 250,\n",
    "    Cabin = 'T',\n",
    "    Embarked = 'S',\n",
    "    Family = 0\n",
    ")\n",
    "for k in data_to_predict:\n",
    "    if k in ['Sex', 'Cabin', 'Embarked']:\n",
    "        data_to_predict[k] = mappings[k][data_to_predict[k]]\n",
    "data_to_predict"
   ]
  },
  {
   "cell_type": "code",
   "execution_count": 32,
   "id": "4edec694",
   "metadata": {},
   "outputs": [
    {
     "data": {
      "text/plain": [
       "array([[  1,   0,  40, 250,   7,   2,   0]])"
      ]
     },
     "execution_count": 32,
     "metadata": {},
     "output_type": "execute_result"
    }
   ],
   "source": [
    "inputX = np.array(list(data_to_predict.values()))\n",
    "inputX.reshape(1,-1)"
   ]
  },
  {
   "cell_type": "code",
   "execution_count": 33,
   "id": "a96bcb9b",
   "metadata": {},
   "outputs": [
    {
     "name": "stderr",
     "output_type": "stream",
     "text": [
      "/Users/rahul/miniforge3/envs/ml1-arm64/lib/python3.9/site-packages/sklearn/base.py:450: UserWarning: X does not have valid feature names, but RandomForestClassifier was fitted with feature names\n",
      "  warnings.warn(\n"
     ]
    },
    {
     "data": {
      "text/plain": [
       "array([1])"
      ]
     },
     "execution_count": 33,
     "metadata": {},
     "output_type": "execute_result"
    }
   ],
   "source": [
    "model.predict(inputX.reshape(1,-1))"
   ]
  },
  {
   "cell_type": "code",
   "execution_count": 34,
   "id": "0535a824",
   "metadata": {},
   "outputs": [
    {
     "data": {
      "text/plain": [
       "array([0, 1, 0, ..., 0, 1, 1])"
      ]
     },
     "execution_count": 34,
     "metadata": {},
     "output_type": "execute_result"
    }
   ],
   "source": [
    "model.predict(X_valid)"
   ]
  },
  {
   "cell_type": "markdown",
   "id": "999935f6",
   "metadata": {},
   "source": [
    "#### Baseline Model Metrics and Plots"
   ]
  },
  {
   "cell_type": "code",
   "execution_count": 35,
   "id": "a8ff4976",
   "metadata": {},
   "outputs": [
    {
     "name": "stdout",
     "output_type": "stream",
     "text": [
      "Evaluating model...\n",
      "Train metrics:\n",
      "{'roc_auc': 0.9997987067372002, 'average_precision': 0.9997509097730715, 'accuracy': 0.9951044776119403, 'precision': 0.9971920957495349, 'recall': 0.9913465229072892, 'f1': 0.9942607174103237, 'cm': array([[38261,    80],\n",
      "       [  248, 28411]])}\n"
     ]
    }
   ],
   "source": [
    "print(\"Evaluating model...\")\n",
    "train_metrics, train_plots = eval_model(model, X_train, y_train)\n",
    "print(\"Train metrics:\")\n",
    "print(train_metrics)"
   ]
  },
  {
   "cell_type": "code",
   "execution_count": 36,
   "id": "c7194629",
   "metadata": {},
   "outputs": [
    {
     "data": {
      "image/png": "[encoded data removed]",
      "text/plain": [
       "<Figure size 640x480 with 2 Axes>"
      ]
     },
     "metadata": {},
     "output_type": "display_data"
    },
    {
     "data": {
      "image/png": "[encoded data removed]",
      "text/plain": [
       "<Figure size 640x480 with 1 Axes>"
      ]
     },
     "metadata": {},
     "output_type": "display_data"
    },
    {
     "data": {
      "image/png": "[encoded data removed]",
      "text/plain": [
       "<Figure size 640x480 with 1 Axes>"
      ]
     },
     "metadata": {},
     "output_type": "display_data"
    }
   ],
   "source": [
    "for k in train_plots:\n",
    "    f = train_plots[k]\n",
    "    f.plot()"
   ]
  },
  {
   "cell_type": "code",
   "execution_count": 37,
   "id": "386124ff",
   "metadata": {},
   "outputs": [
    {
     "name": "stdout",
     "output_type": "stream",
     "text": [
      "Validation metrics:\n",
      "{'roc_auc': 0.8055261955694886, 'average_precision': 0.7439625532805295, 'accuracy': 0.7357575757575757, 'precision': 0.6922802765699623, 'recall': 0.6880623450230251, 'f1': 0.6901648664013644, 'cm': array([[14568,  4317],\n",
      "       [ 4403,  9712]])}\n"
     ]
    }
   ],
   "source": [
    "valid_metrics, valid_plots = eval_model(model, X_valid, y_valid)\n",
    "print(\"Validation metrics:\")\n",
    "print(valid_metrics)"
   ]
  },
  {
   "cell_type": "code",
   "execution_count": 38,
   "id": "87730c25",
   "metadata": {},
   "outputs": [
    {
     "data": {
      "image/png": "[encoded data removed]",
      "text/plain": [
       "<Figure size 640x480 with 2 Axes>"
      ]
     },
     "metadata": {},
     "output_type": "display_data"
    },
    {
     "data": {
      "image/png": "[encoded data removed]",
      "text/plain": [
       "<Figure size 640x480 with 1 Axes>"
      ]
     },
     "metadata": {},
     "output_type": "display_data"
    },
    {
     "data": {
      "image/png": "[encoded data removed]",
      "text/plain": [
       "<Figure size 640x480 with 1 Axes>"
      ]
     },
     "metadata": {},
     "output_type": "display_data"
    }
   ],
   "source": [
    "for k in valid_plots:\n",
    "    f = valid_plots[k]\n",
    "    f.plot()"
   ]
  },
  {
   "cell_type": "markdown",
   "id": "ce125c3b",
   "metadata": {},
   "source": [
    "### Training a Model with Hyper-parameters"
   ]
  },
  {
   "cell_type": "code",
   "execution_count": 39,
   "id": "e4a86549",
   "metadata": {},
   "outputs": [],
   "source": [
    "import uuid"
   ]
  },
  {
   "cell_type": "code",
   "execution_count": 40,
   "id": "60d24536",
   "metadata": {},
   "outputs": [
    {
     "name": "stdout",
     "output_type": "stream",
     "text": [
      "Training Model 1\n",
      "Evaluating Model\n",
      "Train metrics:\n",
      "{'roc_auc': 0.8277322689376897, 'average_precision': 0.7460946680817672, 'accuracy': 0.7421641791044776, 'precision': 0.7795952451124865, 'recall': 0.5537876408807006, 'f1': 0.647571250790542, 'cm': array([[33854,  4487],\n",
      "       [12788, 15871]])}\n",
      "Validation metrics:\n",
      "{'roc_auc': 0.8300394026863004, 'average_precision': 0.7472810462807693, 'accuracy': 0.740909090909091, 'precision': 0.7766729641046037, 'recall': 0.5533829259652852, 'f1': 0.646284957802416, 'cm': array([[16639,  2246],\n",
      "       [ 6304,  7811]])}\n",
      "----------------------\n",
      "Training Model 5\n",
      "Evaluating Model\n",
      "Train metrics:\n",
      "{'roc_auc': 0.8449916550489891, 'average_precision': 0.7965656859557828, 'accuracy': 0.7783582089552239, 'precision': 0.7563964499238739, 'recall': 0.7107365923444642, 'f1': 0.7328560120889399, 'cm': array([[31781,  6560],\n",
      "       [ 8290, 20369]])}\n",
      "Validation metrics:\n",
      "{'roc_auc': 0.8460582711080762, 'average_precision': 0.7962821927529715, 'accuracy': 0.7764848484848484, 'precision': 0.7537847405287339, 'recall': 0.7090329436769395, 'f1': 0.7307242990654206, 'cm': array([[15616,  3269],\n",
      "       [ 4107, 10008]])}\n",
      "----------------------\n",
      "Training Model 8\n",
      "Evaluating Model\n",
      "Train metrics:\n",
      "{'roc_auc': 0.8543819765668792, 'average_precision': 0.8112569848044252, 'accuracy': 0.7848358208955224, 'precision': 0.7646118975959574, 'recall': 0.7180292403782407, 'f1': 0.7405887857194271, 'cm': array([[32006,  6335],\n",
      "       [ 8081, 20578]])}\n",
      "Validation metrics:\n",
      "{'roc_auc': 0.8492062337144928, 'average_precision': 0.8011728856474147, 'accuracy': 0.7778484848484849, 'precision': 0.756077306356636, 'recall': 0.7095288699964577, 'f1': 0.732063886553854, 'cm': array([[15654,  3231],\n",
      "       [ 4100, 10015]])}\n",
      "----------------------\n",
      "Training Model 10\n",
      "Evaluating Model\n",
      "Train metrics:\n",
      "{'roc_auc': 0.8650666209359359, 'average_precision': 0.8277233502880219, 'accuracy': 0.7947164179104478, 'precision': 0.7719592745319855, 'recall': 0.7381276387871175, 'f1': 0.7546644786129642, 'cm': array([[32092,  6249],\n",
      "       [ 7505, 21154]])}\n",
      "Validation metrics:\n",
      "{'roc_auc': 0.8493712517483049, 'average_precision': 0.802581467161879, 'accuracy': 0.7785151515151515, 'precision': 0.7526354862657758, 'recall': 0.7182430038965639, 'f1': 0.735037157875657, 'cm': array([[15553,  3332],\n",
      "       [ 3977, 10138]])}\n",
      "----------------------\n",
      "Training Model 12\n",
      "Evaluating Model\n",
      "Train metrics:\n",
      "{'roc_auc': 0.8829180609110499, 'average_precision': 0.853102348018483, 'accuracy': 0.8105522388059702, 'precision': 0.786170060223688, 'recall': 0.7652395408074253, 'f1': 0.7755636106445053, 'cm': array([[32376,  5965],\n",
      "       [ 6728, 21931]])}\n",
      "Validation metrics:\n",
      "{'roc_auc': 0.8481987017831045, 'average_precision': 0.8011692358877822, 'accuracy': 0.7775757575757576, 'precision': 0.7472086404436985, 'recall': 0.7253985122210415, 'f1': 0.736142066288015, 'cm': array([[15421,  3464],\n",
      "       [ 3876, 10239]])}\n",
      "----------------------\n",
      "Training Model 15\n",
      "Evaluating Model\n",
      "Train metrics:\n",
      "{'roc_auc': 0.9197503400935059, 'average_precision': 0.9036666291575981, 'accuracy': 0.8457462686567164, 'precision': 0.8270741110952449, 'recall': 0.8084022471125999, 'f1': 0.8176315928781916, 'cm': array([[33497,  4844],\n",
      "       [ 5491, 23168]])}\n",
      "Validation metrics:\n",
      "{'roc_auc': 0.8441145715660094, 'average_precision': 0.7966718463202864, 'accuracy': 0.7732121212121212, 'precision': 0.7410746746164473, 'recall': 0.7220687212185618, 'f1': 0.7314482560643031, 'cm': array([[15324,  3561],\n",
      "       [ 3923, 10192]])}\n",
      "----------------------\n",
      "Training Model 20\n",
      "Evaluating Model\n",
      "Train metrics:\n",
      "{'roc_auc': 0.9763188365153306, 'average_precision': 0.9724184580261301, 'accuracy': 0.9211940298507463, 'precision': 0.9233025529603477, 'recall': 0.8896681670679367, 'f1': 0.9061733660304936, 'cm': array([[36223,  2118],\n",
      "       [ 3162, 25497]])}\n",
      "Validation metrics:\n",
      "{'roc_auc': 0.8302935051359108, 'average_precision': 0.7771488082902243, 'accuracy': 0.7628484848484849, 'precision': 0.7296764297713827, 'recall': 0.7077577045696068, 'f1': 0.7185499532475006, 'cm': array([[15184,  3701],\n",
      "       [ 4125,  9990]])}\n",
      "----------------------\n",
      "Training Model None\n",
      "Evaluating Model\n",
      "Train metrics:\n",
      "{'roc_auc': 0.9997987067372002, 'average_precision': 0.9997509097730715, 'accuracy': 0.9951044776119403, 'precision': 0.9971920957495349, 'recall': 0.9913465229072892, 'f1': 0.9942607174103237, 'cm': array([[38261,    80],\n",
      "       [  248, 28411]])}\n",
      "Validation metrics:\n",
      "{'roc_auc': 0.8055261955694886, 'average_precision': 0.7439625532805295, 'accuracy': 0.7357575757575757, 'precision': 0.6922802765699623, 'recall': 0.6880623450230251, 'f1': 0.6901648664013644, 'cm': array([[14568,  4317],\n",
      "       [ 4403,  9712]])}\n",
      "----------------------\n"
     ]
    }
   ],
   "source": [
    "max_depths_list = [1, 5, 8, 10, 12, 15, 20, None]\n",
    "train_metrics_list = []\n",
    "valid_metrics_list = []\n",
    "train_plots_list = []\n",
    "valid_plots_list = []\n",
    "models_list = []\n",
    "for max_depth in max_depths_list:\n",
    "    run_id = uuid.uuid4()\n",
    "    \n",
    "    print(f\"Training Model {max_depth}\")\n",
    "    model = fit_model_rf(X_train, y_train, max_depth=max_depth)\n",
    "    \n",
    "    print(\"Evaluating Model\")\n",
    "    \n",
    "    train_metrics, train_plots = eval_model(model, X_train, y_train)\n",
    "    print(\"Train metrics:\")\n",
    "    print(train_metrics)\n",
    "    train_metrics['data'] = 'train'\n",
    "    train_metrics['n_est'] = 200\n",
    "    train_metrics['max_depth'] = max_depth\n",
    "    train_metrics['run_id'] = run_id\n",
    "    train_metrics_list.append(train_metrics)\n",
    "    train_plots_list.append(train_plots)\n",
    "    \n",
    "    valid_metrics, valid_plots = eval_model(model, X_valid, y_valid)\n",
    "    print(\"Validation metrics:\")\n",
    "    print(valid_metrics)\n",
    "    valid_metrics['data'] = 'valid'\n",
    "    valid_metrics['n_est'] = 200\n",
    "    valid_metrics['max_depth'] = max_depth\n",
    "    valid_metrics['run_id'] = run_id\n",
    "    valid_metrics_list.append(valid_metrics)\n",
    "    valid_plots_list.append(valid_plots)\n",
    "    \n",
    "    models_list.append(model)\n",
    "    print('----------------------')"
   ]
  },
  {
   "cell_type": "code",
   "execution_count": 41,
   "id": "c034dceb",
   "metadata": {},
   "outputs": [
    {
     "data": {
      "text/html": [
       "<div>\n",
       "<style scoped>\n",
       "    .dataframe tbody tr th:only-of-type {\n",
       "        vertical-align: middle;\n",
       "    }\n",
       "\n",
       "    .dataframe tbody tr th {\n",
       "        vertical-align: top;\n",
       "    }\n",
       "\n",
       "    .dataframe thead th {\n",
       "        text-align: right;\n",
       "    }\n",
       "</style>\n",
       "<table border=\"1\" class=\"dataframe\">\n",
       "  <thead>\n",
       "    <tr style=\"text-align: right;\">\n",
       "      <th></th>\n",
       "      <th>roc_auc</th>\n",
       "      <th>average_precision</th>\n",
       "      <th>accuracy</th>\n",
       "      <th>precision</th>\n",
       "      <th>recall</th>\n",
       "      <th>f1</th>\n",
       "      <th>cm</th>\n",
       "      <th>data</th>\n",
       "      <th>n_est</th>\n",
       "      <th>max_depth</th>\n",
       "    </tr>\n",
       "    <tr>\n",
       "      <th>run_id</th>\n",
       "      <th></th>\n",
       "      <th></th>\n",
       "      <th></th>\n",
       "      <th></th>\n",
       "      <th></th>\n",
       "      <th></th>\n",
       "      <th></th>\n",
       "      <th></th>\n",
       "      <th></th>\n",
       "      <th></th>\n",
       "    </tr>\n",
       "  </thead>\n",
       "  <tbody>\n",
       "    <tr>\n",
       "      <th>d3f20a17-ef38-4a98-ad68-38bc7a0efedc</th>\n",
       "      <td>0.830039</td>\n",
       "      <td>0.747281</td>\n",
       "      <td>0.740909</td>\n",
       "      <td>0.776673</td>\n",
       "      <td>0.553383</td>\n",
       "      <td>0.646285</td>\n",
       "      <td>[[16639, 2246], [6304, 7811]]</td>\n",
       "      <td>valid</td>\n",
       "      <td>200</td>\n",
       "      <td>1.0</td>\n",
       "    </tr>\n",
       "    <tr>\n",
       "      <th>e796b949-99b3-460a-a741-ce46f17fbf0f</th>\n",
       "      <td>0.846058</td>\n",
       "      <td>0.796282</td>\n",
       "      <td>0.776485</td>\n",
       "      <td>0.753785</td>\n",
       "      <td>0.709033</td>\n",
       "      <td>0.730724</td>\n",
       "      <td>[[15616, 3269], [4107, 10008]]</td>\n",
       "      <td>valid</td>\n",
       "      <td>200</td>\n",
       "      <td>5.0</td>\n",
       "    </tr>\n",
       "    <tr>\n",
       "      <th>71f9080f-beb7-46f7-9e71-52dc5312d993</th>\n",
       "      <td>0.849206</td>\n",
       "      <td>0.801173</td>\n",
       "      <td>0.777848</td>\n",
       "      <td>0.756077</td>\n",
       "      <td>0.709529</td>\n",
       "      <td>0.732064</td>\n",
       "      <td>[[15654, 3231], [4100, 10015]]</td>\n",
       "      <td>valid</td>\n",
       "      <td>200</td>\n",
       "      <td>8.0</td>\n",
       "    </tr>\n",
       "    <tr>\n",
       "      <th>8d79f014-c7a3-4040-91de-8fcf71c40387</th>\n",
       "      <td>0.849371</td>\n",
       "      <td>0.802581</td>\n",
       "      <td>0.778515</td>\n",
       "      <td>0.752635</td>\n",
       "      <td>0.718243</td>\n",
       "      <td>0.735037</td>\n",
       "      <td>[[15553, 3332], [3977, 10138]]</td>\n",
       "      <td>valid</td>\n",
       "      <td>200</td>\n",
       "      <td>10.0</td>\n",
       "    </tr>\n",
       "    <tr>\n",
       "      <th>fcee5b8d-54b2-4a99-a2cf-47f6a89f3a59</th>\n",
       "      <td>0.848199</td>\n",
       "      <td>0.801169</td>\n",
       "      <td>0.777576</td>\n",
       "      <td>0.747209</td>\n",
       "      <td>0.725399</td>\n",
       "      <td>0.736142</td>\n",
       "      <td>[[15421, 3464], [3876, 10239]]</td>\n",
       "      <td>valid</td>\n",
       "      <td>200</td>\n",
       "      <td>12.0</td>\n",
       "    </tr>\n",
       "    <tr>\n",
       "      <th>ff573b83-cd1c-48c9-9fbf-aa6c82ab8abb</th>\n",
       "      <td>0.844115</td>\n",
       "      <td>0.796672</td>\n",
       "      <td>0.773212</td>\n",
       "      <td>0.741075</td>\n",
       "      <td>0.722069</td>\n",
       "      <td>0.731448</td>\n",
       "      <td>[[15324, 3561], [3923, 10192]]</td>\n",
       "      <td>valid</td>\n",
       "      <td>200</td>\n",
       "      <td>15.0</td>\n",
       "    </tr>\n",
       "    <tr>\n",
       "      <th>dc4aa20d-272c-41ab-a308-87768ba6a61b</th>\n",
       "      <td>0.830294</td>\n",
       "      <td>0.777149</td>\n",
       "      <td>0.762848</td>\n",
       "      <td>0.729676</td>\n",
       "      <td>0.707758</td>\n",
       "      <td>0.718550</td>\n",
       "      <td>[[15184, 3701], [4125, 9990]]</td>\n",
       "      <td>valid</td>\n",
       "      <td>200</td>\n",
       "      <td>20.0</td>\n",
       "    </tr>\n",
       "    <tr>\n",
       "      <th>4f3bc54f-b901-48e0-808f-caed7260e0f1</th>\n",
       "      <td>0.805526</td>\n",
       "      <td>0.743963</td>\n",
       "      <td>0.735758</td>\n",
       "      <td>0.692280</td>\n",
       "      <td>0.688062</td>\n",
       "      <td>0.690165</td>\n",
       "      <td>[[14568, 4317], [4403, 9712]]</td>\n",
       "      <td>valid</td>\n",
       "      <td>200</td>\n",
       "      <td>NaN</td>\n",
       "    </tr>\n",
       "  </tbody>\n",
       "</table>\n",
       "</div>"
      ],
      "text/plain": [
       "                                       roc_auc  average_precision  accuracy  \\\n",
       "run_id                                                                        \n",
       "d3f20a17-ef38-4a98-ad68-38bc7a0efedc  0.830039           0.747281  0.740909   \n",
       "e796b949-99b3-460a-a741-ce46f17fbf0f  0.846058           0.796282  0.776485   \n",
       "71f9080f-beb7-46f7-9e71-52dc5312d993  0.849206           0.801173  0.777848   \n",
       "8d79f014-c7a3-4040-91de-8fcf71c40387  0.849371           0.802581  0.778515   \n",
       "fcee5b8d-54b2-4a99-a2cf-47f6a89f3a59  0.848199           0.801169  0.777576   \n",
       "ff573b83-cd1c-48c9-9fbf-aa6c82ab8abb  0.844115           0.796672  0.773212   \n",
       "dc4aa20d-272c-41ab-a308-87768ba6a61b  0.830294           0.777149  0.762848   \n",
       "4f3bc54f-b901-48e0-808f-caed7260e0f1  0.805526           0.743963  0.735758   \n",
       "\n",
       "                                      precision    recall        f1  \\\n",
       "run_id                                                                \n",
       "d3f20a17-ef38-4a98-ad68-38bc7a0efedc   0.776673  0.553383  0.646285   \n",
       "e796b949-99b3-460a-a741-ce46f17fbf0f   0.753785  0.709033  0.730724   \n",
       "71f9080f-beb7-46f7-9e71-52dc5312d993   0.756077  0.709529  0.732064   \n",
       "8d79f014-c7a3-4040-91de-8fcf71c40387   0.752635  0.718243  0.735037   \n",
       "fcee5b8d-54b2-4a99-a2cf-47f6a89f3a59   0.747209  0.725399  0.736142   \n",
       "ff573b83-cd1c-48c9-9fbf-aa6c82ab8abb   0.741075  0.722069  0.731448   \n",
       "dc4aa20d-272c-41ab-a308-87768ba6a61b   0.729676  0.707758  0.718550   \n",
       "4f3bc54f-b901-48e0-808f-caed7260e0f1   0.692280  0.688062  0.690165   \n",
       "\n",
       "                                                                  cm   data  \\\n",
       "run_id                                                                        \n",
       "d3f20a17-ef38-4a98-ad68-38bc7a0efedc   [[16639, 2246], [6304, 7811]]  valid   \n",
       "e796b949-99b3-460a-a741-ce46f17fbf0f  [[15616, 3269], [4107, 10008]]  valid   \n",
       "71f9080f-beb7-46f7-9e71-52dc5312d993  [[15654, 3231], [4100, 10015]]  valid   \n",
       "8d79f014-c7a3-4040-91de-8fcf71c40387  [[15553, 3332], [3977, 10138]]  valid   \n",
       "fcee5b8d-54b2-4a99-a2cf-47f6a89f3a59  [[15421, 3464], [3876, 10239]]  valid   \n",
       "ff573b83-cd1c-48c9-9fbf-aa6c82ab8abb  [[15324, 3561], [3923, 10192]]  valid   \n",
       "dc4aa20d-272c-41ab-a308-87768ba6a61b   [[15184, 3701], [4125, 9990]]  valid   \n",
       "4f3bc54f-b901-48e0-808f-caed7260e0f1   [[14568, 4317], [4403, 9712]]  valid   \n",
       "\n",
       "                                      n_est  max_depth  \n",
       "run_id                                                  \n",
       "d3f20a17-ef38-4a98-ad68-38bc7a0efedc    200        1.0  \n",
       "e796b949-99b3-460a-a741-ce46f17fbf0f    200        5.0  \n",
       "71f9080f-beb7-46f7-9e71-52dc5312d993    200        8.0  \n",
       "8d79f014-c7a3-4040-91de-8fcf71c40387    200       10.0  \n",
       "fcee5b8d-54b2-4a99-a2cf-47f6a89f3a59    200       12.0  \n",
       "ff573b83-cd1c-48c9-9fbf-aa6c82ab8abb    200       15.0  \n",
       "dc4aa20d-272c-41ab-a308-87768ba6a61b    200       20.0  \n",
       "4f3bc54f-b901-48e0-808f-caed7260e0f1    200        NaN  "
      ]
     },
     "execution_count": 41,
     "metadata": {},
     "output_type": "execute_result"
    }
   ],
   "source": [
    "valid_resudf = pd.DataFrame.from_records(valid_metrics_list).set_index('run_id')\n",
    "valid_resudf"
   ]
  },
  {
   "cell_type": "markdown",
   "id": "6f705b7b",
   "metadata": {},
   "source": [
    "## Best Model and Inference"
   ]
  },
  {
   "cell_type": "code",
   "execution_count": 42,
   "id": "8a01c900",
   "metadata": {},
   "outputs": [
    {
     "data": {
      "text/html": [
       "<div>\n",
       "<style scoped>\n",
       "    .dataframe tbody tr th:only-of-type {\n",
       "        vertical-align: middle;\n",
       "    }\n",
       "\n",
       "    .dataframe tbody tr th {\n",
       "        vertical-align: top;\n",
       "    }\n",
       "\n",
       "    .dataframe thead th {\n",
       "        text-align: right;\n",
       "    }\n",
       "</style>\n",
       "<table border=\"1\" class=\"dataframe\">\n",
       "  <thead>\n",
       "    <tr style=\"text-align: right;\">\n",
       "      <th></th>\n",
       "      <th>roc_auc</th>\n",
       "      <th>average_precision</th>\n",
       "      <th>accuracy</th>\n",
       "      <th>precision</th>\n",
       "      <th>recall</th>\n",
       "      <th>f1</th>\n",
       "      <th>cm</th>\n",
       "      <th>data</th>\n",
       "      <th>n_est</th>\n",
       "      <th>max_depth</th>\n",
       "    </tr>\n",
       "    <tr>\n",
       "      <th>run_id</th>\n",
       "      <th></th>\n",
       "      <th></th>\n",
       "      <th></th>\n",
       "      <th></th>\n",
       "      <th></th>\n",
       "      <th></th>\n",
       "      <th></th>\n",
       "      <th></th>\n",
       "      <th></th>\n",
       "      <th></th>\n",
       "    </tr>\n",
       "  </thead>\n",
       "  <tbody>\n",
       "    <tr>\n",
       "      <th>d3f20a17-ef38-4a98-ad68-38bc7a0efedc</th>\n",
       "      <td>0.830039</td>\n",
       "      <td>0.747281</td>\n",
       "      <td>0.740909</td>\n",
       "      <td>0.776673</td>\n",
       "      <td>0.553383</td>\n",
       "      <td>0.646285</td>\n",
       "      <td>[[16639, 2246], [6304, 7811]]</td>\n",
       "      <td>valid</td>\n",
       "      <td>200</td>\n",
       "      <td>1.0</td>\n",
       "    </tr>\n",
       "    <tr>\n",
       "      <th>4f3bc54f-b901-48e0-808f-caed7260e0f1</th>\n",
       "      <td>0.805526</td>\n",
       "      <td>0.743963</td>\n",
       "      <td>0.735758</td>\n",
       "      <td>0.692280</td>\n",
       "      <td>0.688062</td>\n",
       "      <td>0.690165</td>\n",
       "      <td>[[14568, 4317], [4403, 9712]]</td>\n",
       "      <td>valid</td>\n",
       "      <td>200</td>\n",
       "      <td>NaN</td>\n",
       "    </tr>\n",
       "    <tr>\n",
       "      <th>dc4aa20d-272c-41ab-a308-87768ba6a61b</th>\n",
       "      <td>0.830294</td>\n",
       "      <td>0.777149</td>\n",
       "      <td>0.762848</td>\n",
       "      <td>0.729676</td>\n",
       "      <td>0.707758</td>\n",
       "      <td>0.718550</td>\n",
       "      <td>[[15184, 3701], [4125, 9990]]</td>\n",
       "      <td>valid</td>\n",
       "      <td>200</td>\n",
       "      <td>20.0</td>\n",
       "    </tr>\n",
       "    <tr>\n",
       "      <th>e796b949-99b3-460a-a741-ce46f17fbf0f</th>\n",
       "      <td>0.846058</td>\n",
       "      <td>0.796282</td>\n",
       "      <td>0.776485</td>\n",
       "      <td>0.753785</td>\n",
       "      <td>0.709033</td>\n",
       "      <td>0.730724</td>\n",
       "      <td>[[15616, 3269], [4107, 10008]]</td>\n",
       "      <td>valid</td>\n",
       "      <td>200</td>\n",
       "      <td>5.0</td>\n",
       "    </tr>\n",
       "    <tr>\n",
       "      <th>ff573b83-cd1c-48c9-9fbf-aa6c82ab8abb</th>\n",
       "      <td>0.844115</td>\n",
       "      <td>0.796672</td>\n",
       "      <td>0.773212</td>\n",
       "      <td>0.741075</td>\n",
       "      <td>0.722069</td>\n",
       "      <td>0.731448</td>\n",
       "      <td>[[15324, 3561], [3923, 10192]]</td>\n",
       "      <td>valid</td>\n",
       "      <td>200</td>\n",
       "      <td>15.0</td>\n",
       "    </tr>\n",
       "    <tr>\n",
       "      <th>71f9080f-beb7-46f7-9e71-52dc5312d993</th>\n",
       "      <td>0.849206</td>\n",
       "      <td>0.801173</td>\n",
       "      <td>0.777848</td>\n",
       "      <td>0.756077</td>\n",
       "      <td>0.709529</td>\n",
       "      <td>0.732064</td>\n",
       "      <td>[[15654, 3231], [4100, 10015]]</td>\n",
       "      <td>valid</td>\n",
       "      <td>200</td>\n",
       "      <td>8.0</td>\n",
       "    </tr>\n",
       "    <tr>\n",
       "      <th>8d79f014-c7a3-4040-91de-8fcf71c40387</th>\n",
       "      <td>0.849371</td>\n",
       "      <td>0.802581</td>\n",
       "      <td>0.778515</td>\n",
       "      <td>0.752635</td>\n",
       "      <td>0.718243</td>\n",
       "      <td>0.735037</td>\n",
       "      <td>[[15553, 3332], [3977, 10138]]</td>\n",
       "      <td>valid</td>\n",
       "      <td>200</td>\n",
       "      <td>10.0</td>\n",
       "    </tr>\n",
       "    <tr>\n",
       "      <th>fcee5b8d-54b2-4a99-a2cf-47f6a89f3a59</th>\n",
       "      <td>0.848199</td>\n",
       "      <td>0.801169</td>\n",
       "      <td>0.777576</td>\n",
       "      <td>0.747209</td>\n",
       "      <td>0.725399</td>\n",
       "      <td>0.736142</td>\n",
       "      <td>[[15421, 3464], [3876, 10239]]</td>\n",
       "      <td>valid</td>\n",
       "      <td>200</td>\n",
       "      <td>12.0</td>\n",
       "    </tr>\n",
       "  </tbody>\n",
       "</table>\n",
       "</div>"
      ],
      "text/plain": [
       "                                       roc_auc  average_precision  accuracy  \\\n",
       "run_id                                                                        \n",
       "d3f20a17-ef38-4a98-ad68-38bc7a0efedc  0.830039           0.747281  0.740909   \n",
       "4f3bc54f-b901-48e0-808f-caed7260e0f1  0.805526           0.743963  0.735758   \n",
       "dc4aa20d-272c-41ab-a308-87768ba6a61b  0.830294           0.777149  0.762848   \n",
       "e796b949-99b3-460a-a741-ce46f17fbf0f  0.846058           0.796282  0.776485   \n",
       "ff573b83-cd1c-48c9-9fbf-aa6c82ab8abb  0.844115           0.796672  0.773212   \n",
       "71f9080f-beb7-46f7-9e71-52dc5312d993  0.849206           0.801173  0.777848   \n",
       "8d79f014-c7a3-4040-91de-8fcf71c40387  0.849371           0.802581  0.778515   \n",
       "fcee5b8d-54b2-4a99-a2cf-47f6a89f3a59  0.848199           0.801169  0.777576   \n",
       "\n",
       "                                      precision    recall        f1  \\\n",
       "run_id                                                                \n",
       "d3f20a17-ef38-4a98-ad68-38bc7a0efedc   0.776673  0.553383  0.646285   \n",
       "4f3bc54f-b901-48e0-808f-caed7260e0f1   0.692280  0.688062  0.690165   \n",
       "dc4aa20d-272c-41ab-a308-87768ba6a61b   0.729676  0.707758  0.718550   \n",
       "e796b949-99b3-460a-a741-ce46f17fbf0f   0.753785  0.709033  0.730724   \n",
       "ff573b83-cd1c-48c9-9fbf-aa6c82ab8abb   0.741075  0.722069  0.731448   \n",
       "71f9080f-beb7-46f7-9e71-52dc5312d993   0.756077  0.709529  0.732064   \n",
       "8d79f014-c7a3-4040-91de-8fcf71c40387   0.752635  0.718243  0.735037   \n",
       "fcee5b8d-54b2-4a99-a2cf-47f6a89f3a59   0.747209  0.725399  0.736142   \n",
       "\n",
       "                                                                  cm   data  \\\n",
       "run_id                                                                        \n",
       "d3f20a17-ef38-4a98-ad68-38bc7a0efedc   [[16639, 2246], [6304, 7811]]  valid   \n",
       "4f3bc54f-b901-48e0-808f-caed7260e0f1   [[14568, 4317], [4403, 9712]]  valid   \n",
       "dc4aa20d-272c-41ab-a308-87768ba6a61b   [[15184, 3701], [4125, 9990]]  valid   \n",
       "e796b949-99b3-460a-a741-ce46f17fbf0f  [[15616, 3269], [4107, 10008]]  valid   \n",
       "ff573b83-cd1c-48c9-9fbf-aa6c82ab8abb  [[15324, 3561], [3923, 10192]]  valid   \n",
       "71f9080f-beb7-46f7-9e71-52dc5312d993  [[15654, 3231], [4100, 10015]]  valid   \n",
       "8d79f014-c7a3-4040-91de-8fcf71c40387  [[15553, 3332], [3977, 10138]]  valid   \n",
       "fcee5b8d-54b2-4a99-a2cf-47f6a89f3a59  [[15421, 3464], [3876, 10239]]  valid   \n",
       "\n",
       "                                      n_est  max_depth  \n",
       "run_id                                                  \n",
       "d3f20a17-ef38-4a98-ad68-38bc7a0efedc    200        1.0  \n",
       "4f3bc54f-b901-48e0-808f-caed7260e0f1    200        NaN  \n",
       "dc4aa20d-272c-41ab-a308-87768ba6a61b    200       20.0  \n",
       "e796b949-99b3-460a-a741-ce46f17fbf0f    200        5.0  \n",
       "ff573b83-cd1c-48c9-9fbf-aa6c82ab8abb    200       15.0  \n",
       "71f9080f-beb7-46f7-9e71-52dc5312d993    200        8.0  \n",
       "8d79f014-c7a3-4040-91de-8fcf71c40387    200       10.0  \n",
       "fcee5b8d-54b2-4a99-a2cf-47f6a89f3a59    200       12.0  "
      ]
     },
     "execution_count": 42,
     "metadata": {},
     "output_type": "execute_result"
    }
   ],
   "source": [
    "valid_resudf.sort_values('f1')"
   ]
  },
  {
   "cell_type": "code",
   "execution_count": 43,
   "id": "ddcae201",
   "metadata": {},
   "outputs": [
    {
     "data": {
      "text/plain": [
       "4"
      ]
     },
     "execution_count": 43,
     "metadata": {},
     "output_type": "execute_result"
    }
   ],
   "source": [
    "best_max_depth = valid_resudf.sort_values('f1').iloc[-1].max_depth\n",
    "best_index = max_depths_list.index(best_max_depth)\n",
    "best_index"
   ]
  },
  {
   "cell_type": "code",
   "execution_count": 44,
   "id": "54761ee3",
   "metadata": {},
   "outputs": [
    {
     "name": "stderr",
     "output_type": "stream",
     "text": [
      "/Users/rahul/miniforge3/envs/ml1-arm64/lib/python3.9/site-packages/sklearn/base.py:450: UserWarning: X does not have valid feature names, but RandomForestClassifier was fitted with feature names\n",
      "  warnings.warn(\n"
     ]
    },
    {
     "data": {
      "text/plain": [
       "array([1])"
      ]
     },
     "execution_count": 44,
     "metadata": {},
     "output_type": "execute_result"
    }
   ],
   "source": [
    "models_list[best_index].predict(inputX.reshape(1,-1))"
   ]
  },
  {
   "cell_type": "code",
   "execution_count": 45,
   "id": "208f3230",
   "metadata": {},
   "outputs": [
    {
     "data": {
      "text/plain": [
       "array([0, 1, 0, ..., 0, 0, 1])"
      ]
     },
     "execution_count": 45,
     "metadata": {},
     "output_type": "execute_result"
    }
   ],
   "source": [
    "models_list[best_index].predict(X_valid)"
   ]
  },
  {
   "cell_type": "code",
   "execution_count": null,
   "id": "b1658136",
   "metadata": {},
   "outputs": [],
   "source": []
  }
 ],
 "metadata": {
  "kernelspec": {
   "display_name": "ml1-arm64",
   "language": "python",
   "name": "ml1-arm64"
  },
  "language_info": {
   "codemirror_mode": {
    "name": "ipython",
    "version": 3
   },
   "file_extension": ".py",
   "mimetype": "text/x-python",
   "name": "python",
   "nbconvert_exporter": "python",
   "pygments_lexer": "ipython3",
   "version": "3.9.13"
  }
 },
 "nbformat": 4,
 "nbformat_minor": 5
}
