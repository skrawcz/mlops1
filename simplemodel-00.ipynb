{
 "cells": [
  {
   "cell_type": "markdown",
   "id": "8bcaea2c",
   "metadata": {},
   "source": [
    "# A Simple Model"
   ]
  },
  {
   "cell_type": "code",
   "execution_count": 1,
   "id": "e7f28c39",
   "metadata": {},
   "outputs": [],
   "source": [
    "import pandas as pd\n",
    "from sklearn import preprocessing\n",
    "from sklearn.linear_model import SGDClassifier\n",
    "from sklearn.model_selection import train_test_split\n",
    "import joblib\n",
    "import numpy as np\n",
    "import matplotlib.pyplot as plt\n",
    "%matplotlib inline"
   ]
  },
  {
   "cell_type": "code",
   "execution_count": 2,
   "id": "4fd44eb6",
   "metadata": {},
   "outputs": [],
   "source": [
    "RANDOM_STATE = 42"
   ]
  },
  {
   "cell_type": "markdown",
   "id": "6db8e0b0",
   "metadata": {},
   "source": [
    "## Functions"
   ]
  },
  {
   "cell_type": "markdown",
   "id": "2bea3692",
   "metadata": {},
   "source": [
    "### for Feature Engineering"
   ]
  },
  {
   "cell_type": "code",
   "execution_count": 3,
   "id": "c930e2c5",
   "metadata": {},
   "outputs": [],
   "source": [
    "# Constant\n",
    "drop_cols = [\"Name\", \"SibSp\", \"Parch\", \"Ticket\"]\n",
    "obj_col = \"Survived\"\n",
    "train_df_path = \"~/warehouse/train.csv\"\n",
    "test_df_path = \"~/warehouse/test.csv\"\n",
    "\n",
    "## feature engineering\n",
    "def feature_engineering(raw_df):\n",
    "    df = raw_df.copy()\n",
    "    df[\"Cabin\"] = df[\"Cabin\"].apply(lambda x: x[:1] if x is not np.nan else np.nan)\n",
    "    df[\"Ticket\"] = df[\"Ticket\"].apply(lambda x: str(x).split()[0])\n",
    "    df[\"Family\"] = df[\"SibSp\"] + df[\"Parch\"]\n",
    "    return df"
   ]
  },
  {
   "cell_type": "code",
   "execution_count": 4,
   "id": "e110e411",
   "metadata": {},
   "outputs": [],
   "source": [
    "# cat\n",
    "def to_category(train_df, test_df):\n",
    "    cat = [\"Sex\", \"Cabin\", \"Embarked\"]\n",
    "    mappings = {}\n",
    "    for col in cat:\n",
    "        le = preprocessing.LabelEncoder()\n",
    "        train_df[col] = le.fit_transform(train_df[col])\n",
    "        test_df[col] = le.transform(test_df[col])\n",
    "        mappings[col] = dict(zip(le.classes_, le.transform(le.classes_)))\n",
    "    return train_df, test_df, mappings"
   ]
  },
  {
   "cell_type": "code",
   "execution_count": 5,
   "id": "74b138b9",
   "metadata": {},
   "outputs": [],
   "source": [
    "def get_predictions(clf, X, t=0.5):\n",
    "    y_proba = clf.predict_proba(X)[:, 1]\n",
    "    predictions  = 1*(y_proba >= t)\n",
    "    return y_proba, predictions"
   ]
  },
  {
   "cell_type": "markdown",
   "id": "3d2f580e",
   "metadata": {},
   "source": [
    "### for  Metrics and Plots"
   ]
  },
  {
   "cell_type": "code",
   "execution_count": 6,
   "id": "efc88b2f",
   "metadata": {},
   "outputs": [],
   "source": [
    "from sklearn.metrics import (\n",
    "    roc_auc_score,\n",
    "    average_precision_score,\n",
    "    accuracy_score,\n",
    "    precision_score,\n",
    "    recall_score,\n",
    "    f1_score,\n",
    "    confusion_matrix,\n",
    "    ConfusionMatrixDisplay,\n",
    "    roc_curve,\n",
    "    RocCurveDisplay,\n",
    "    precision_recall_curve,\n",
    "    PrecisionRecallDisplay,\n",
    ")"
   ]
  },
  {
   "cell_type": "code",
   "execution_count": 7,
   "id": "c7c7b261",
   "metadata": {},
   "outputs": [],
   "source": [
    "def get_metrics_noproba(y, ypred):\n",
    "    return {\n",
    "        \"accuracy\": accuracy_score(y, ypred),\n",
    "        \"precision\": precision_score(y, ypred),\n",
    "        \"recall\": recall_score(y, ypred),\n",
    "        \"f1\": f1_score(y, ypred),\n",
    "        \"cm\": confusion_matrix(y, ypred)\n",
    "    }"
   ]
  },
  {
   "cell_type": "code",
   "execution_count": 8,
   "id": "10dec3b5",
   "metadata": {},
   "outputs": [],
   "source": [
    "def get_plots_noproba(y, ypred):\n",
    "    cm = confusion_matrix(y, ypred)\n",
    "    cm_plot = ConfusionMatrixDisplay(cm)\n",
    "    return {\n",
    "        'cm': cm_plot\n",
    "    }"
   ]
  },
  {
   "cell_type": "code",
   "execution_count": 9,
   "id": "e290671d",
   "metadata": {},
   "outputs": [],
   "source": [
    "def get_metrics(y, ypred, yproba):\n",
    "    return {\n",
    "        \"roc_auc\": roc_auc_score(y, yproba),\n",
    "        \"average_precision\": average_precision_score(y, yproba),\n",
    "        \"accuracy\": accuracy_score(y, ypred),\n",
    "        \"precision\": precision_score(y, ypred),\n",
    "        \"recall\": recall_score(y, ypred),\n",
    "        \"f1\": f1_score(y, ypred),\n",
    "        \"cm\": confusion_matrix(y, ypred)\n",
    "    }"
   ]
  },
  {
   "cell_type": "code",
   "execution_count": 10,
   "id": "a0d65a69",
   "metadata": {},
   "outputs": [],
   "source": [
    "def get_plots(y, ypred, yproba):\n",
    "    cm = confusion_matrix(y, ypred)\n",
    "    cm_plot = ConfusionMatrixDisplay(cm)\n",
    "    fpr, tpr, _ = roc_curve(y, yproba)\n",
    "    roc_plot = RocCurveDisplay(fpr=fpr, tpr=tpr)\n",
    "    prec, recall, _ = precision_recall_curve(y, yproba)\n",
    "    pr_plot = PrecisionRecallDisplay(precision=prec, recall=recall)\n",
    "    return {\n",
    "        'cm': cm_plot,\n",
    "        'roc': roc_plot,\n",
    "        'pr': pr_plot\n",
    "    }"
   ]
  },
  {
   "cell_type": "code",
   "execution_count": 11,
   "id": "b2c507f1",
   "metadata": {},
   "outputs": [],
   "source": [
    "# evaluation\n",
    "def eval_model(clf, X, y):\n",
    "    y_proba, y_pred = get_predictions(clf, X)\n",
    "    metrics =  get_metrics(y, y_pred, y_proba)\n",
    "    plots = get_plots(y, y_pred, y_proba)\n",
    "    return metrics, plots"
   ]
  },
  {
   "cell_type": "markdown",
   "id": "1cac3ee4",
   "metadata": {},
   "source": [
    "## Working On Actual Data\n",
    "\n",
    "Our test set here actually has no ground truth. We'll thus use the original training set and split it up into train and validation. "
   ]
  },
  {
   "cell_type": "markdown",
   "id": "a33f1db2",
   "metadata": {},
   "source": [
    "Here are the features in the data:"
   ]
  },
  {
   "cell_type": "markdown",
   "id": "f10cb189",
   "metadata": {},
   "source": [
    "```\n",
    "survival - Survival (0 = No; 1 = Yes)\n",
    "class - Passenger Class (1 = 1st; 2 = 2nd; 3 = 3rd)\n",
    "name - Name\n",
    "sex - Sex\n",
    "age - Age\n",
    "sibsp - Number of Siblings/Spouses Aboard\n",
    "parch - Number of Parents/Children Aboard\n",
    "ticket - Ticket Number\n",
    "fare - Passenger Fare\n",
    "cabin - Cabin\n",
    "embarked - Port of Embarkation (C = Cherbourg; Q = Queenstown; S = Southampton)\n",
    "boat - Lifeboat (if survived)\n",
    "body - Body number (if did not survive and body was recovered)\n",
    "```"
   ]
  },
  {
   "cell_type": "code",
   "execution_count": 12,
   "id": "132b9e76",
   "metadata": {},
   "outputs": [
    {
     "name": "stdout",
     "output_type": "stream",
     "text": [
      "Loading data...\n"
     ]
    }
   ],
   "source": [
    "print(\"Loading data...\")\n",
    "df_train = pd.read_csv(train_df_path, index_col=\"PassengerId\")\n",
    "df_test = pd.read_csv(test_df_path, index_col=\"PassengerId\")"
   ]
  },
  {
   "cell_type": "markdown",
   "id": "75ef816e",
   "metadata": {},
   "source": [
    "### Some EDA"
   ]
  },
  {
   "cell_type": "code",
   "execution_count": 13,
   "id": "e12a487e",
   "metadata": {},
   "outputs": [
    {
     "data": {
      "text/html": [
       "<div>\n",
       "<style scoped>\n",
       "    .dataframe tbody tr th:only-of-type {\n",
       "        vertical-align: middle;\n",
       "    }\n",
       "\n",
       "    .dataframe tbody tr th {\n",
       "        vertical-align: top;\n",
       "    }\n",
       "\n",
       "    .dataframe thead th {\n",
       "        text-align: right;\n",
       "    }\n",
       "</style>\n",
       "<table border=\"1\" class=\"dataframe\">\n",
       "  <thead>\n",
       "    <tr style=\"text-align: right;\">\n",
       "      <th></th>\n",
       "      <th>Survived</th>\n",
       "      <th>Pclass</th>\n",
       "      <th>Name</th>\n",
       "      <th>Sex</th>\n",
       "      <th>Age</th>\n",
       "      <th>SibSp</th>\n",
       "      <th>Parch</th>\n",
       "      <th>Ticket</th>\n",
       "      <th>Fare</th>\n",
       "      <th>Cabin</th>\n",
       "      <th>Embarked</th>\n",
       "    </tr>\n",
       "    <tr>\n",
       "      <th>PassengerId</th>\n",
       "      <th></th>\n",
       "      <th></th>\n",
       "      <th></th>\n",
       "      <th></th>\n",
       "      <th></th>\n",
       "      <th></th>\n",
       "      <th></th>\n",
       "      <th></th>\n",
       "      <th></th>\n",
       "      <th></th>\n",
       "      <th></th>\n",
       "    </tr>\n",
       "  </thead>\n",
       "  <tbody>\n",
       "    <tr>\n",
       "      <th>0</th>\n",
       "      <td>1</td>\n",
       "      <td>1</td>\n",
       "      <td>Oconnor, Frankie</td>\n",
       "      <td>male</td>\n",
       "      <td>NaN</td>\n",
       "      <td>2</td>\n",
       "      <td>0</td>\n",
       "      <td>209245</td>\n",
       "      <td>27.14</td>\n",
       "      <td>C12239</td>\n",
       "      <td>S</td>\n",
       "    </tr>\n",
       "    <tr>\n",
       "      <th>1</th>\n",
       "      <td>0</td>\n",
       "      <td>3</td>\n",
       "      <td>Bryan, Drew</td>\n",
       "      <td>male</td>\n",
       "      <td>NaN</td>\n",
       "      <td>0</td>\n",
       "      <td>0</td>\n",
       "      <td>27323</td>\n",
       "      <td>13.35</td>\n",
       "      <td>NaN</td>\n",
       "      <td>S</td>\n",
       "    </tr>\n",
       "    <tr>\n",
       "      <th>2</th>\n",
       "      <td>0</td>\n",
       "      <td>3</td>\n",
       "      <td>Owens, Kenneth</td>\n",
       "      <td>male</td>\n",
       "      <td>0.33</td>\n",
       "      <td>1</td>\n",
       "      <td>2</td>\n",
       "      <td>CA 457703</td>\n",
       "      <td>71.29</td>\n",
       "      <td>NaN</td>\n",
       "      <td>S</td>\n",
       "    </tr>\n",
       "    <tr>\n",
       "      <th>3</th>\n",
       "      <td>0</td>\n",
       "      <td>3</td>\n",
       "      <td>Kramer, James</td>\n",
       "      <td>male</td>\n",
       "      <td>19.00</td>\n",
       "      <td>0</td>\n",
       "      <td>0</td>\n",
       "      <td>A. 10866</td>\n",
       "      <td>13.04</td>\n",
       "      <td>NaN</td>\n",
       "      <td>S</td>\n",
       "    </tr>\n",
       "    <tr>\n",
       "      <th>4</th>\n",
       "      <td>1</td>\n",
       "      <td>3</td>\n",
       "      <td>Bond, Michael</td>\n",
       "      <td>male</td>\n",
       "      <td>25.00</td>\n",
       "      <td>0</td>\n",
       "      <td>0</td>\n",
       "      <td>427635</td>\n",
       "      <td>7.76</td>\n",
       "      <td>NaN</td>\n",
       "      <td>S</td>\n",
       "    </tr>\n",
       "  </tbody>\n",
       "</table>\n",
       "</div>"
      ],
      "text/plain": [
       "             Survived  Pclass              Name   Sex    Age  SibSp  Parch  \\\n",
       "PassengerId                                                                  \n",
       "0                   1       1  Oconnor, Frankie  male    NaN      2      0   \n",
       "1                   0       3       Bryan, Drew  male    NaN      0      0   \n",
       "2                   0       3    Owens, Kenneth  male   0.33      1      2   \n",
       "3                   0       3     Kramer, James  male  19.00      0      0   \n",
       "4                   1       3     Bond, Michael  male  25.00      0      0   \n",
       "\n",
       "                Ticket   Fare   Cabin Embarked  \n",
       "PassengerId                                     \n",
       "0               209245  27.14  C12239        S  \n",
       "1                27323  13.35     NaN        S  \n",
       "2            CA 457703  71.29     NaN        S  \n",
       "3             A. 10866  13.04     NaN        S  \n",
       "4               427635   7.76     NaN        S  "
      ]
     },
     "execution_count": 13,
     "metadata": {},
     "output_type": "execute_result"
    }
   ],
   "source": [
    "df_train.head()"
   ]
  },
  {
   "cell_type": "code",
   "execution_count": 14,
   "id": "483a07ad",
   "metadata": {},
   "outputs": [
    {
     "data": {
      "image/png": "[encoded data removed]",
      "text/plain": [
       "<Figure size 640x480 with 1 Axes>"
      ]
     },
     "metadata": {},
     "output_type": "display_data"
    }
   ],
   "source": [
    "df_train[df_train.Survived==1].Age.hist()\n",
    "plt.show()"
   ]
  },
  {
   "cell_type": "code",
   "execution_count": 15,
   "id": "7527eac1",
   "metadata": {},
   "outputs": [
    {
     "data": {
      "image/png": "[encoded data removed]",
      "text/plain": [
       "<Figure size 640x480 with 1 Axes>"
      ]
     },
     "metadata": {},
     "output_type": "display_data"
    }
   ],
   "source": [
    "df_train[df_train.Survived==1].Fare.hist()\n",
    "plt.show()"
   ]
  },
  {
   "cell_type": "code",
   "execution_count": 16,
   "id": "6d64f5d8",
   "metadata": {},
   "outputs": [
    {
     "data": {
      "text/html": [
       "<div>\n",
       "<style scoped>\n",
       "    .dataframe tbody tr th:only-of-type {\n",
       "        vertical-align: middle;\n",
       "    }\n",
       "\n",
       "    .dataframe tbody tr th {\n",
       "        vertical-align: top;\n",
       "    }\n",
       "\n",
       "    .dataframe thead th {\n",
       "        text-align: right;\n",
       "    }\n",
       "</style>\n",
       "<table border=\"1\" class=\"dataframe\">\n",
       "  <thead>\n",
       "    <tr style=\"text-align: right;\">\n",
       "      <th></th>\n",
       "      <th>Pclass</th>\n",
       "      <th>Name</th>\n",
       "      <th>Sex</th>\n",
       "      <th>Age</th>\n",
       "      <th>SibSp</th>\n",
       "      <th>Parch</th>\n",
       "      <th>Ticket</th>\n",
       "      <th>Fare</th>\n",
       "      <th>Cabin</th>\n",
       "      <th>Embarked</th>\n",
       "    </tr>\n",
       "    <tr>\n",
       "      <th>PassengerId</th>\n",
       "      <th></th>\n",
       "      <th></th>\n",
       "      <th></th>\n",
       "      <th></th>\n",
       "      <th></th>\n",
       "      <th></th>\n",
       "      <th></th>\n",
       "      <th></th>\n",
       "      <th></th>\n",
       "      <th></th>\n",
       "    </tr>\n",
       "  </thead>\n",
       "  <tbody>\n",
       "    <tr>\n",
       "      <th>100000</th>\n",
       "      <td>3</td>\n",
       "      <td>Holliday, Daniel</td>\n",
       "      <td>male</td>\n",
       "      <td>19.0</td>\n",
       "      <td>0</td>\n",
       "      <td>0</td>\n",
       "      <td>24745</td>\n",
       "      <td>63.01</td>\n",
       "      <td>NaN</td>\n",
       "      <td>S</td>\n",
       "    </tr>\n",
       "    <tr>\n",
       "      <th>100001</th>\n",
       "      <td>3</td>\n",
       "      <td>Nguyen, Lorraine</td>\n",
       "      <td>female</td>\n",
       "      <td>53.0</td>\n",
       "      <td>0</td>\n",
       "      <td>0</td>\n",
       "      <td>13264</td>\n",
       "      <td>5.81</td>\n",
       "      <td>NaN</td>\n",
       "      <td>S</td>\n",
       "    </tr>\n",
       "    <tr>\n",
       "      <th>100002</th>\n",
       "      <td>1</td>\n",
       "      <td>Harris, Heather</td>\n",
       "      <td>female</td>\n",
       "      <td>19.0</td>\n",
       "      <td>0</td>\n",
       "      <td>0</td>\n",
       "      <td>25990</td>\n",
       "      <td>38.91</td>\n",
       "      <td>B15315</td>\n",
       "      <td>C</td>\n",
       "    </tr>\n",
       "    <tr>\n",
       "      <th>100003</th>\n",
       "      <td>2</td>\n",
       "      <td>Larsen, Eric</td>\n",
       "      <td>male</td>\n",
       "      <td>25.0</td>\n",
       "      <td>0</td>\n",
       "      <td>0</td>\n",
       "      <td>314011</td>\n",
       "      <td>12.93</td>\n",
       "      <td>NaN</td>\n",
       "      <td>S</td>\n",
       "    </tr>\n",
       "    <tr>\n",
       "      <th>100004</th>\n",
       "      <td>1</td>\n",
       "      <td>Cleary, Sarah</td>\n",
       "      <td>female</td>\n",
       "      <td>17.0</td>\n",
       "      <td>0</td>\n",
       "      <td>2</td>\n",
       "      <td>26203</td>\n",
       "      <td>26.89</td>\n",
       "      <td>B22515</td>\n",
       "      <td>C</td>\n",
       "    </tr>\n",
       "  </tbody>\n",
       "</table>\n",
       "</div>"
      ],
      "text/plain": [
       "             Pclass              Name     Sex   Age  SibSp  Parch  Ticket  \\\n",
       "PassengerId                                                                 \n",
       "100000            3  Holliday, Daniel    male  19.0      0      0   24745   \n",
       "100001            3  Nguyen, Lorraine  female  53.0      0      0   13264   \n",
       "100002            1   Harris, Heather  female  19.0      0      0   25990   \n",
       "100003            2      Larsen, Eric    male  25.0      0      0  314011   \n",
       "100004            1     Cleary, Sarah  female  17.0      0      2   26203   \n",
       "\n",
       "              Fare   Cabin Embarked  \n",
       "PassengerId                          \n",
       "100000       63.01     NaN        S  \n",
       "100001        5.81     NaN        S  \n",
       "100002       38.91  B15315        C  \n",
       "100003       12.93     NaN        S  \n",
       "100004       26.89  B22515        C  "
      ]
     },
     "execution_count": 16,
     "metadata": {},
     "output_type": "execute_result"
    }
   ],
   "source": [
    "df_test.head()"
   ]
  },
  {
   "cell_type": "markdown",
   "id": "7f81234e",
   "metadata": {},
   "source": [
    "### Feature Engineering"
   ]
  },
  {
   "cell_type": "code",
   "execution_count": 17,
   "id": "2b75f067",
   "metadata": {},
   "outputs": [
    {
     "name": "stdout",
     "output_type": "stream",
     "text": [
      "Engineering features...\n"
     ]
    }
   ],
   "source": [
    "print(\"Engineering features...\")\n",
    "y = df_train[obj_col]\n",
    "train_df = feature_engineering(df_train).drop(drop_cols + [obj_col], axis=1)\n",
    "test_df = feature_engineering(df_test).drop(drop_cols, axis=1)\n",
    "train_df, test_df, mappings = to_category(train_df, test_df)"
   ]
  },
  {
   "cell_type": "code",
   "execution_count": 18,
   "id": "6adb80f4",
   "metadata": {},
   "outputs": [
    {
     "data": {
      "text/plain": [
       "{'Sex': {'female': 0, 'male': 1},\n",
       " 'Cabin': {'A': 0,\n",
       "  'B': 1,\n",
       "  'C': 2,\n",
       "  'D': 3,\n",
       "  'E': 4,\n",
       "  'F': 5,\n",
       "  'G': 6,\n",
       "  'T': 7,\n",
       "  nan: 8},\n",
       " 'Embarked': {'C': 0, 'Q': 1, 'S': 2, nan: 3}}"
      ]
     },
     "execution_count": 18,
     "metadata": {},
     "output_type": "execute_result"
    }
   ],
   "source": [
    "mappings"
   ]
  },
  {
   "cell_type": "markdown",
   "id": "755196b8",
   "metadata": {},
   "source": [
    "### Value Imputation"
   ]
  },
  {
   "cell_type": "code",
   "execution_count": 19,
   "id": "a9612a63",
   "metadata": {},
   "outputs": [],
   "source": [
    "train_df = train_df.fillna(0)\n",
    "test_df = test_df.fillna(0)"
   ]
  },
  {
   "cell_type": "code",
   "execution_count": 20,
   "id": "8d253d92",
   "metadata": {},
   "outputs": [
    {
     "data": {
      "text/html": [
       "<div>\n",
       "<style scoped>\n",
       "    .dataframe tbody tr th:only-of-type {\n",
       "        vertical-align: middle;\n",
       "    }\n",
       "\n",
       "    .dataframe tbody tr th {\n",
       "        vertical-align: top;\n",
       "    }\n",
       "\n",
       "    .dataframe thead th {\n",
       "        text-align: right;\n",
       "    }\n",
       "</style>\n",
       "<table border=\"1\" class=\"dataframe\">\n",
       "  <thead>\n",
       "    <tr style=\"text-align: right;\">\n",
       "      <th></th>\n",
       "      <th>Pclass</th>\n",
       "      <th>Sex</th>\n",
       "      <th>Age</th>\n",
       "      <th>Fare</th>\n",
       "      <th>Cabin</th>\n",
       "      <th>Embarked</th>\n",
       "      <th>Family</th>\n",
       "    </tr>\n",
       "    <tr>\n",
       "      <th>PassengerId</th>\n",
       "      <th></th>\n",
       "      <th></th>\n",
       "      <th></th>\n",
       "      <th></th>\n",
       "      <th></th>\n",
       "      <th></th>\n",
       "      <th></th>\n",
       "    </tr>\n",
       "  </thead>\n",
       "  <tbody>\n",
       "    <tr>\n",
       "      <th>0</th>\n",
       "      <td>1</td>\n",
       "      <td>1</td>\n",
       "      <td>0.00</td>\n",
       "      <td>27.14</td>\n",
       "      <td>2</td>\n",
       "      <td>2</td>\n",
       "      <td>2</td>\n",
       "    </tr>\n",
       "    <tr>\n",
       "      <th>1</th>\n",
       "      <td>3</td>\n",
       "      <td>1</td>\n",
       "      <td>0.00</td>\n",
       "      <td>13.35</td>\n",
       "      <td>8</td>\n",
       "      <td>2</td>\n",
       "      <td>0</td>\n",
       "    </tr>\n",
       "    <tr>\n",
       "      <th>2</th>\n",
       "      <td>3</td>\n",
       "      <td>1</td>\n",
       "      <td>0.33</td>\n",
       "      <td>71.29</td>\n",
       "      <td>8</td>\n",
       "      <td>2</td>\n",
       "      <td>3</td>\n",
       "    </tr>\n",
       "    <tr>\n",
       "      <th>3</th>\n",
       "      <td>3</td>\n",
       "      <td>1</td>\n",
       "      <td>19.00</td>\n",
       "      <td>13.04</td>\n",
       "      <td>8</td>\n",
       "      <td>2</td>\n",
       "      <td>0</td>\n",
       "    </tr>\n",
       "    <tr>\n",
       "      <th>4</th>\n",
       "      <td>3</td>\n",
       "      <td>1</td>\n",
       "      <td>25.00</td>\n",
       "      <td>7.76</td>\n",
       "      <td>8</td>\n",
       "      <td>2</td>\n",
       "      <td>0</td>\n",
       "    </tr>\n",
       "  </tbody>\n",
       "</table>\n",
       "</div>"
      ],
      "text/plain": [
       "             Pclass  Sex    Age   Fare  Cabin  Embarked  Family\n",
       "PassengerId                                                    \n",
       "0                 1    1   0.00  27.14      2         2       2\n",
       "1                 3    1   0.00  13.35      8         2       0\n",
       "2                 3    1   0.33  71.29      8         2       3\n",
       "3                 3    1  19.00  13.04      8         2       0\n",
       "4                 3    1  25.00   7.76      8         2       0"
      ]
     },
     "execution_count": 20,
     "metadata": {},
     "output_type": "execute_result"
    }
   ],
   "source": [
    "train_df.head()"
   ]
  },
  {
   "cell_type": "code",
   "execution_count": 21,
   "id": "e361abc0",
   "metadata": {},
   "outputs": [
    {
     "data": {
      "text/html": [
       "<div>\n",
       "<style scoped>\n",
       "    .dataframe tbody tr th:only-of-type {\n",
       "        vertical-align: middle;\n",
       "    }\n",
       "\n",
       "    .dataframe tbody tr th {\n",
       "        vertical-align: top;\n",
       "    }\n",
       "\n",
       "    .dataframe thead th {\n",
       "        text-align: right;\n",
       "    }\n",
       "</style>\n",
       "<table border=\"1\" class=\"dataframe\">\n",
       "  <thead>\n",
       "    <tr style=\"text-align: right;\">\n",
       "      <th></th>\n",
       "      <th>Pclass</th>\n",
       "      <th>Sex</th>\n",
       "      <th>Age</th>\n",
       "      <th>Fare</th>\n",
       "      <th>Cabin</th>\n",
       "      <th>Embarked</th>\n",
       "      <th>Family</th>\n",
       "    </tr>\n",
       "  </thead>\n",
       "  <tbody>\n",
       "    <tr>\n",
       "      <th>count</th>\n",
       "      <td>100000.000000</td>\n",
       "      <td>100000.00000</td>\n",
       "      <td>100000.00000</td>\n",
       "      <td>100000.000000</td>\n",
       "      <td>100000.000000</td>\n",
       "      <td>100000.000000</td>\n",
       "      <td>100000.000000</td>\n",
       "    </tr>\n",
       "    <tr>\n",
       "      <th>mean</th>\n",
       "      <td>2.106910</td>\n",
       "      <td>0.56114</td>\n",
       "      <td>37.09281</td>\n",
       "      <td>43.870465</td>\n",
       "      <td>5.983550</td>\n",
       "      <td>1.504520</td>\n",
       "      <td>0.852250</td>\n",
       "    </tr>\n",
       "    <tr>\n",
       "      <th>std</th>\n",
       "      <td>0.837727</td>\n",
       "      <td>0.49625</td>\n",
       "      <td>19.26607</td>\n",
       "      <td>69.560745</td>\n",
       "      <td>3.023404</td>\n",
       "      <td>0.835899</td>\n",
       "      <td>1.412792</td>\n",
       "    </tr>\n",
       "    <tr>\n",
       "      <th>min</th>\n",
       "      <td>1.000000</td>\n",
       "      <td>0.00000</td>\n",
       "      <td>0.00000</td>\n",
       "      <td>0.000000</td>\n",
       "      <td>0.000000</td>\n",
       "      <td>0.000000</td>\n",
       "      <td>0.000000</td>\n",
       "    </tr>\n",
       "    <tr>\n",
       "      <th>25%</th>\n",
       "      <td>1.000000</td>\n",
       "      <td>0.00000</td>\n",
       "      <td>24.00000</td>\n",
       "      <td>10.020000</td>\n",
       "      <td>2.000000</td>\n",
       "      <td>1.000000</td>\n",
       "      <td>0.000000</td>\n",
       "    </tr>\n",
       "    <tr>\n",
       "      <th>50%</th>\n",
       "      <td>2.000000</td>\n",
       "      <td>1.00000</td>\n",
       "      <td>38.00000</td>\n",
       "      <td>24.440000</td>\n",
       "      <td>8.000000</td>\n",
       "      <td>2.000000</td>\n",
       "      <td>0.000000</td>\n",
       "    </tr>\n",
       "    <tr>\n",
       "      <th>75%</th>\n",
       "      <td>3.000000</td>\n",
       "      <td>1.00000</td>\n",
       "      <td>53.00000</td>\n",
       "      <td>33.470000</td>\n",
       "      <td>8.000000</td>\n",
       "      <td>2.000000</td>\n",
       "      <td>1.000000</td>\n",
       "    </tr>\n",
       "    <tr>\n",
       "      <th>max</th>\n",
       "      <td>3.000000</td>\n",
       "      <td>1.00000</td>\n",
       "      <td>87.00000</td>\n",
       "      <td>744.660000</td>\n",
       "      <td>8.000000</td>\n",
       "      <td>3.000000</td>\n",
       "      <td>17.000000</td>\n",
       "    </tr>\n",
       "  </tbody>\n",
       "</table>\n",
       "</div>"
      ],
      "text/plain": [
       "              Pclass           Sex           Age           Fare  \\\n",
       "count  100000.000000  100000.00000  100000.00000  100000.000000   \n",
       "mean        2.106910       0.56114      37.09281      43.870465   \n",
       "std         0.837727       0.49625      19.26607      69.560745   \n",
       "min         1.000000       0.00000       0.00000       0.000000   \n",
       "25%         1.000000       0.00000      24.00000      10.020000   \n",
       "50%         2.000000       1.00000      38.00000      24.440000   \n",
       "75%         3.000000       1.00000      53.00000      33.470000   \n",
       "max         3.000000       1.00000      87.00000     744.660000   \n",
       "\n",
       "               Cabin       Embarked         Family  \n",
       "count  100000.000000  100000.000000  100000.000000  \n",
       "mean        5.983550       1.504520       0.852250  \n",
       "std         3.023404       0.835899       1.412792  \n",
       "min         0.000000       0.000000       0.000000  \n",
       "25%         2.000000       1.000000       0.000000  \n",
       "50%         8.000000       2.000000       0.000000  \n",
       "75%         8.000000       2.000000       1.000000  \n",
       "max         8.000000       3.000000      17.000000  "
      ]
     },
     "execution_count": 21,
     "metadata": {},
     "output_type": "execute_result"
    }
   ],
   "source": [
    "train_df.describe()"
   ]
  },
  {
   "cell_type": "code",
   "execution_count": 22,
   "id": "d832d41a",
   "metadata": {},
   "outputs": [
    {
     "name": "stdout",
     "output_type": "stream",
     "text": [
      "Pclass [1 3 2]\n",
      "Sex [1 0]\n",
      "Cabin [2 8 0 3 1 4 5 6 7]\n",
      "Embarked [2 0 1 3]\n",
      "Family [ 2  0  3  1  4  6  5  9  7 10  8 13 11 17 12 14]\n"
     ]
    }
   ],
   "source": [
    "for col in ['Pclass', 'Sex', 'Cabin', 'Embarked', 'Family']:\n",
    "    print(col, train_df[col].unique())"
   ]
  },
  {
   "cell_type": "markdown",
   "id": "41f9a685",
   "metadata": {},
   "source": [
    "### Train-Validation Split"
   ]
  },
  {
   "cell_type": "code",
   "execution_count": 23,
   "id": "b928cc43",
   "metadata": {},
   "outputs": [
    {
     "name": "stdout",
     "output_type": "stream",
     "text": [
      "Training model...\n"
     ]
    }
   ],
   "source": [
    "print(\"Training model...\")\n",
    "X_train, X_valid, y_train, y_valid = train_test_split(\n",
    "    train_df, y, test_size=0.33, random_state=RANDOM_STATE, stratify=y\n",
    ")"
   ]
  },
  {
   "cell_type": "markdown",
   "id": "a72be22a",
   "metadata": {},
   "source": [
    "## Model Training"
   ]
  },
  {
   "cell_type": "markdown",
   "id": "92d2c3cd",
   "metadata": {},
   "source": [
    "### Very Baseline Model"
   ]
  },
  {
   "cell_type": "code",
   "execution_count": 24,
   "id": "d6bb4969",
   "metadata": {},
   "outputs": [
    {
     "data": {
      "text/plain": [
       "(0.42774626865671644, 0.42772727272727273)"
      ]
     },
     "execution_count": 24,
     "metadata": {},
     "output_type": "execute_result"
    }
   ],
   "source": [
    "np.mean(y_train), np.mean(y_valid)"
   ]
  },
  {
   "cell_type": "markdown",
   "id": "3864b39c",
   "metadata": {},
   "source": [
    "Everyone Dies"
   ]
  },
  {
   "cell_type": "code",
   "execution_count": 26,
   "id": "eb646d51",
   "metadata": {},
   "outputs": [
    {
     "name": "stdout",
     "output_type": "stream",
     "text": [
      "TRAIN/ALLDIE {'accuracy': 0.42774626865671644, 'precision': 0.42774626865671644, 'recall': 1.0, 'f1': 0.5991908759238546, 'cm': array([[    0, 38341],\n",
      "       [    0, 28659]])}\n",
      "VALID/ALLDIE {'accuracy': 0.42772727272727273, 'precision': 0.42772727272727273, 'recall': 1.0, 'f1': 0.5991722381407195, 'cm': array([[    0, 18885],\n",
      "       [    0, 14115]])}\n"
     ]
    }
   ],
   "source": [
    "metrics_train_alldie = get_metrics_noproba(y_train, np.ones(y_train.size))\n",
    "metrics_valid_alldie = get_metrics_noproba(y_valid, np.ones(y_valid.size))\n",
    "print(\"TRAIN/ALLDIE\", metrics_train_alldie)\n",
    "print(\"VALID/ALLDIE\", metrics_valid_alldie)"
   ]
  },
  {
   "cell_type": "code",
   "execution_count": 27,
   "id": "1b576d6d",
   "metadata": {},
   "outputs": [
    {
     "name": "stdout",
     "output_type": "stream",
     "text": [
      "TRAIN/NONEDIE {'accuracy': 0.5722537313432836, 'precision': 0.0, 'recall': 0.0, 'f1': 0.0, 'cm': array([[38341,     0],\n",
      "       [28659,     0]])}\n",
      "VALID/NONEDIE {'accuracy': 0.5722727272727273, 'precision': 0.0, 'recall': 0.0, 'f1': 0.0, 'cm': array([[18885,     0],\n",
      "       [14115,     0]])}\n"
     ]
    },
    {
     "name": "stderr",
     "output_type": "stream",
     "text": [
      "/Users/rahul/miniforge3/envs/ml1-arm64/lib/python3.9/site-packages/sklearn/metrics/_classification.py:1334: UndefinedMetricWarning: Precision is ill-defined and being set to 0.0 due to no predicted samples. Use `zero_division` parameter to control this behavior.\n",
      "  _warn_prf(average, modifier, msg_start, len(result))\n",
      "/Users/rahul/miniforge3/envs/ml1-arm64/lib/python3.9/site-packages/sklearn/metrics/_classification.py:1334: UndefinedMetricWarning: Precision is ill-defined and being set to 0.0 due to no predicted samples. Use `zero_division` parameter to control this behavior.\n",
      "  _warn_prf(average, modifier, msg_start, len(result))\n"
     ]
    }
   ],
   "source": [
    "metrics_train_nonedie = get_metrics_noproba(y_train, np.zeros(y_train.size))\n",
    "metrics_valid_nonedie = get_metrics_noproba(y_valid, np.zeros(y_valid.size))\n",
    "print(\"TRAIN/NONEDIE\", metrics_train_nonedie)\n",
    "print(\"VALID/NONEDIE\", metrics_valid_nonedie)"
   ]
  },
  {
   "cell_type": "markdown",
   "id": "54cb15b0",
   "metadata": {},
   "source": [
    "### Baseline Model"
   ]
  },
  {
   "cell_type": "code",
   "execution_count": 28,
   "id": "7d192bd0",
   "metadata": {},
   "outputs": [],
   "source": [
    "from sklearn.ensemble import RandomForestClassifier"
   ]
  },
  {
   "cell_type": "code",
   "execution_count": 29,
   "id": "c6950470",
   "metadata": {},
   "outputs": [],
   "source": [
    "def fit_model_rf(train_X, train_y, max_depth=None, random_state=42):\n",
    "    clf = RandomForestClassifier(n_estimators=200, max_depth=max_depth, random_state=random_state)\n",
    "    clf.fit(train_X, train_y)\n",
    "    return clf"
   ]
  },
  {
   "cell_type": "code",
   "execution_count": 30,
   "id": "4915c801",
   "metadata": {},
   "outputs": [],
   "source": [
    "model = fit_model_rf(X_train, y_train)"
   ]
  },
  {
   "cell_type": "markdown",
   "id": "11db4a93",
   "metadata": {},
   "source": [
    "#### Baseline Model Inference"
   ]
  },
  {
   "cell_type": "code",
   "execution_count": 31,
   "id": "3143ba91",
   "metadata": {},
   "outputs": [
    {
     "data": {
      "text/plain": [
       "{'Pclass': 1,\n",
       " 'Sex': 0,\n",
       " 'Age': 40,\n",
       " 'Fare': 250,\n",
       " 'Cabin': 7,\n",
       " 'Embarked': 2,\n",
       " 'Family': 0}"
      ]
     },
     "execution_count": 31,
     "metadata": {},
     "output_type": "execute_result"
    }
   ],
   "source": [
    "data_to_predict = dict(\n",
    "    Pclass = 1,\n",
    "    Sex = 'female',\n",
    "    Age = 40,\n",
    "    Fare = 250,\n",
    "    Cabin = 'T',\n",
    "    Embarked = 'S',\n",
    "    Family = 0\n",
    ")\n",
    "for k in data_to_predict:\n",
    "    if k in ['Sex', 'Cabin', 'Embarked']:\n",
    "        data_to_predict[k] = mappings[k][data_to_predict[k]]\n",
    "data_to_predict"
   ]
  },
  {
   "cell_type": "code",
   "execution_count": 32,
   "id": "1171f468",
   "metadata": {},
   "outputs": [
    {
     "data": {
      "text/plain": [
       "array([[  1,   0,  40, 250,   7,   2,   0]])"
      ]
     },
     "execution_count": 32,
     "metadata": {},
     "output_type": "execute_result"
    }
   ],
   "source": [
    "inputX = np.array(list(data_to_predict.values()))\n",
    "inputX.reshape(1,-1)"
   ]
  },
  {
   "cell_type": "code",
   "execution_count": 33,
   "id": "907a2e42",
   "metadata": {},
   "outputs": [
    {
     "name": "stderr",
     "output_type": "stream",
     "text": [
      "/Users/rahul/miniforge3/envs/ml1-arm64/lib/python3.9/site-packages/sklearn/base.py:450: UserWarning: X does not have valid feature names, but RandomForestClassifier was fitted with feature names\n",
      "  warnings.warn(\n"
     ]
    },
    {
     "data": {
      "text/plain": [
       "array([1])"
      ]
     },
     "execution_count": 33,
     "metadata": {},
     "output_type": "execute_result"
    }
   ],
   "source": [
    "model.predict(inputX.reshape(1,-1))"
   ]
  },
  {
   "cell_type": "code",
   "execution_count": 35,
   "id": "79ad457e",
   "metadata": {},
   "outputs": [
    {
     "data": {
      "text/plain": [
       "array([0, 1, 0, ..., 0, 1, 1])"
      ]
     },
     "execution_count": 35,
     "metadata": {},
     "output_type": "execute_result"
    }
   ],
   "source": [
    "model.predict(X_valid)"
   ]
  },
  {
   "cell_type": "markdown",
   "id": "b8748876",
   "metadata": {},
   "source": [
    "#### Baseline Model Metrics and Plots"
   ]
  },
  {
   "cell_type": "code",
   "execution_count": 36,
   "id": "5abd96fb",
   "metadata": {},
   "outputs": [
    {
     "name": "stdout",
     "output_type": "stream",
     "text": [
      "Evaluating model...\n",
      "Train metrics:\n",
      "{'roc_auc': 0.9998229874458024, 'average_precision': 0.999782557723913, 'accuracy': 0.9951492537313433, 'precision': 0.9976115208991921, 'recall': 0.9910324854321505, 'f1': 0.9943111204467083, 'cm': array([[38273,    68],\n",
      "       [  257, 28402]])}\n"
     ]
    }
   ],
   "source": [
    "print(\"Evaluating model...\")\n",
    "train_metrics, train_plots = eval_model(model, X_train, y_train)\n",
    "print(\"Train metrics:\")\n",
    "print(train_metrics)"
   ]
  },
  {
   "cell_type": "code",
   "execution_count": 37,
   "id": "e421a2bc",
   "metadata": {},
   "outputs": [
    {
     "data": {
      "image/png": "[encoded data removed]",
      "text/plain": [
       "<Figure size 640x480 with 2 Axes>"
      ]
     },
     "metadata": {},
     "output_type": "display_data"
    },
    {
     "data": {
      "image/png": "[encoded data removed]",
      "text/plain": [
       "<Figure size 640x480 with 1 Axes>"
      ]
     },
     "metadata": {},
     "output_type": "display_data"
    },
    {
     "data": {
      "image/png": "[encoded data removed]",
      "text/plain": [
       "<Figure size 640x480 with 1 Axes>"
      ]
     },
     "metadata": {},
     "output_type": "display_data"
    }
   ],
   "source": [
    "for k in train_plots:\n",
    "    f = train_plots[k]\n",
    "    f.plot()"
   ]
  },
  {
   "cell_type": "code",
   "execution_count": 38,
   "id": "f9d9bbf7",
   "metadata": {},
   "outputs": [
    {
     "name": "stdout",
     "output_type": "stream",
     "text": [
      "Validation metrics:\n",
      "{'roc_auc': 0.8071851393546581, 'average_precision': 0.7477038696282681, 'accuracy': 0.7368484848484849, 'precision': 0.6934530170264301, 'recall': 0.6896209705986539, 'f1': 0.6915316851378233, 'cm': array([[14582,  4303],\n",
      "       [ 4381,  9734]])}\n"
     ]
    }
   ],
   "source": [
    "valid_metrics, valid_plots = eval_model(model, X_valid, y_valid)\n",
    "print(\"Validation metrics:\")\n",
    "print(valid_metrics)"
   ]
  },
  {
   "cell_type": "code",
   "execution_count": 39,
   "id": "73a7f248",
   "metadata": {},
   "outputs": [
    {
     "data": {
      "image/png": "[encoded data removed]",
      "text/plain": [
       "<Figure size 640x480 with 2 Axes>"
      ]
     },
     "metadata": {},
     "output_type": "display_data"
    },
    {
     "data": {
      "image/png": "[encoded data removed]",
      "text/plain": [
       "<Figure size 640x480 with 1 Axes>"
      ]
     },
     "metadata": {},
     "output_type": "display_data"
    },
    {
     "data": {
      "image/png": "[encoded data removed]",
      "text/plain": [
       "<Figure size 640x480 with 1 Axes>"
      ]
     },
     "metadata": {},
     "output_type": "display_data"
    }
   ],
   "source": [
    "for k in valid_plots:\n",
    "    f = valid_plots[k]\n",
    "    f.plot()"
   ]
  },
  {
   "cell_type": "markdown",
   "id": "1ec5ad0a",
   "metadata": {},
   "source": [
    "### Training a Model with Hyper-parameters"
   ]
  },
  {
   "cell_type": "code",
   "execution_count": 41,
   "id": "c210749a",
   "metadata": {},
   "outputs": [],
   "source": [
    "import uuid"
   ]
  },
  {
   "cell_type": "code",
   "execution_count": 45,
   "id": "38988ded",
   "metadata": {},
   "outputs": [
    {
     "name": "stdout",
     "output_type": "stream",
     "text": [
      "Training Model 1\n",
      "Evaluating Model\n",
      "Train metrics:\n",
      "{'roc_auc': 0.828111928941134, 'average_precision': 0.7466449339904188, 'accuracy': 0.7446417910447761, 'precision': 0.7792823290453622, 'recall': 0.5622666527094455, 'f1': 0.6532217200072968, 'cm': array([[33777,  4564],\n",
      "       [12545, 16114]])}\n",
      "Validation metrics:\n",
      "{'roc_auc': 0.8301644750077164, 'average_precision': 0.7472724903128243, 'accuracy': 0.7434242424242424, 'precision': 0.7763750244666275, 'recall': 0.5620262132483174, 'f1': 0.6520363292647845, 'cm': array([[16600,  2285],\n",
      "       [ 6182,  7933]])}\n",
      "----------------------\n",
      "Training Model 5\n",
      "Evaluating Model\n",
      "Train metrics:\n",
      "{'roc_auc': 0.8454758008206112, 'average_precision': 0.7975441271645314, 'accuracy': 0.779223880597015, 'precision': 0.7508774469008938, 'recall': 0.7241006315642555, 'f1': 0.7372459855051868, 'cm': array([[31456,  6885],\n",
      "       [ 7907, 20752]])}\n",
      "Validation metrics:\n",
      "{'roc_auc': 0.8463794143027447, 'average_precision': 0.7964224371563748, 'accuracy': 0.7761818181818182, 'precision': 0.746899537682542, 'recall': 0.7210768685795254, 'f1': 0.7337610842765483, 'cm': array([[15436,  3449],\n",
      "       [ 3937, 10178]])}\n",
      "----------------------\n",
      "Training Model 8\n",
      "Evaluating Model\n",
      "Train metrics:\n",
      "{'roc_auc': 0.8544333883281372, 'average_precision': 0.8114850880509056, 'accuracy': 0.7853432835820896, 'precision': 0.764575071346503, 'recall': 0.7198087860706933, 'f1': 0.7415168943206326, 'cm': array([[31989,  6352],\n",
      "       [ 8030, 20629]])}\n",
      "Validation metrics:\n",
      "{'roc_auc': 0.8491865215858501, 'average_precision': 0.8012285640654149, 'accuracy': 0.7776666666666666, 'precision': 0.7550805359024537, 'recall': 0.7107332624867163, 'f1': 0.7322360497792051, 'cm': array([[15631,  3254],\n",
      "       [ 4083, 10032]])}\n",
      "----------------------\n",
      "Training Model 10\n",
      "Evaluating Model\n",
      "Train metrics:\n",
      "{'roc_auc': 0.8653386008201077, 'average_precision': 0.8280880655342918, 'accuracy': 0.7951940298507463, 'precision': 0.7728418514594674, 'recall': 0.7381625318399107, 'f1': 0.755104226156482, 'cm': array([[32123,  6218],\n",
      "       [ 7504, 21155]])}\n",
      "Validation metrics:\n",
      "{'roc_auc': 0.8494241438030641, 'average_precision': 0.8025475224332665, 'accuracy': 0.7789393939393939, 'precision': 0.7535315985130111, 'recall': 0.7180304640453419, 'f1': 0.7353528024668964, 'cm': array([[15570,  3315],\n",
      "       [ 3980, 10135]])}\n",
      "----------------------\n",
      "Training Model 12\n",
      "Evaluating Model\n",
      "Train metrics:\n",
      "{'roc_auc': 0.882951953795224, 'average_precision': 0.8535151223960675, 'accuracy': 0.811, 'precision': 0.7877185409022232, 'recall': 0.7640531770124568, 'f1': 0.7757054041128646, 'cm': array([[32440,  5901],\n",
      "       [ 6762, 21897]])}\n",
      "Validation metrics:\n",
      "{'roc_auc': 0.848473201005658, 'average_precision': 0.8015089090062391, 'accuracy': 0.7776666666666666, 'precision': 0.7480603132777046, 'recall': 0.7240524264966348, 'f1': 0.7358606040969147, 'cm': array([[15443,  3442],\n",
      "       [ 3895, 10220]])}\n",
      "----------------------\n",
      "Training Model 15\n",
      "Evaluating Model\n",
      "Train metrics:\n",
      "{'roc_auc': 0.92047841142907, 'average_precision': 0.904671664910585, 'accuracy': 0.8462388059701492, 'precision': 0.8283782333369111, 'recall': 0.8079137443734953, 'f1': 0.818018018018018, 'cm': array([[33544,  4797],\n",
      "       [ 5505, 23154]])}\n",
      "Validation metrics:\n",
      "{'roc_auc': 0.8442219838159466, 'average_precision': 0.7962509011648211, 'accuracy': 0.7733333333333333, 'precision': 0.7412902756564114, 'recall': 0.7220687212185618, 'f1': 0.7315532586850416, 'cm': array([[15328,  3557],\n",
      "       [ 3923, 10192]])}\n",
      "----------------------\n",
      "Training Model 20\n",
      "Evaluating Model\n",
      "Train metrics:\n",
      "{'roc_auc': 0.976833043769957, 'average_precision': 0.9729839182550521, 'accuracy': 0.9211641791044776, 'precision': 0.9230824917653021, 'recall': 0.8898426323319027, 'f1': 0.90615783676225, 'cm': array([[36216,  2125],\n",
      "       [ 3157, 25502]])}\n",
      "Validation metrics:\n",
      "{'roc_auc': 0.8306240232681524, 'average_precision': 0.7775063285683255, 'accuracy': 0.763, 'precision': 0.7299430074528716, 'recall': 0.7077577045696068, 'f1': 0.7186791842020073, 'cm': array([[15189,  3696],\n",
      "       [ 4125,  9990]])}\n",
      "----------------------\n",
      "Training Model None\n",
      "Evaluating Model\n",
      "Train metrics:\n",
      "{'roc_auc': 0.9998229874458024, 'average_precision': 0.999782557723913, 'accuracy': 0.9951492537313433, 'precision': 0.9976115208991921, 'recall': 0.9910324854321505, 'f1': 0.9943111204467083, 'cm': array([[38273,    68],\n",
      "       [  257, 28402]])}\n",
      "Validation metrics:\n",
      "{'roc_auc': 0.8071851393546581, 'average_precision': 0.7477038696282681, 'accuracy': 0.7368484848484849, 'precision': 0.6934530170264301, 'recall': 0.6896209705986539, 'f1': 0.6915316851378233, 'cm': array([[14582,  4303],\n",
      "       [ 4381,  9734]])}\n",
      "----------------------\n"
     ]
    }
   ],
   "source": [
    "max_depths_list = [1, 5, 8, 10, 12, 15, 20, None]\n",
    "train_metrics_list = []\n",
    "valid_metrics_list = []\n",
    "train_plots_list = []\n",
    "valid_plots_list = []\n",
    "models_list = []\n",
    "for max_depth in max_depths_list:\n",
    "    run_id = uuid.uuid4()\n",
    "    \n",
    "    print(f\"Training Model {max_depth}\")\n",
    "    model = fit_model_rf(X_train, y_train, max_depth=max_depth)\n",
    "    \n",
    "    print(\"Evaluating Model\")\n",
    "    \n",
    "    train_metrics, train_plots = eval_model(model, X_train, y_train)\n",
    "    print(\"Train metrics:\")\n",
    "    print(train_metrics)\n",
    "    train_metrics['data'] = 'train'\n",
    "    train_metrics['n_est'] = 200\n",
    "    train_metrics['max_depth'] = max_depth\n",
    "    train_metrics['run_id'] = run_id\n",
    "    train_metrics_list.append(train_metrics)\n",
    "    train_plots_list.append(train_plots)\n",
    "    \n",
    "    valid_metrics, valid_plots = eval_model(model, X_valid, y_valid)\n",
    "    print(\"Validation metrics:\")\n",
    "    print(valid_metrics)\n",
    "    valid_metrics['data'] = 'valid'\n",
    "    valid_metrics['n_est'] = 200\n",
    "    valid_metrics['max_depth'] = max_depth\n",
    "    valid_metrics['run_id'] = run_id\n",
    "    valid_metrics_list.append(valid_metrics)\n",
    "    valid_plots_list.append(valid_plots)\n",
    "    \n",
    "    models_list.append(model)\n",
    "    print('----------------------')"
   ]
  },
  {
   "cell_type": "code",
   "execution_count": 46,
   "id": "96976fcf",
   "metadata": {},
   "outputs": [
    {
     "data": {
      "text/html": [
       "<div>\n",
       "<style scoped>\n",
       "    .dataframe tbody tr th:only-of-type {\n",
       "        vertical-align: middle;\n",
       "    }\n",
       "\n",
       "    .dataframe tbody tr th {\n",
       "        vertical-align: top;\n",
       "    }\n",
       "\n",
       "    .dataframe thead th {\n",
       "        text-align: right;\n",
       "    }\n",
       "</style>\n",
       "<table border=\"1\" class=\"dataframe\">\n",
       "  <thead>\n",
       "    <tr style=\"text-align: right;\">\n",
       "      <th></th>\n",
       "      <th>roc_auc</th>\n",
       "      <th>average_precision</th>\n",
       "      <th>accuracy</th>\n",
       "      <th>precision</th>\n",
       "      <th>recall</th>\n",
       "      <th>f1</th>\n",
       "      <th>cm</th>\n",
       "      <th>data</th>\n",
       "      <th>n_est</th>\n",
       "      <th>max_depth</th>\n",
       "    </tr>\n",
       "    <tr>\n",
       "      <th>run_id</th>\n",
       "      <th></th>\n",
       "      <th></th>\n",
       "      <th></th>\n",
       "      <th></th>\n",
       "      <th></th>\n",
       "      <th></th>\n",
       "      <th></th>\n",
       "      <th></th>\n",
       "      <th></th>\n",
       "      <th></th>\n",
       "    </tr>\n",
       "  </thead>\n",
       "  <tbody>\n",
       "    <tr>\n",
       "      <th>3ffbe898-f05c-4307-847a-145ee230b306</th>\n",
       "      <td>0.830164</td>\n",
       "      <td>0.747272</td>\n",
       "      <td>0.743424</td>\n",
       "      <td>0.776375</td>\n",
       "      <td>0.562026</td>\n",
       "      <td>0.652036</td>\n",
       "      <td>[[16600, 2285], [6182, 7933]]</td>\n",
       "      <td>valid</td>\n",
       "      <td>200</td>\n",
       "      <td>1.0</td>\n",
       "    </tr>\n",
       "    <tr>\n",
       "      <th>41fc2fa6-e4b5-4737-9d06-e6c7df94ffca</th>\n",
       "      <td>0.846379</td>\n",
       "      <td>0.796422</td>\n",
       "      <td>0.776182</td>\n",
       "      <td>0.746900</td>\n",
       "      <td>0.721077</td>\n",
       "      <td>0.733761</td>\n",
       "      <td>[[15436, 3449], [3937, 10178]]</td>\n",
       "      <td>valid</td>\n",
       "      <td>200</td>\n",
       "      <td>5.0</td>\n",
       "    </tr>\n",
       "    <tr>\n",
       "      <th>ad88a2c0-8632-4cbe-b836-c6f212f14937</th>\n",
       "      <td>0.849187</td>\n",
       "      <td>0.801229</td>\n",
       "      <td>0.777667</td>\n",
       "      <td>0.755081</td>\n",
       "      <td>0.710733</td>\n",
       "      <td>0.732236</td>\n",
       "      <td>[[15631, 3254], [4083, 10032]]</td>\n",
       "      <td>valid</td>\n",
       "      <td>200</td>\n",
       "      <td>8.0</td>\n",
       "    </tr>\n",
       "    <tr>\n",
       "      <th>b0aaf83d-5278-4843-9deb-73e896cce2ba</th>\n",
       "      <td>0.849424</td>\n",
       "      <td>0.802548</td>\n",
       "      <td>0.778939</td>\n",
       "      <td>0.753532</td>\n",
       "      <td>0.718030</td>\n",
       "      <td>0.735353</td>\n",
       "      <td>[[15570, 3315], [3980, 10135]]</td>\n",
       "      <td>valid</td>\n",
       "      <td>200</td>\n",
       "      <td>10.0</td>\n",
       "    </tr>\n",
       "    <tr>\n",
       "      <th>9f3a8aa0-734e-402e-a492-fbdbce95f4bc</th>\n",
       "      <td>0.848473</td>\n",
       "      <td>0.801509</td>\n",
       "      <td>0.777667</td>\n",
       "      <td>0.748060</td>\n",
       "      <td>0.724052</td>\n",
       "      <td>0.735861</td>\n",
       "      <td>[[15443, 3442], [3895, 10220]]</td>\n",
       "      <td>valid</td>\n",
       "      <td>200</td>\n",
       "      <td>12.0</td>\n",
       "    </tr>\n",
       "    <tr>\n",
       "      <th>9f773b3e-64fe-4dcf-b912-35315478a7cc</th>\n",
       "      <td>0.844222</td>\n",
       "      <td>0.796251</td>\n",
       "      <td>0.773333</td>\n",
       "      <td>0.741290</td>\n",
       "      <td>0.722069</td>\n",
       "      <td>0.731553</td>\n",
       "      <td>[[15328, 3557], [3923, 10192]]</td>\n",
       "      <td>valid</td>\n",
       "      <td>200</td>\n",
       "      <td>15.0</td>\n",
       "    </tr>\n",
       "    <tr>\n",
       "      <th>35ea433f-b4eb-42f4-8bf2-7b1349463622</th>\n",
       "      <td>0.830624</td>\n",
       "      <td>0.777506</td>\n",
       "      <td>0.763000</td>\n",
       "      <td>0.729943</td>\n",
       "      <td>0.707758</td>\n",
       "      <td>0.718679</td>\n",
       "      <td>[[15189, 3696], [4125, 9990]]</td>\n",
       "      <td>valid</td>\n",
       "      <td>200</td>\n",
       "      <td>20.0</td>\n",
       "    </tr>\n",
       "    <tr>\n",
       "      <th>a22a3b5d-8d67-49ea-9932-0184e1d6c9d3</th>\n",
       "      <td>0.807185</td>\n",
       "      <td>0.747704</td>\n",
       "      <td>0.736848</td>\n",
       "      <td>0.693453</td>\n",
       "      <td>0.689621</td>\n",
       "      <td>0.691532</td>\n",
       "      <td>[[14582, 4303], [4381, 9734]]</td>\n",
       "      <td>valid</td>\n",
       "      <td>200</td>\n",
       "      <td>NaN</td>\n",
       "    </tr>\n",
       "  </tbody>\n",
       "</table>\n",
       "</div>"
      ],
      "text/plain": [
       "                                       roc_auc  average_precision  accuracy  \\\n",
       "run_id                                                                        \n",
       "3ffbe898-f05c-4307-847a-145ee230b306  0.830164           0.747272  0.743424   \n",
       "41fc2fa6-e4b5-4737-9d06-e6c7df94ffca  0.846379           0.796422  0.776182   \n",
       "ad88a2c0-8632-4cbe-b836-c6f212f14937  0.849187           0.801229  0.777667   \n",
       "b0aaf83d-5278-4843-9deb-73e896cce2ba  0.849424           0.802548  0.778939   \n",
       "9f3a8aa0-734e-402e-a492-fbdbce95f4bc  0.848473           0.801509  0.777667   \n",
       "9f773b3e-64fe-4dcf-b912-35315478a7cc  0.844222           0.796251  0.773333   \n",
       "35ea433f-b4eb-42f4-8bf2-7b1349463622  0.830624           0.777506  0.763000   \n",
       "a22a3b5d-8d67-49ea-9932-0184e1d6c9d3  0.807185           0.747704  0.736848   \n",
       "\n",
       "                                      precision    recall        f1  \\\n",
       "run_id                                                                \n",
       "3ffbe898-f05c-4307-847a-145ee230b306   0.776375  0.562026  0.652036   \n",
       "41fc2fa6-e4b5-4737-9d06-e6c7df94ffca   0.746900  0.721077  0.733761   \n",
       "ad88a2c0-8632-4cbe-b836-c6f212f14937   0.755081  0.710733  0.732236   \n",
       "b0aaf83d-5278-4843-9deb-73e896cce2ba   0.753532  0.718030  0.735353   \n",
       "9f3a8aa0-734e-402e-a492-fbdbce95f4bc   0.748060  0.724052  0.735861   \n",
       "9f773b3e-64fe-4dcf-b912-35315478a7cc   0.741290  0.722069  0.731553   \n",
       "35ea433f-b4eb-42f4-8bf2-7b1349463622   0.729943  0.707758  0.718679   \n",
       "a22a3b5d-8d67-49ea-9932-0184e1d6c9d3   0.693453  0.689621  0.691532   \n",
       "\n",
       "                                                                  cm   data  \\\n",
       "run_id                                                                        \n",
       "3ffbe898-f05c-4307-847a-145ee230b306   [[16600, 2285], [6182, 7933]]  valid   \n",
       "41fc2fa6-e4b5-4737-9d06-e6c7df94ffca  [[15436, 3449], [3937, 10178]]  valid   \n",
       "ad88a2c0-8632-4cbe-b836-c6f212f14937  [[15631, 3254], [4083, 10032]]  valid   \n",
       "b0aaf83d-5278-4843-9deb-73e896cce2ba  [[15570, 3315], [3980, 10135]]  valid   \n",
       "9f3a8aa0-734e-402e-a492-fbdbce95f4bc  [[15443, 3442], [3895, 10220]]  valid   \n",
       "9f773b3e-64fe-4dcf-b912-35315478a7cc  [[15328, 3557], [3923, 10192]]  valid   \n",
       "35ea433f-b4eb-42f4-8bf2-7b1349463622   [[15189, 3696], [4125, 9990]]  valid   \n",
       "a22a3b5d-8d67-49ea-9932-0184e1d6c9d3   [[14582, 4303], [4381, 9734]]  valid   \n",
       "\n",
       "                                      n_est  max_depth  \n",
       "run_id                                                  \n",
       "3ffbe898-f05c-4307-847a-145ee230b306    200        1.0  \n",
       "41fc2fa6-e4b5-4737-9d06-e6c7df94ffca    200        5.0  \n",
       "ad88a2c0-8632-4cbe-b836-c6f212f14937    200        8.0  \n",
       "b0aaf83d-5278-4843-9deb-73e896cce2ba    200       10.0  \n",
       "9f3a8aa0-734e-402e-a492-fbdbce95f4bc    200       12.0  \n",
       "9f773b3e-64fe-4dcf-b912-35315478a7cc    200       15.0  \n",
       "35ea433f-b4eb-42f4-8bf2-7b1349463622    200       20.0  \n",
       "a22a3b5d-8d67-49ea-9932-0184e1d6c9d3    200        NaN  "
      ]
     },
     "execution_count": 46,
     "metadata": {},
     "output_type": "execute_result"
    }
   ],
   "source": [
    "valid_resudf = pd.DataFrame.from_records(valid_metrics_list).set_index('run_id')\n",
    "valid_resudf"
   ]
  },
  {
   "cell_type": "markdown",
   "id": "ba44cd60",
   "metadata": {},
   "source": [
    "## Best Model and Inference"
   ]
  },
  {
   "cell_type": "code",
   "execution_count": 47,
   "id": "4779e476",
   "metadata": {},
   "outputs": [
    {
     "data": {
      "text/html": [
       "<div>\n",
       "<style scoped>\n",
       "    .dataframe tbody tr th:only-of-type {\n",
       "        vertical-align: middle;\n",
       "    }\n",
       "\n",
       "    .dataframe tbody tr th {\n",
       "        vertical-align: top;\n",
       "    }\n",
       "\n",
       "    .dataframe thead th {\n",
       "        text-align: right;\n",
       "    }\n",
       "</style>\n",
       "<table border=\"1\" class=\"dataframe\">\n",
       "  <thead>\n",
       "    <tr style=\"text-align: right;\">\n",
       "      <th></th>\n",
       "      <th>roc_auc</th>\n",
       "      <th>average_precision</th>\n",
       "      <th>accuracy</th>\n",
       "      <th>precision</th>\n",
       "      <th>recall</th>\n",
       "      <th>f1</th>\n",
       "      <th>cm</th>\n",
       "      <th>data</th>\n",
       "      <th>n_est</th>\n",
       "      <th>max_depth</th>\n",
       "    </tr>\n",
       "    <tr>\n",
       "      <th>run_id</th>\n",
       "      <th></th>\n",
       "      <th></th>\n",
       "      <th></th>\n",
       "      <th></th>\n",
       "      <th></th>\n",
       "      <th></th>\n",
       "      <th></th>\n",
       "      <th></th>\n",
       "      <th></th>\n",
       "      <th></th>\n",
       "    </tr>\n",
       "  </thead>\n",
       "  <tbody>\n",
       "    <tr>\n",
       "      <th>3ffbe898-f05c-4307-847a-145ee230b306</th>\n",
       "      <td>0.830164</td>\n",
       "      <td>0.747272</td>\n",
       "      <td>0.743424</td>\n",
       "      <td>0.776375</td>\n",
       "      <td>0.562026</td>\n",
       "      <td>0.652036</td>\n",
       "      <td>[[16600, 2285], [6182, 7933]]</td>\n",
       "      <td>valid</td>\n",
       "      <td>200</td>\n",
       "      <td>1.0</td>\n",
       "    </tr>\n",
       "    <tr>\n",
       "      <th>a22a3b5d-8d67-49ea-9932-0184e1d6c9d3</th>\n",
       "      <td>0.807185</td>\n",
       "      <td>0.747704</td>\n",
       "      <td>0.736848</td>\n",
       "      <td>0.693453</td>\n",
       "      <td>0.689621</td>\n",
       "      <td>0.691532</td>\n",
       "      <td>[[14582, 4303], [4381, 9734]]</td>\n",
       "      <td>valid</td>\n",
       "      <td>200</td>\n",
       "      <td>NaN</td>\n",
       "    </tr>\n",
       "    <tr>\n",
       "      <th>35ea433f-b4eb-42f4-8bf2-7b1349463622</th>\n",
       "      <td>0.830624</td>\n",
       "      <td>0.777506</td>\n",
       "      <td>0.763000</td>\n",
       "      <td>0.729943</td>\n",
       "      <td>0.707758</td>\n",
       "      <td>0.718679</td>\n",
       "      <td>[[15189, 3696], [4125, 9990]]</td>\n",
       "      <td>valid</td>\n",
       "      <td>200</td>\n",
       "      <td>20.0</td>\n",
       "    </tr>\n",
       "    <tr>\n",
       "      <th>9f773b3e-64fe-4dcf-b912-35315478a7cc</th>\n",
       "      <td>0.844222</td>\n",
       "      <td>0.796251</td>\n",
       "      <td>0.773333</td>\n",
       "      <td>0.741290</td>\n",
       "      <td>0.722069</td>\n",
       "      <td>0.731553</td>\n",
       "      <td>[[15328, 3557], [3923, 10192]]</td>\n",
       "      <td>valid</td>\n",
       "      <td>200</td>\n",
       "      <td>15.0</td>\n",
       "    </tr>\n",
       "    <tr>\n",
       "      <th>ad88a2c0-8632-4cbe-b836-c6f212f14937</th>\n",
       "      <td>0.849187</td>\n",
       "      <td>0.801229</td>\n",
       "      <td>0.777667</td>\n",
       "      <td>0.755081</td>\n",
       "      <td>0.710733</td>\n",
       "      <td>0.732236</td>\n",
       "      <td>[[15631, 3254], [4083, 10032]]</td>\n",
       "      <td>valid</td>\n",
       "      <td>200</td>\n",
       "      <td>8.0</td>\n",
       "    </tr>\n",
       "    <tr>\n",
       "      <th>41fc2fa6-e4b5-4737-9d06-e6c7df94ffca</th>\n",
       "      <td>0.846379</td>\n",
       "      <td>0.796422</td>\n",
       "      <td>0.776182</td>\n",
       "      <td>0.746900</td>\n",
       "      <td>0.721077</td>\n",
       "      <td>0.733761</td>\n",
       "      <td>[[15436, 3449], [3937, 10178]]</td>\n",
       "      <td>valid</td>\n",
       "      <td>200</td>\n",
       "      <td>5.0</td>\n",
       "    </tr>\n",
       "    <tr>\n",
       "      <th>b0aaf83d-5278-4843-9deb-73e896cce2ba</th>\n",
       "      <td>0.849424</td>\n",
       "      <td>0.802548</td>\n",
       "      <td>0.778939</td>\n",
       "      <td>0.753532</td>\n",
       "      <td>0.718030</td>\n",
       "      <td>0.735353</td>\n",
       "      <td>[[15570, 3315], [3980, 10135]]</td>\n",
       "      <td>valid</td>\n",
       "      <td>200</td>\n",
       "      <td>10.0</td>\n",
       "    </tr>\n",
       "    <tr>\n",
       "      <th>9f3a8aa0-734e-402e-a492-fbdbce95f4bc</th>\n",
       "      <td>0.848473</td>\n",
       "      <td>0.801509</td>\n",
       "      <td>0.777667</td>\n",
       "      <td>0.748060</td>\n",
       "      <td>0.724052</td>\n",
       "      <td>0.735861</td>\n",
       "      <td>[[15443, 3442], [3895, 10220]]</td>\n",
       "      <td>valid</td>\n",
       "      <td>200</td>\n",
       "      <td>12.0</td>\n",
       "    </tr>\n",
       "  </tbody>\n",
       "</table>\n",
       "</div>"
      ],
      "text/plain": [
       "                                       roc_auc  average_precision  accuracy  \\\n",
       "run_id                                                                        \n",
       "3ffbe898-f05c-4307-847a-145ee230b306  0.830164           0.747272  0.743424   \n",
       "a22a3b5d-8d67-49ea-9932-0184e1d6c9d3  0.807185           0.747704  0.736848   \n",
       "35ea433f-b4eb-42f4-8bf2-7b1349463622  0.830624           0.777506  0.763000   \n",
       "9f773b3e-64fe-4dcf-b912-35315478a7cc  0.844222           0.796251  0.773333   \n",
       "ad88a2c0-8632-4cbe-b836-c6f212f14937  0.849187           0.801229  0.777667   \n",
       "41fc2fa6-e4b5-4737-9d06-e6c7df94ffca  0.846379           0.796422  0.776182   \n",
       "b0aaf83d-5278-4843-9deb-73e896cce2ba  0.849424           0.802548  0.778939   \n",
       "9f3a8aa0-734e-402e-a492-fbdbce95f4bc  0.848473           0.801509  0.777667   \n",
       "\n",
       "                                      precision    recall        f1  \\\n",
       "run_id                                                                \n",
       "3ffbe898-f05c-4307-847a-145ee230b306   0.776375  0.562026  0.652036   \n",
       "a22a3b5d-8d67-49ea-9932-0184e1d6c9d3   0.693453  0.689621  0.691532   \n",
       "35ea433f-b4eb-42f4-8bf2-7b1349463622   0.729943  0.707758  0.718679   \n",
       "9f773b3e-64fe-4dcf-b912-35315478a7cc   0.741290  0.722069  0.731553   \n",
       "ad88a2c0-8632-4cbe-b836-c6f212f14937   0.755081  0.710733  0.732236   \n",
       "41fc2fa6-e4b5-4737-9d06-e6c7df94ffca   0.746900  0.721077  0.733761   \n",
       "b0aaf83d-5278-4843-9deb-73e896cce2ba   0.753532  0.718030  0.735353   \n",
       "9f3a8aa0-734e-402e-a492-fbdbce95f4bc   0.748060  0.724052  0.735861   \n",
       "\n",
       "                                                                  cm   data  \\\n",
       "run_id                                                                        \n",
       "3ffbe898-f05c-4307-847a-145ee230b306   [[16600, 2285], [6182, 7933]]  valid   \n",
       "a22a3b5d-8d67-49ea-9932-0184e1d6c9d3   [[14582, 4303], [4381, 9734]]  valid   \n",
       "35ea433f-b4eb-42f4-8bf2-7b1349463622   [[15189, 3696], [4125, 9990]]  valid   \n",
       "9f773b3e-64fe-4dcf-b912-35315478a7cc  [[15328, 3557], [3923, 10192]]  valid   \n",
       "ad88a2c0-8632-4cbe-b836-c6f212f14937  [[15631, 3254], [4083, 10032]]  valid   \n",
       "41fc2fa6-e4b5-4737-9d06-e6c7df94ffca  [[15436, 3449], [3937, 10178]]  valid   \n",
       "b0aaf83d-5278-4843-9deb-73e896cce2ba  [[15570, 3315], [3980, 10135]]  valid   \n",
       "9f3a8aa0-734e-402e-a492-fbdbce95f4bc  [[15443, 3442], [3895, 10220]]  valid   \n",
       "\n",
       "                                      n_est  max_depth  \n",
       "run_id                                                  \n",
       "3ffbe898-f05c-4307-847a-145ee230b306    200        1.0  \n",
       "a22a3b5d-8d67-49ea-9932-0184e1d6c9d3    200        NaN  \n",
       "35ea433f-b4eb-42f4-8bf2-7b1349463622    200       20.0  \n",
       "9f773b3e-64fe-4dcf-b912-35315478a7cc    200       15.0  \n",
       "ad88a2c0-8632-4cbe-b836-c6f212f14937    200        8.0  \n",
       "41fc2fa6-e4b5-4737-9d06-e6c7df94ffca    200        5.0  \n",
       "b0aaf83d-5278-4843-9deb-73e896cce2ba    200       10.0  \n",
       "9f3a8aa0-734e-402e-a492-fbdbce95f4bc    200       12.0  "
      ]
     },
     "execution_count": 47,
     "metadata": {},
     "output_type": "execute_result"
    }
   ],
   "source": [
    "valid_resudf.sort_values('f1')"
   ]
  },
  {
   "cell_type": "code",
   "execution_count": 53,
   "id": "b5fb3a50",
   "metadata": {},
   "outputs": [
    {
     "data": {
      "text/plain": [
       "4"
      ]
     },
     "execution_count": 53,
     "metadata": {},
     "output_type": "execute_result"
    }
   ],
   "source": [
    "best_max_depth = valid_resudf.sort_values('f1').iloc[-1].max_depth\n",
    "best_index = max_depths_list.index(best_max_depth)\n",
    "best_index"
   ]
  },
  {
   "cell_type": "code",
   "execution_count": 54,
   "id": "338dd082",
   "metadata": {},
   "outputs": [
    {
     "name": "stderr",
     "output_type": "stream",
     "text": [
      "/Users/rahul/miniforge3/envs/ml1-arm64/lib/python3.9/site-packages/sklearn/base.py:450: UserWarning: X does not have valid feature names, but RandomForestClassifier was fitted with feature names\n",
      "  warnings.warn(\n"
     ]
    },
    {
     "data": {
      "text/plain": [
       "array([1])"
      ]
     },
     "execution_count": 54,
     "metadata": {},
     "output_type": "execute_result"
    }
   ],
   "source": [
    "models_list[best_index].predict(inputX.reshape(1,-1))"
   ]
  },
  {
   "cell_type": "code",
   "execution_count": 55,
   "id": "459b628e",
   "metadata": {},
   "outputs": [
    {
     "data": {
      "text/plain": [
       "array([0, 1, 0, ..., 0, 0, 1])"
      ]
     },
     "execution_count": 55,
     "metadata": {},
     "output_type": "execute_result"
    }
   ],
   "source": [
    "models_list[best_index].predict(X_valid)"
   ]
  }
 ],
 "metadata": {
  "kernelspec": {
   "display_name": "ml1-arm64",
   "language": "python",
   "name": "ml1-arm64"
  },
  "language_info": {
   "codemirror_mode": {
    "name": "ipython",
    "version": 3
   },
   "file_extension": ".py",
   "mimetype": "text/x-python",
   "name": "python",
   "nbconvert_exporter": "python",
   "pygments_lexer": "ipython3",
   "version": "3.9.13"
  }
 },
 "nbformat": 4,
 "nbformat_minor": 5
}
